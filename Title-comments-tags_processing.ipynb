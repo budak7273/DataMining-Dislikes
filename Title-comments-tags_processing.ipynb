{
 "cells": [
  {
   "cell_type": "code",
   "execution_count": 18,
   "id": "ba27981c",
   "metadata": {},
   "outputs": [],
   "source": [
    "import pandas as pd\n",
    "from sklearn.naive_bayes import MultinomialNB\n",
    "from sklearn import tree\n",
    "from sklearn.feature_extraction.text import CountVectorizer, TfidfVectorizer\n",
    "from sklearn.model_selection import GridSearchCV\n",
    "import graphviz"
   ]
  },
  {
   "cell_type": "code",
   "execution_count": 2,
   "id": "74f871de",
   "metadata": {},
   "outputs": [
    {
     "name": "stderr",
     "output_type": "stream",
     "text": [
      "C:\\Users\\moyersjm\\anaconda3\\lib\\site-packages\\IPython\\core\\interactiveshell.py:3444: DtypeWarning: Columns (3,4,5,12,13,14,15,17,18,19,20) have mixed types.Specify dtype option on import or set low_memory=False.\n",
      "  exec(code_obj, self.user_global_ns, self.user_ns)\n"
     ]
    },
    {
     "data": {
      "text/html": [
       "<div>\n",
       "<style scoped>\n",
       "    .dataframe tbody tr th:only-of-type {\n",
       "        vertical-align: middle;\n",
       "    }\n",
       "\n",
       "    .dataframe tbody tr th {\n",
       "        vertical-align: top;\n",
       "    }\n",
       "\n",
       "    .dataframe thead th {\n",
       "        text-align: right;\n",
       "    }\n",
       "</style>\n",
       "<table border=\"1\" class=\"dataframe\">\n",
       "  <thead>\n",
       "    <tr style=\"text-align: right;\">\n",
       "      <th></th>\n",
       "      <th>Unnamed: 0</th>\n",
       "      <th>video_id</th>\n",
       "      <th>title</th>\n",
       "      <th>channel_id</th>\n",
       "      <th>channel_title</th>\n",
       "      <th>published_at</th>\n",
       "      <th>view_count</th>\n",
       "      <th>likes</th>\n",
       "      <th>dislikes</th>\n",
       "      <th>comment_count</th>\n",
       "      <th>...</th>\n",
       "      <th>description</th>\n",
       "      <th>comments</th>\n",
       "      <th>publishedAt</th>\n",
       "      <th>channelId</th>\n",
       "      <th>channelTitle</th>\n",
       "      <th>categoryId</th>\n",
       "      <th>trending_date</th>\n",
       "      <th>thumbnail_link</th>\n",
       "      <th>comments_disabled</th>\n",
       "      <th>ratings_disabled</th>\n",
       "    </tr>\n",
       "  </thead>\n",
       "  <tbody>\n",
       "    <tr>\n",
       "      <th>0</th>\n",
       "      <td>0</td>\n",
       "      <td>--0bCF-iK2E</td>\n",
       "      <td>Jadon Sancho  Magical Skills &amp; Goals</td>\n",
       "      <td>UC6UL29enLNe4mqwTfAyeNuw</td>\n",
       "      <td>Bundesliga</td>\n",
       "      <td>2021-07-01 10:00:00</td>\n",
       "      <td>1048888</td>\n",
       "      <td>19515</td>\n",
       "      <td>226</td>\n",
       "      <td>1319</td>\n",
       "      <td>...</td>\n",
       "      <td>Enjoy the best skills and goals from Jadon San...</td>\n",
       "      <td>Respect to Dortmund fans,must be sad losing hi...</td>\n",
       "      <td>NaN</td>\n",
       "      <td>NaN</td>\n",
       "      <td>NaN</td>\n",
       "      <td>NaN</td>\n",
       "      <td>NaN</td>\n",
       "      <td>NaN</td>\n",
       "      <td>NaN</td>\n",
       "      <td>NaN</td>\n",
       "    </tr>\n",
       "    <tr>\n",
       "      <th>1</th>\n",
       "      <td>1</td>\n",
       "      <td>--14w5SOEUs</td>\n",
       "      <td>Migos - Avalanche (Official Video)</td>\n",
       "      <td>UCGIelM2Dj3zza3xyV3pL3WQ</td>\n",
       "      <td>MigosVEVO</td>\n",
       "      <td>2021-06-10 16:00:00</td>\n",
       "      <td>15352638</td>\n",
       "      <td>359277</td>\n",
       "      <td>7479</td>\n",
       "      <td>18729</td>\n",
       "      <td>...</td>\n",
       "      <td>Watch the the official video for Migos - \"Aval...</td>\n",
       "      <td>Migos just makes me want to live my live to th...</td>\n",
       "      <td>NaN</td>\n",
       "      <td>NaN</td>\n",
       "      <td>NaN</td>\n",
       "      <td>NaN</td>\n",
       "      <td>NaN</td>\n",
       "      <td>NaN</td>\n",
       "      <td>NaN</td>\n",
       "      <td>NaN</td>\n",
       "    </tr>\n",
       "    <tr>\n",
       "      <th>2</th>\n",
       "      <td>2</td>\n",
       "      <td>--40TEbZ9Is</td>\n",
       "      <td>Supporting Actress in a Comedy: 73rd Emmys</td>\n",
       "      <td>UClBKH8yZRcM4AsRjDVEdjMg</td>\n",
       "      <td>Television Academy</td>\n",
       "      <td>2021-09-20 01:03:32</td>\n",
       "      <td>925281</td>\n",
       "      <td>11212</td>\n",
       "      <td>401</td>\n",
       "      <td>831</td>\n",
       "      <td>...</td>\n",
       "      <td>Hannah Waddingham wins the Emmy for Supporting...</td>\n",
       "      <td>Hannah's energy bursts through any screen. Wel...</td>\n",
       "      <td>NaN</td>\n",
       "      <td>NaN</td>\n",
       "      <td>NaN</td>\n",
       "      <td>NaN</td>\n",
       "      <td>NaN</td>\n",
       "      <td>NaN</td>\n",
       "      <td>NaN</td>\n",
       "      <td>NaN</td>\n",
       "    </tr>\n",
       "  </tbody>\n",
       "</table>\n",
       "<p>3 rows × 21 columns</p>\n",
       "</div>"
      ],
      "text/plain": [
       "   Unnamed: 0     video_id                                       title  \\\n",
       "0           0  --0bCF-iK2E        Jadon Sancho  Magical Skills & Goals   \n",
       "1           1  --14w5SOEUs          Migos - Avalanche (Official Video)   \n",
       "2           2  --40TEbZ9Is  Supporting Actress in a Comedy: 73rd Emmys   \n",
       "\n",
       "                 channel_id       channel_title         published_at  \\\n",
       "0  UC6UL29enLNe4mqwTfAyeNuw          Bundesliga  2021-07-01 10:00:00   \n",
       "1  UCGIelM2Dj3zza3xyV3pL3WQ           MigosVEVO  2021-06-10 16:00:00   \n",
       "2  UClBKH8yZRcM4AsRjDVEdjMg  Television Academy  2021-09-20 01:03:32   \n",
       "\n",
       "   view_count   likes  dislikes  comment_count  ...  \\\n",
       "0     1048888   19515       226           1319  ...   \n",
       "1    15352638  359277      7479          18729  ...   \n",
       "2      925281   11212       401            831  ...   \n",
       "\n",
       "                                         description  \\\n",
       "0  Enjoy the best skills and goals from Jadon San...   \n",
       "1  Watch the the official video for Migos - \"Aval...   \n",
       "2  Hannah Waddingham wins the Emmy for Supporting...   \n",
       "\n",
       "                                            comments publishedAt channelId  \\\n",
       "0  Respect to Dortmund fans,must be sad losing hi...         NaN       NaN   \n",
       "1  Migos just makes me want to live my live to th...         NaN       NaN   \n",
       "2  Hannah's energy bursts through any screen. Wel...         NaN       NaN   \n",
       "\n",
       "  channelTitle categoryId  trending_date thumbnail_link comments_disabled  \\\n",
       "0          NaN        NaN            NaN            NaN               NaN   \n",
       "1          NaN        NaN            NaN            NaN               NaN   \n",
       "2          NaN        NaN            NaN            NaN               NaN   \n",
       "\n",
       "  ratings_disabled  \n",
       "0              NaN  \n",
       "1              NaN  \n",
       "2              NaN  \n",
       "\n",
       "[3 rows x 21 columns]"
      ]
     },
     "execution_count": 2,
     "metadata": {},
     "output_type": "execute_result"
    }
   ],
   "source": [
    "df = pd.read_csv('../master_data.csv')\n",
    "df.head(3)"
   ]
  },
  {
   "cell_type": "code",
   "execution_count": 3,
   "id": "f1add395",
   "metadata": {},
   "outputs": [],
   "source": [
    "df.channel_id.fillna(df.channelId,inplace=True)\n",
    "df.channel_title.fillna(df.channelTitle,inplace=True)\n",
    "df.published_at.fillna(df.publishedAt,inplace=True)"
   ]
  },
  {
   "cell_type": "code",
   "execution_count": 16,
   "id": "326f5dee",
   "metadata": {},
   "outputs": [
    {
     "data": {
      "text/html": [
       "<div>\n",
       "<style scoped>\n",
       "    .dataframe tbody tr th:only-of-type {\n",
       "        vertical-align: middle;\n",
       "    }\n",
       "\n",
       "    .dataframe tbody tr th {\n",
       "        vertical-align: top;\n",
       "    }\n",
       "\n",
       "    .dataframe thead th {\n",
       "        text-align: right;\n",
       "    }\n",
       "</style>\n",
       "<table border=\"1\" class=\"dataframe\">\n",
       "  <thead>\n",
       "    <tr style=\"text-align: right;\">\n",
       "      <th></th>\n",
       "      <th>title</th>\n",
       "      <th>channel_title</th>\n",
       "      <th>published_at</th>\n",
       "      <th>view_count</th>\n",
       "      <th>likes</th>\n",
       "      <th>dislikes</th>\n",
       "      <th>comment_count</th>\n",
       "      <th>tags</th>\n",
       "      <th>description</th>\n",
       "      <th>comments</th>\n",
       "    </tr>\n",
       "  </thead>\n",
       "  <tbody>\n",
       "    <tr>\n",
       "      <th>0</th>\n",
       "      <td>Jadon Sancho  Magical Skills &amp; Goals</td>\n",
       "      <td>Bundesliga</td>\n",
       "      <td>2021-07-01 10:00:00</td>\n",
       "      <td>1048888</td>\n",
       "      <td>19515</td>\n",
       "      <td>226</td>\n",
       "      <td>1319</td>\n",
       "      <td>football soccer ftbol alemn Bundesliga season ...</td>\n",
       "      <td>Enjoy the best skills and goals from Jadon San...</td>\n",
       "      <td>Respect to Dortmund fans,must be sad losing hi...</td>\n",
       "    </tr>\n",
       "    <tr>\n",
       "      <th>1</th>\n",
       "      <td>Migos - Avalanche (Official Video)</td>\n",
       "      <td>MigosVEVO</td>\n",
       "      <td>2021-06-10 16:00:00</td>\n",
       "      <td>15352638</td>\n",
       "      <td>359277</td>\n",
       "      <td>7479</td>\n",
       "      <td>18729</td>\n",
       "      <td>Migos Avalanche Quality Control Music/Motown R...</td>\n",
       "      <td>Watch the the official video for Migos - \"Aval...</td>\n",
       "      <td>Migos just makes me want to live my live to th...</td>\n",
       "    </tr>\n",
       "    <tr>\n",
       "      <th>2</th>\n",
       "      <td>Supporting Actress in a Comedy: 73rd Emmys</td>\n",
       "      <td>Television Academy</td>\n",
       "      <td>2021-09-20 01:03:32</td>\n",
       "      <td>925281</td>\n",
       "      <td>11212</td>\n",
       "      <td>401</td>\n",
       "      <td>831</td>\n",
       "      <td></td>\n",
       "      <td>Hannah Waddingham wins the Emmy for Supporting...</td>\n",
       "      <td>Hannah's energy bursts through any screen. Wel...</td>\n",
       "    </tr>\n",
       "  </tbody>\n",
       "</table>\n",
       "</div>"
      ],
      "text/plain": [
       "                                        title       channel_title  \\\n",
       "0        Jadon Sancho  Magical Skills & Goals          Bundesliga   \n",
       "1          Migos - Avalanche (Official Video)           MigosVEVO   \n",
       "2  Supporting Actress in a Comedy: 73rd Emmys  Television Academy   \n",
       "\n",
       "          published_at  view_count   likes  dislikes  comment_count  \\\n",
       "0  2021-07-01 10:00:00     1048888   19515       226           1319   \n",
       "1  2021-06-10 16:00:00    15352638  359277      7479          18729   \n",
       "2  2021-09-20 01:03:32      925281   11212       401            831   \n",
       "\n",
       "                                                tags  \\\n",
       "0  football soccer ftbol alemn Bundesliga season ...   \n",
       "1  Migos Avalanche Quality Control Music/Motown R...   \n",
       "2                                                      \n",
       "\n",
       "                                         description  \\\n",
       "0  Enjoy the best skills and goals from Jadon San...   \n",
       "1  Watch the the official video for Migos - \"Aval...   \n",
       "2  Hannah Waddingham wins the Emmy for Supporting...   \n",
       "\n",
       "                                            comments  \n",
       "0  Respect to Dortmund fans,must be sad losing hi...  \n",
       "1  Migos just makes me want to live my live to th...  \n",
       "2  Hannah's energy bursts through any screen. Wel...  "
      ]
     },
     "execution_count": 16,
     "metadata": {},
     "output_type": "execute_result"
    }
   ],
   "source": [
    "features = df.drop(['Unnamed: 0','video_id',\n",
    "                    #'title',\n",
    "                    'channel_id',\n",
    "                    #'tags',\n",
    "                    #'description',\n",
    "                    #'comments',\n",
    "                    'publishedAt',\n",
    "                    'channelId', 'channelTitle',\n",
    "                    'categoryId','trending_date',\n",
    "                   'thumbnail_link','comments_disabled',\n",
    "                   'ratings_disabled'], axis=1)\n",
    "features = features.dropna()\n",
    "#target = features.dislikes\n",
    "#features = features.drop('dislikes',axis=1)\n",
    "features.head(3)"
   ]
  },
  {
   "cell_type": "code",
   "execution_count": 17,
   "id": "f59a63ae",
   "metadata": {},
   "outputs": [],
   "source": [
    "# target = features.dislikes / features.likes\n",
    "target = features.dislikes / features.view_count"
   ]
  },
  {
   "cell_type": "code",
   "execution_count": 19,
   "id": "067048cb",
   "metadata": {},
   "outputs": [],
   "source": [
    "corpus = pd.DataFrame()\n",
    "corpus['dislike_to_view'] = target\n",
    "corpus['dislike_to_view_bins'] = pd.qcut(target,q=7,labels=['very-low','low','mid-low','mid','mid-high','high','very-high'])\n",
    "corpus['comments'] = features.comments\n",
    "corpus['description'] = features.description\n",
    "corpus['tags'] = features.tags\n",
    "Vectorizer = TfidfVectorizer(analyzer='word',stop_words='english')"
   ]
  },
  {
   "cell_type": "code",
   "execution_count": 24,
   "id": "ae44d3d8",
   "metadata": {},
   "outputs": [],
   "source": [
    "tfidf = Vectorizer.fit_transform(corpus.tags)"
   ]
  },
  {
   "cell_type": "code",
   "execution_count": 25,
   "id": "1406cbf3",
   "metadata": {},
   "outputs": [],
   "source": [
    "parameters = {'alpha':[.001,.001,.01,.1,1,10,100,1000,10000]}\n",
    "NBayes = MultinomialNB()\n",
    "NBayesCV = GridSearchCV(NBayes,\n",
    "                       param_grid=parameters,\n",
    "                       return_train_score=True,\n",
    "                       n_jobs=4)"
   ]
  },
  {
   "cell_type": "code",
   "execution_count": 26,
   "id": "ca250645",
   "metadata": {},
   "outputs": [
    {
     "data": {
      "text/plain": [
       "GridSearchCV(estimator=MultinomialNB(), n_jobs=4,\n",
       "             param_grid={'alpha': [0.001, 0.001, 0.01, 0.1, 1, 10, 100, 1000,\n",
       "                                   10000]},\n",
       "             return_train_score=True)"
      ]
     },
     "execution_count": 26,
     "metadata": {},
     "output_type": "execute_result"
    }
   ],
   "source": [
    "NBayesCV.fit(tfidf, corpus.dislike_to_view_bins)"
   ]
  },
  {
   "cell_type": "code",
   "execution_count": 27,
   "id": "475c08ef",
   "metadata": {},
   "outputs": [
    {
     "data": {
      "text/plain": [
       "{'alpha': 0.1}"
      ]
     },
     "execution_count": 27,
     "metadata": {},
     "output_type": "execute_result"
    }
   ],
   "source": [
    "NBayesCV.best_params_"
   ]
  },
  {
   "cell_type": "code",
   "execution_count": 28,
   "id": "9d1eda7e",
   "metadata": {},
   "outputs": [
    {
     "data": {
      "text/plain": [
       "0.3196384154082348"
      ]
     },
     "execution_count": 28,
     "metadata": {},
     "output_type": "execute_result"
    }
   ],
   "source": [
    "NBayesCV.best_score_"
   ]
  },
  {
   "cell_type": "code",
   "execution_count": 34,
   "id": "8a3da313",
   "metadata": {},
   "outputs": [
    {
     "data": {
      "text/plain": [
       "0.14285714285714285"
      ]
     },
     "execution_count": 34,
     "metadata": {},
     "output_type": "execute_result"
    }
   ],
   "source": [
    "1/7"
   ]
  },
  {
   "cell_type": "markdown",
   "id": "bf26fa16",
   "metadata": {},
   "source": [
    "Using tags as a predictor is only twice as effective versus baseline"
   ]
  },
  {
   "cell_type": "code",
   "execution_count": 35,
   "id": "c9558f76",
   "metadata": {},
   "outputs": [
    {
     "data": {
      "text/plain": [
       "GridSearchCV(estimator=MultinomialNB(), n_jobs=4,\n",
       "             param_grid={'alpha': [0.001, 0.001, 0.01, 0.1, 1, 10, 100, 1000,\n",
       "                                   10000]},\n",
       "             return_train_score=True)"
      ]
     },
     "execution_count": 35,
     "metadata": {},
     "output_type": "execute_result"
    }
   ],
   "source": [
    "tfidf = Vectorizer.fit_transform(corpus.description)\n",
    "NBayes = MultinomialNB()\n",
    "NBayesCV = GridSearchCV(NBayes,\n",
    "                       param_grid=parameters,\n",
    "                       return_train_score=True,\n",
    "                       n_jobs=4)\n",
    "NBayesCV.fit(tfidf, corpus.dislike_to_view_bins)"
   ]
  },
  {
   "cell_type": "code",
   "execution_count": 36,
   "id": "fc8249c5",
   "metadata": {},
   "outputs": [
    {
     "data": {
      "text/plain": [
       "0.3558127947123138"
      ]
     },
     "execution_count": 36,
     "metadata": {},
     "output_type": "execute_result"
    }
   ],
   "source": [
    "NBayesCV.best_score_"
   ]
  },
  {
   "cell_type": "markdown",
   "id": "f881cd1a",
   "metadata": {},
   "source": [
    "Description isn't much better"
   ]
  },
  {
   "cell_type": "code",
   "execution_count": 37,
   "id": "56fa3727",
   "metadata": {},
   "outputs": [
    {
     "data": {
      "text/plain": [
       "GridSearchCV(estimator=MultinomialNB(), n_jobs=4,\n",
       "             param_grid={'alpha': [0.001, 0.001, 0.01, 0.1, 1, 10, 100, 1000,\n",
       "                                   10000]},\n",
       "             return_train_score=True)"
      ]
     },
     "execution_count": 37,
     "metadata": {},
     "output_type": "execute_result"
    }
   ],
   "source": [
    "tfidf = Vectorizer.fit_transform(corpus.comments)\n",
    "NBayes = MultinomialNB()\n",
    "NBayesCV = GridSearchCV(NBayes,\n",
    "                       param_grid=parameters,\n",
    "                       return_train_score=True,\n",
    "                       n_jobs=4)\n",
    "NBayesCV.fit(tfidf, corpus.dislike_to_view_bins)"
   ]
  },
  {
   "cell_type": "code",
   "execution_count": 38,
   "id": "7603ba6a",
   "metadata": {},
   "outputs": [
    {
     "data": {
      "text/plain": [
       "0.30383222065289595"
      ]
     },
     "execution_count": 38,
     "metadata": {},
     "output_type": "execute_result"
    }
   ],
   "source": [
    "NBayesCV.best_score_"
   ]
  },
  {
   "cell_type": "markdown",
   "id": "9c16a8c9",
   "metadata": {},
   "source": [
    "Using comments is even worse. Let's try 2-grams"
   ]
  },
  {
   "cell_type": "code",
   "execution_count": 42,
   "id": "871d66c8",
   "metadata": {},
   "outputs": [],
   "source": [
    "Vectorizer = Vectorizer = TfidfVectorizer(analyzer='word',stop_words='english',ngram_range=(1,2))"
   ]
  },
  {
   "cell_type": "code",
   "execution_count": 49,
   "id": "7fee3cba",
   "metadata": {},
   "outputs": [
    {
     "data": {
      "text/plain": [
       "GridSearchCV(estimator=MultinomialNB(), n_jobs=4,\n",
       "             param_grid={'alpha': [0.001, 0.001, 0.01, 0.1, 1, 10, 100, 1000,\n",
       "                                   10000]},\n",
       "             return_train_score=True)"
      ]
     },
     "execution_count": 49,
     "metadata": {},
     "output_type": "execute_result"
    }
   ],
   "source": [
    "tfidf = Vectorizer.fit_transform(corpus.tags)\n",
    "NBayes = MultinomialNB()\n",
    "NBayesCV = GridSearchCV(NBayes,\n",
    "                       param_grid=parameters,\n",
    "                       return_train_score=True,\n",
    "                       n_jobs=4)\n",
    "NBayesCV.fit(tfidf, corpus.dislike_to_view_bins)"
   ]
  },
  {
   "cell_type": "code",
   "execution_count": 50,
   "id": "c7fd23ba",
   "metadata": {},
   "outputs": [
    {
     "data": {
      "text/plain": [
       "0.33235842807807797"
      ]
     },
     "execution_count": 50,
     "metadata": {},
     "output_type": "execute_result"
    }
   ],
   "source": [
    "NBayesCV.best_score_\n",
    "#This was the best for 2-grams"
   ]
  },
  {
   "cell_type": "markdown",
   "id": "a985b2b6",
   "metadata": {},
   "source": [
    "Well that was disappointing. Maybe the title will help us?"
   ]
  },
  {
   "cell_type": "code",
   "execution_count": 47,
   "id": "12737b82",
   "metadata": {},
   "outputs": [
    {
     "data": {
      "text/plain": [
       "GridSearchCV(estimator=MultinomialNB(), n_jobs=4,\n",
       "             param_grid={'alpha': [0.001, 0.001, 0.01, 0.1, 1, 10, 100, 1000,\n",
       "                                   10000]},\n",
       "             return_train_score=True)"
      ]
     },
     "execution_count": 47,
     "metadata": {},
     "output_type": "execute_result"
    }
   ],
   "source": [
    "tfidf = Vectorizer.fit_transform(features.title)\n",
    "NBayes = MultinomialNB()\n",
    "NBayesCV = GridSearchCV(NBayes,\n",
    "                       param_grid=parameters,\n",
    "                       return_train_score=True,\n",
    "                       n_jobs=4)\n",
    "NBayesCV.fit(tfidf, corpus.dislike_to_view_bins)"
   ]
  },
  {
   "cell_type": "code",
   "execution_count": 48,
   "id": "9fafa635",
   "metadata": {},
   "outputs": [
    {
     "data": {
      "text/plain": [
       "0.3127416080113856"
      ]
     },
     "execution_count": 48,
     "metadata": {},
     "output_type": "execute_result"
    }
   ],
   "source": [
    "NBayesCV.best_score_"
   ]
  },
  {
   "cell_type": "markdown",
   "id": "7c8bccfd",
   "metadata": {},
   "source": [
    "Nope. Darn, guess this is a dead end."
   ]
  },
  {
   "cell_type": "code",
   "execution_count": 51,
   "id": "cede61e7",
   "metadata": {},
   "outputs": [
    {
     "data": {
      "text/plain": [
       "GridSearchCV(estimator=MultinomialNB(), n_jobs=4,\n",
       "             param_grid={'alpha': [0.001, 0.001, 0.01, 0.1, 1, 10, 100, 1000,\n",
       "                                   10000]},\n",
       "             return_train_score=True)"
      ]
     },
     "execution_count": 51,
     "metadata": {},
     "output_type": "execute_result"
    }
   ],
   "source": [
    "Vectorizer = TfidfVectorizer(analyzer='word',stop_words='english')\n",
    "tfidf = Vectorizer.fit_transform(features.title + corpus.description + corpus.comments + corpus.tags)\n",
    "NBayes = MultinomialNB()\n",
    "NBayesCV = GridSearchCV(NBayes,\n",
    "                       param_grid=parameters,\n",
    "                       return_train_score=True,\n",
    "                       n_jobs=4)\n",
    "NBayesCV.fit(tfidf, corpus.dislike_to_view_bins)"
   ]
  },
  {
   "cell_type": "code",
   "execution_count": 52,
   "id": "5a6b5abe",
   "metadata": {},
   "outputs": [
    {
     "data": {
      "text/plain": [
       "0.35312920712147167"
      ]
     },
     "execution_count": 52,
     "metadata": {},
     "output_type": "execute_result"
    }
   ],
   "source": [
    "NBayesCV.best_score_"
   ]
  },
  {
   "cell_type": "markdown",
   "id": "8fdbf9b4",
   "metadata": {},
   "source": [
    "If that didn't work, I doubt anything on this front will. Maybe we can try a tree?"
   ]
  },
  {
   "cell_type": "code",
   "execution_count": 53,
   "id": "f8ceb9b4",
   "metadata": {},
   "outputs": [
    {
     "data": {
      "text/plain": [
       "GridSearchCV(estimator=DecisionTreeClassifier(), n_jobs=4,\n",
       "             param_grid={'max_depth': range(1, 11)}, return_train_score=True)"
      ]
     },
     "execution_count": 53,
     "metadata": {},
     "output_type": "execute_result"
    }
   ],
   "source": [
    "#Vectorizer = TfidfVectorizer(analyzer='word',stop_words='english')\n",
    "#tfidf = Vectorizer.fit_transform(features.title + corpus.description + corpus.comments + corpus.tags)\n",
    "Tree = tree.DecisionTreeClassifier()\n",
    "tree_parameters = {'max_depth':range(1,11)}\n",
    "TreeCV = GridSearchCV(Tree,\n",
    "                       param_grid=tree_parameters,\n",
    "                       return_train_score=True,\n",
    "                       n_jobs=4)\n",
    "TreeCV.fit(tfidf, corpus.dislike_to_view_bins)"
   ]
  },
  {
   "cell_type": "code",
   "execution_count": 54,
   "id": "cc69663e",
   "metadata": {},
   "outputs": [
    {
     "data": {
      "text/plain": [
       "0.22579425808064407"
      ]
     },
     "execution_count": 54,
     "metadata": {},
     "output_type": "execute_result"
    }
   ],
   "source": [
    "TreeCV.best_score_"
   ]
  },
  {
   "cell_type": "code",
   "execution_count": 55,
   "id": "e40a3f28",
   "metadata": {},
   "outputs": [
    {
     "data": {
      "text/plain": [
       "{'max_depth': 10}"
      ]
     },
     "execution_count": 55,
     "metadata": {},
     "output_type": "execute_result"
    }
   ],
   "source": [
    "TreeCV.best_params_"
   ]
  },
  {
   "cell_type": "markdown",
   "id": "c61267a9",
   "metadata": {},
   "source": [
    "Let's try increasing the depth?"
   ]
  },
  {
   "cell_type": "code",
   "execution_count": 56,
   "id": "fc808817",
   "metadata": {},
   "outputs": [
    {
     "data": {
      "text/plain": [
       "GridSearchCV(estimator=DecisionTreeClassifier(), n_jobs=6,\n",
       "             param_grid={'max_depth': [10, 50, 100, 200]},\n",
       "             return_train_score=True)"
      ]
     },
     "execution_count": 56,
     "metadata": {},
     "output_type": "execute_result"
    }
   ],
   "source": [
    "Tree = tree.DecisionTreeClassifier()\n",
    "tree_parameters = {'max_depth':[10,50,100,200]}\n",
    "TreeCV = GridSearchCV(Tree,\n",
    "                       param_grid=tree_parameters,\n",
    "                       return_train_score=True,\n",
    "                       n_jobs=6)\n",
    "TreeCV.fit(tfidf, corpus.dislike_to_view_bins)"
   ]
  },
  {
   "cell_type": "code",
   "execution_count": 57,
   "id": "98323a19",
   "metadata": {},
   "outputs": [
    {
     "data": {
      "text/plain": [
       "0.25010712326499956"
      ]
     },
     "execution_count": 57,
     "metadata": {},
     "output_type": "execute_result"
    }
   ],
   "source": [
    "TreeCV.best_score_"
   ]
  },
  {
   "cell_type": "code",
   "execution_count": 58,
   "id": "bdce2059",
   "metadata": {},
   "outputs": [
    {
     "data": {
      "text/plain": [
       "{'max_depth': 50}"
      ]
     },
     "execution_count": 58,
     "metadata": {},
     "output_type": "execute_result"
    }
   ],
   "source": [
    "TreeCV.best_params_"
   ]
  },
  {
   "cell_type": "raw",
   "id": "d772e30c",
   "metadata": {},
   "source": [
    "Well that was disappointing. Looks like we can't reliably get data. Though this is better than what we had before. I wonder what the most influential thing was?"
   ]
  },
  {
   "cell_type": "code",
   "execution_count": 67,
   "id": "47324d2f",
   "metadata": {},
   "outputs": [
    {
     "data": {
      "text/plain": [
       "DecisionTreeClassifier(max_depth=5)"
      ]
     },
     "execution_count": 67,
     "metadata": {},
     "output_type": "execute_result"
    }
   ],
   "source": [
    "GraphTree = tree.DecisionTreeClassifier(max_depth=5)\n",
    "GraphTree.fit(tfidf, corpus.dislike_to_view_bins)"
   ]
  },
  {
   "cell_type": "code",
   "execution_count": 68,
   "id": "5954da38",
   "metadata": {},
   "outputs": [],
   "source": [
    "dot_data = tree.export_graphviz(GraphTree,\n",
    "                                out_file=None,\n",
    "                               feature_names=Vectorizer.get_feature_names(),\n",
    "                               class_names=GraphTree.classes_,\n",
    "                               proportion=True, # Gives how many in each classification\n",
    "                               impurity=False, # GINI index\n",
    "                               filled=True, # Color based on classification\n",
    "                               rounded=True)"
   ]
  },
  {
   "cell_type": "code",
   "execution_count": 69,
   "id": "9ce63d6f",
   "metadata": {},
   "outputs": [
    {
     "data": {
      "image/svg+xml": [
       "<?xml version=\"1.0\" encoding=\"UTF-8\" standalone=\"no\"?>\r\n",
       "<!DOCTYPE svg PUBLIC \"-//W3C//DTD SVG 1.1//EN\"\r\n",
       " \"http://www.w3.org/Graphics/SVG/1.1/DTD/svg11.dtd\">\r\n",
       "<!-- Generated by graphviz version 2.38.0 (20140413.2041)\r\n",
       " -->\r\n",
       "<!-- Title: Tree Pages: 1 -->\r\n",
       "<svg width=\"11203pt\" height=\"581pt\"\r\n",
       " viewBox=\"0.00 0.00 11202.50 581.00\" xmlns=\"http://www.w3.org/2000/svg\" xmlns:xlink=\"http://www.w3.org/1999/xlink\">\r\n",
       "<g id=\"graph0\" class=\"graph\" transform=\"scale(1 1) rotate(0) translate(4 577)\">\r\n",
       "<title>Tree</title>\r\n",
       "<polygon fill=\"white\" stroke=\"none\" points=\"-4,4 -4,-577 11198.5,-577 11198.5,4 -4,4\"/>\r\n",
       "<!-- 0 -->\r\n",
       "<g id=\"node1\" class=\"node\"><title>0</title>\r\n",
       "<path fill=\"#ffffff\" stroke=\"black\" d=\"M6233,-573C6233,-573 5882,-573 5882,-573 5876,-573 5870,-567 5870,-561 5870,-561 5870,-517 5870,-517 5870,-511 5876,-505 5882,-505 5882,-505 6233,-505 6233,-505 6239,-505 6245,-511 6245,-517 6245,-517 6245,-561 6245,-561 6245,-567 6239,-573 6233,-573\"/>\r\n",
       "<text text-anchor=\"middle\" x=\"6057.5\" y=\"-557.8\" font-family=\"Helvetica,sans-Serif\" font-size=\"14.00\">shorts &lt;= 0.016</text>\r\n",
       "<text text-anchor=\"middle\" x=\"6057.5\" y=\"-542.8\" font-family=\"Helvetica,sans-Serif\" font-size=\"14.00\">samples = 100.0%</text>\r\n",
       "<text text-anchor=\"middle\" x=\"6057.5\" y=\"-527.8\" font-family=\"Helvetica,sans-Serif\" font-size=\"14.00\">value = [0.143, 0.143, 0.143, 0.143, 0.143, 0.143, 0.143]</text>\r\n",
       "<text text-anchor=\"middle\" x=\"6057.5\" y=\"-512.8\" font-family=\"Helvetica,sans-Serif\" font-size=\"14.00\">class = mid</text>\r\n",
       "</g>\r\n",
       "<!-- 1 -->\r\n",
       "<g id=\"node2\" class=\"node\"><title>1</title>\r\n",
       "<path fill=\"#ffffff\" stroke=\"black\" d=\"M4716,-469C4716,-469 4365,-469 4365,-469 4359,-469 4353,-463 4353,-457 4353,-457 4353,-413 4353,-413 4353,-407 4359,-401 4365,-401 4365,-401 4716,-401 4716,-401 4722,-401 4728,-407 4728,-413 4728,-413 4728,-457 4728,-457 4728,-463 4722,-469 4716,-469\"/>\r\n",
       "<text text-anchor=\"middle\" x=\"4540.5\" y=\"-453.8\" font-family=\"Helvetica,sans-Serif\" font-size=\"14.00\">highlights &lt;= 0.017</text>\r\n",
       "<text text-anchor=\"middle\" x=\"4540.5\" y=\"-438.8\" font-family=\"Helvetica,sans-Serif\" font-size=\"14.00\">samples = 94.7%</text>\r\n",
       "<text text-anchor=\"middle\" x=\"4540.5\" y=\"-423.8\" font-family=\"Helvetica,sans-Serif\" font-size=\"14.00\">value = [0.134, 0.149, 0.147, 0.144, 0.149, 0.129, 0.149]</text>\r\n",
       "<text text-anchor=\"middle\" x=\"4540.5\" y=\"-408.8\" font-family=\"Helvetica,sans-Serif\" font-size=\"14.00\">class = very&#45;low</text>\r\n",
       "</g>\r\n",
       "<!-- 0&#45;&gt;1 -->\r\n",
       "<g id=\"edge1\" class=\"edge\"><title>0&#45;&gt;1</title>\r\n",
       "<path fill=\"none\" stroke=\"black\" d=\"M5869.96,-525.39C5581.86,-506.019 5032.88,-469.107 4738.56,-449.317\"/>\r\n",
       "<polygon fill=\"black\" stroke=\"black\" points=\"4738.41,-445.8 4728.2,-448.621 4737.94,-452.784 4738.41,-445.8\"/>\r\n",
       "<text text-anchor=\"middle\" x=\"4744.65\" y=\"-463.744\" font-family=\"Helvetica,sans-Serif\" font-size=\"14.00\">True</text>\r\n",
       "</g>\r\n",
       "<!-- 32 -->\r\n",
       "<g id=\"node33\" class=\"node\"><title>32</title>\r\n",
       "<path fill=\"#f5e5fc\" stroke=\"black\" d=\"M7450,-469C7450,-469 7107,-469 7107,-469 7101,-469 7095,-463 7095,-457 7095,-457 7095,-413 7095,-413 7095,-407 7101,-401 7107,-401 7107,-401 7450,-401 7450,-401 7456,-401 7462,-407 7462,-413 7462,-413 7462,-457 7462,-457 7462,-463 7456,-469 7450,-469\"/>\r\n",
       "<text text-anchor=\"middle\" x=\"7278.5\" y=\"-453.8\" font-family=\"Helvetica,sans-Serif\" font-size=\"14.00\">twitter &lt;= 0.01</text>\r\n",
       "<text text-anchor=\"middle\" x=\"7278.5\" y=\"-438.8\" font-family=\"Helvetica,sans-Serif\" font-size=\"14.00\">samples = 5.3%</text>\r\n",
       "<text text-anchor=\"middle\" x=\"7278.5\" y=\"-423.8\" font-family=\"Helvetica,sans-Serif\" font-size=\"14.00\">value = [0.299, 0.037, 0.067, 0.13, 0.038, 0.392, 0.036]</text>\r\n",
       "<text text-anchor=\"middle\" x=\"7278.5\" y=\"-408.8\" font-family=\"Helvetica,sans-Serif\" font-size=\"14.00\">class = very&#45;high</text>\r\n",
       "</g>\r\n",
       "<!-- 0&#45;&gt;32 -->\r\n",
       "<g id=\"edge32\" class=\"edge\"><title>0&#45;&gt;32</title>\r\n",
       "<path fill=\"none\" stroke=\"black\" d=\"M6245.27,-522.314C6472.77,-503.309 6854.1,-471.454 7084.4,-452.215\"/>\r\n",
       "<polygon fill=\"black\" stroke=\"black\" points=\"7084.9,-455.686 7094.57,-451.365 7084.31,-448.71 7084.9,-455.686\"/>\r\n",
       "<text text-anchor=\"middle\" x=\"7078.43\" y=\"-466.753\" font-family=\"Helvetica,sans-Serif\" font-size=\"14.00\">False</text>\r\n",
       "</g>\r\n",
       "<!-- 2 -->\r\n",
       "<g id=\"node3\" class=\"node\"><title>2</title>\r\n",
       "<path fill=\"#ffffff\" stroke=\"black\" d=\"M2405,-365C2405,-365 2054,-365 2054,-365 2048,-365 2042,-359 2042,-353 2042,-353 2042,-309 2042,-309 2042,-303 2048,-297 2054,-297 2054,-297 2405,-297 2405,-297 2411,-297 2417,-303 2417,-309 2417,-309 2417,-353 2417,-353 2417,-359 2411,-365 2405,-365\"/>\r\n",
       "<text text-anchor=\"middle\" x=\"2229.5\" y=\"-349.8\" font-family=\"Helvetica,sans-Serif\" font-size=\"14.00\">lnk &lt;= 0.001</text>\r\n",
       "<text text-anchor=\"middle\" x=\"2229.5\" y=\"-334.8\" font-family=\"Helvetica,sans-Serif\" font-size=\"14.00\">samples = 85.2%</text>\r\n",
       "<text text-anchor=\"middle\" x=\"2229.5\" y=\"-319.8\" font-family=\"Helvetica,sans-Serif\" font-size=\"14.00\">value = [0.143, 0.137, 0.152, 0.151, 0.145, 0.139, 0.134]</text>\r\n",
       "<text text-anchor=\"middle\" x=\"2229.5\" y=\"-304.8\" font-family=\"Helvetica,sans-Serif\" font-size=\"14.00\">class = mid</text>\r\n",
       "</g>\r\n",
       "<!-- 1&#45;&gt;2 -->\r\n",
       "<g id=\"edge2\" class=\"edge\"><title>1&#45;&gt;2</title>\r\n",
       "<path fill=\"none\" stroke=\"black\" d=\"M4352.85,-425.718C3922.44,-406.721 2867.48,-360.159 2427.37,-340.734\"/>\r\n",
       "<polygon fill=\"black\" stroke=\"black\" points=\"2427.24,-337.224 2417.09,-340.28 2426.93,-344.217 2427.24,-337.224\"/>\r\n",
       "</g>\r\n",
       "<!-- 17 -->\r\n",
       "<g id=\"node18\" class=\"node\"><title>17</title>\r\n",
       "<path fill=\"#fef8fb\" stroke=\"black\" d=\"M4712,-365C4712,-365 4369,-365 4369,-365 4363,-365 4357,-359 4357,-353 4357,-353 4357,-309 4357,-309 4357,-303 4363,-297 4369,-297 4369,-297 4712,-297 4712,-297 4718,-297 4724,-303 4724,-309 4724,-309 4724,-353 4724,-353 4724,-359 4718,-365 4712,-365\"/>\r\n",
       "<text text-anchor=\"middle\" x=\"4540.5\" y=\"-349.8\" font-family=\"Helvetica,sans-Serif\" font-size=\"14.00\">league &lt;= 0.08</text>\r\n",
       "<text text-anchor=\"middle\" x=\"4540.5\" y=\"-334.8\" font-family=\"Helvetica,sans-Serif\" font-size=\"14.00\">samples = 9.5%</text>\r\n",
       "<text text-anchor=\"middle\" x=\"4540.5\" y=\"-319.8\" font-family=\"Helvetica,sans-Serif\" font-size=\"14.00\">value = [0.05, 0.256, 0.108, 0.078, 0.183, 0.042, 0.283]</text>\r\n",
       "<text text-anchor=\"middle\" x=\"4540.5\" y=\"-304.8\" font-family=\"Helvetica,sans-Serif\" font-size=\"14.00\">class = very&#45;low</text>\r\n",
       "</g>\r\n",
       "<!-- 1&#45;&gt;17 -->\r\n",
       "<g id=\"edge17\" class=\"edge\"><title>1&#45;&gt;17</title>\r\n",
       "<path fill=\"none\" stroke=\"black\" d=\"M4540.5,-400.884C4540.5,-392.778 4540.5,-383.982 4540.5,-375.472\"/>\r\n",
       "<polygon fill=\"black\" stroke=\"black\" points=\"4544,-375.299 4540.5,-365.299 4537,-375.299 4544,-375.299\"/>\r\n",
       "</g>\r\n",
       "<!-- 3 -->\r\n",
       "<g id=\"node4\" class=\"node\"><title>3</title>\r\n",
       "<path fill=\"#feffff\" stroke=\"black\" d=\"M1321,-261C1321,-261 978,-261 978,-261 972,-261 966,-255 966,-249 966,-249 966,-205 966,-205 966,-199 972,-193 978,-193 978,-193 1321,-193 1321,-193 1327,-193 1333,-199 1333,-205 1333,-205 1333,-249 1333,-249 1333,-255 1327,-261 1321,-261\"/>\r\n",
       "<text text-anchor=\"middle\" x=\"1149.5\" y=\"-245.8\" font-family=\"Helvetica,sans-Serif\" font-size=\"14.00\">bhai &lt;= 0.02</text>\r\n",
       "<text text-anchor=\"middle\" x=\"1149.5\" y=\"-230.8\" font-family=\"Helvetica,sans-Serif\" font-size=\"14.00\">samples = 78.2%</text>\r\n",
       "<text text-anchor=\"middle\" x=\"1149.5\" y=\"-215.8\" font-family=\"Helvetica,sans-Serif\" font-size=\"14.00\">value = [0.15, 0.129, 0.154, 0.157, 0.144, 0.145, 0.121]</text>\r\n",
       "<text text-anchor=\"middle\" x=\"1149.5\" y=\"-200.8\" font-family=\"Helvetica,sans-Serif\" font-size=\"14.00\">class = mid&#45;high</text>\r\n",
       "</g>\r\n",
       "<!-- 2&#45;&gt;3 -->\r\n",
       "<g id=\"edge3\" class=\"edge\"><title>2&#45;&gt;3</title>\r\n",
       "<path fill=\"none\" stroke=\"black\" d=\"M2042,-312.291C1846.51,-293.829 1541.58,-265.03 1343.66,-246.337\"/>\r\n",
       "<polygon fill=\"black\" stroke=\"black\" points=\"1343.72,-242.827 1333.43,-245.371 1343.06,-249.796 1343.72,-242.827\"/>\r\n",
       "</g>\r\n",
       "<!-- 10 -->\r\n",
       "<g id=\"node11\" class=\"node\"><title>10</title>\r\n",
       "<path fill=\"#fdeff5\" stroke=\"black\" d=\"M2401,-261C2401,-261 2058,-261 2058,-261 2052,-261 2046,-255 2046,-249 2046,-249 2046,-205 2046,-205 2046,-199 2052,-193 2058,-193 2058,-193 2401,-193 2401,-193 2407,-193 2413,-199 2413,-205 2413,-205 2413,-249 2413,-249 2413,-255 2407,-261 2401,-261\"/>\r\n",
       "<text text-anchor=\"middle\" x=\"2229.5\" y=\"-245.8\" font-family=\"Helvetica,sans-Serif\" font-size=\"14.00\">jp &lt;= 0.021</text>\r\n",
       "<text text-anchor=\"middle\" x=\"2229.5\" y=\"-230.8\" font-family=\"Helvetica,sans-Serif\" font-size=\"14.00\">samples = 6.9%</text>\r\n",
       "<text text-anchor=\"middle\" x=\"2229.5\" y=\"-215.8\" font-family=\"Helvetica,sans-Serif\" font-size=\"14.00\">value = [0.07, 0.219, 0.124, 0.085, 0.158, 0.062, 0.283]</text>\r\n",
       "<text text-anchor=\"middle\" x=\"2229.5\" y=\"-200.8\" font-family=\"Helvetica,sans-Serif\" font-size=\"14.00\">class = very&#45;low</text>\r\n",
       "</g>\r\n",
       "<!-- 2&#45;&gt;10 -->\r\n",
       "<g id=\"edge10\" class=\"edge\"><title>2&#45;&gt;10</title>\r\n",
       "<path fill=\"none\" stroke=\"black\" d=\"M2229.5,-296.884C2229.5,-288.778 2229.5,-279.982 2229.5,-271.472\"/>\r\n",
       "<polygon fill=\"black\" stroke=\"black\" points=\"2233,-271.299 2229.5,-261.299 2226,-271.299 2233,-271.299\"/>\r\n",
       "</g>\r\n",
       "<!-- 4 -->\r\n",
       "<g id=\"node5\" class=\"node\"><title>4</title>\r\n",
       "<path fill=\"#feffff\" stroke=\"black\" d=\"M752,-157C752,-157 409,-157 409,-157 403,-157 397,-151 397,-145 397,-145 397,-101 397,-101 397,-95 403,-89 409,-89 409,-89 752,-89 752,-89 758,-89 764,-95 764,-101 764,-101 764,-145 764,-145 764,-151 758,-157 752,-157\"/>\r\n",
       "<text text-anchor=\"middle\" x=\"580.5\" y=\"-141.8\" font-family=\"Helvetica,sans-Serif\" font-size=\"14.00\">vk &lt;= 0.023</text>\r\n",
       "<text text-anchor=\"middle\" x=\"580.5\" y=\"-126.8\" font-family=\"Helvetica,sans-Serif\" font-size=\"14.00\">samples = 77.3%</text>\r\n",
       "<text text-anchor=\"middle\" x=\"580.5\" y=\"-111.8\" font-family=\"Helvetica,sans-Serif\" font-size=\"14.00\">value = [0.149, 0.131, 0.155, 0.158, 0.145, 0.14, 0.122]</text>\r\n",
       "<text text-anchor=\"middle\" x=\"580.5\" y=\"-96.8\" font-family=\"Helvetica,sans-Serif\" font-size=\"14.00\">class = mid&#45;high</text>\r\n",
       "</g>\r\n",
       "<!-- 3&#45;&gt;4 -->\r\n",
       "<g id=\"edge4\" class=\"edge\"><title>3&#45;&gt;4</title>\r\n",
       "<path fill=\"none\" stroke=\"black\" d=\"M965.94,-193.095C904.59,-182.097 836.045,-169.81 773.965,-158.681\"/>\r\n",
       "<polygon fill=\"black\" stroke=\"black\" points=\"774.52,-155.225 764.059,-156.905 773.284,-162.115 774.52,-155.225\"/>\r\n",
       "</g>\r\n",
       "<!-- 7 -->\r\n",
       "<g id=\"node8\" class=\"node\"><title>7</title>\r\n",
       "<path fill=\"#daa2f3\" stroke=\"black\" d=\"M1325,-157C1325,-157 974,-157 974,-157 968,-157 962,-151 962,-145 962,-145 962,-101 962,-101 962,-95 968,-89 974,-89 974,-89 1325,-89 1325,-89 1331,-89 1337,-95 1337,-101 1337,-101 1337,-145 1337,-145 1337,-151 1331,-157 1325,-157\"/>\r\n",
       "<text text-anchor=\"middle\" x=\"1149.5\" y=\"-141.8\" font-family=\"Helvetica,sans-Serif\" font-size=\"14.00\">taarak &lt;= 0.315</text>\r\n",
       "<text text-anchor=\"middle\" x=\"1149.5\" y=\"-126.8\" font-family=\"Helvetica,sans-Serif\" font-size=\"14.00\">samples = 0.9%</text>\r\n",
       "<text text-anchor=\"middle\" x=\"1149.5\" y=\"-111.8\" font-family=\"Helvetica,sans-Serif\" font-size=\"14.00\">value = [0.239, 0.023, 0.043, 0.078, 0.014, 0.598, 0.006]</text>\r\n",
       "<text text-anchor=\"middle\" x=\"1149.5\" y=\"-96.8\" font-family=\"Helvetica,sans-Serif\" font-size=\"14.00\">class = very&#45;high</text>\r\n",
       "</g>\r\n",
       "<!-- 3&#45;&gt;7 -->\r\n",
       "<g id=\"edge7\" class=\"edge\"><title>3&#45;&gt;7</title>\r\n",
       "<path fill=\"none\" stroke=\"black\" d=\"M1149.5,-192.884C1149.5,-184.778 1149.5,-175.982 1149.5,-167.472\"/>\r\n",
       "<polygon fill=\"black\" stroke=\"black\" points=\"1153,-167.299 1149.5,-157.299 1146,-167.299 1153,-167.299\"/>\r\n",
       "</g>\r\n",
       "<!-- 5 -->\r\n",
       "<g id=\"node6\" class=\"node\"><title>5</title>\r\n",
       "<path fill=\"#ffffff\" stroke=\"black\" d=\"M363,-53C363,-53 12,-53 12,-53 6,-53 0,-47 0,-41 0,-41 0,-12 0,-12 0,-6 6,-0 12,-0 12,-0 363,-0 363,-0 369,-0 375,-6 375,-12 375,-12 375,-41 375,-41 375,-47 369,-53 363,-53\"/>\r\n",
       "<text text-anchor=\"middle\" x=\"187.5\" y=\"-37.8\" font-family=\"Helvetica,sans-Serif\" font-size=\"14.00\">samples = 76.1%</text>\r\n",
       "<text text-anchor=\"middle\" x=\"187.5\" y=\"-22.8\" font-family=\"Helvetica,sans-Serif\" font-size=\"14.00\">value = [0.148, 0.132, 0.157, 0.158, 0.147, 0.134, 0.124]</text>\r\n",
       "<text text-anchor=\"middle\" x=\"187.5\" y=\"-7.8\" font-family=\"Helvetica,sans-Serif\" font-size=\"14.00\">class = mid&#45;high</text>\r\n",
       "</g>\r\n",
       "<!-- 4&#45;&gt;5 -->\r\n",
       "<g id=\"edge5\" class=\"edge\"><title>4&#45;&gt;5</title>\r\n",
       "<path fill=\"none\" stroke=\"black\" d=\"M443.048,-88.9485C397.467,-77.9881 347.212,-65.9041 303.418,-55.3733\"/>\r\n",
       "<polygon fill=\"black\" stroke=\"black\" points=\"304.138,-51.9468 293.597,-53.0118 302.501,-58.7528 304.138,-51.9468\"/>\r\n",
       "</g>\r\n",
       "<!-- 6 -->\r\n",
       "<g id=\"node7\" class=\"node\"><title>6</title>\r\n",
       "<path fill=\"#e3b7f6\" stroke=\"black\" d=\"M756,-53C756,-53 405,-53 405,-53 399,-53 393,-47 393,-41 393,-41 393,-12 393,-12 393,-6 399,-0 405,-0 405,-0 756,-0 756,-0 762,-0 768,-6 768,-12 768,-12 768,-41 768,-41 768,-47 762,-53 756,-53\"/>\r\n",
       "<text text-anchor=\"middle\" x=\"580.5\" y=\"-37.8\" font-family=\"Helvetica,sans-Serif\" font-size=\"14.00\">samples = 1.1%</text>\r\n",
       "<text text-anchor=\"middle\" x=\"580.5\" y=\"-22.8\" font-family=\"Helvetica,sans-Serif\" font-size=\"14.00\">value = [0.238, 0.031, 0.042, 0.136, 0.019, 0.515, 0.019]</text>\r\n",
       "<text text-anchor=\"middle\" x=\"580.5\" y=\"-7.8\" font-family=\"Helvetica,sans-Serif\" font-size=\"14.00\">class = very&#45;high</text>\r\n",
       "</g>\r\n",
       "<!-- 4&#45;&gt;6 -->\r\n",
       "<g id=\"edge6\" class=\"edge\"><title>4&#45;&gt;6</title>\r\n",
       "<path fill=\"none\" stroke=\"black\" d=\"M580.5,-88.9485C580.5,-80.7153 580.5,-71.848 580.5,-63.4814\"/>\r\n",
       "<polygon fill=\"black\" stroke=\"black\" points=\"584,-63.2367 580.5,-53.2367 577,-63.2367 584,-63.2367\"/>\r\n",
       "</g>\r\n",
       "<!-- 8 -->\r\n",
       "<g id=\"node9\" class=\"node\"><title>8</title>\r\n",
       "<path fill=\"#d799f2\" stroke=\"black\" d=\"M1149,-53C1149,-53 798,-53 798,-53 792,-53 786,-47 786,-41 786,-41 786,-12 786,-12 786,-6 792,-0 798,-0 798,-0 1149,-0 1149,-0 1155,-0 1161,-6 1161,-12 1161,-12 1161,-41 1161,-41 1161,-47 1155,-53 1149,-53\"/>\r\n",
       "<text text-anchor=\"middle\" x=\"973.5\" y=\"-37.8\" font-family=\"Helvetica,sans-Serif\" font-size=\"14.00\">samples = 0.9%</text>\r\n",
       "<text text-anchor=\"middle\" x=\"973.5\" y=\"-22.8\" font-family=\"Helvetica,sans-Serif\" font-size=\"14.00\">value = [0.212, 0.024, 0.045, 0.081, 0.015, 0.618, 0.006]</text>\r\n",
       "<text text-anchor=\"middle\" x=\"973.5\" y=\"-7.8\" font-family=\"Helvetica,sans-Serif\" font-size=\"14.00\">class = very&#45;high</text>\r\n",
       "</g>\r\n",
       "<!-- 7&#45;&gt;8 -->\r\n",
       "<g id=\"edge8\" class=\"edge\"><title>7&#45;&gt;8</title>\r\n",
       "<path fill=\"none\" stroke=\"black\" d=\"M1087.94,-88.9485C1069.12,-78.8399 1048.51,-67.7756 1030.04,-57.8555\"/>\r\n",
       "<polygon fill=\"black\" stroke=\"black\" points=\"1031.62,-54.7337 1021.15,-53.0867 1028.31,-60.9009 1031.62,-54.7337\"/>\r\n",
       "</g>\r\n",
       "<!-- 9 -->\r\n",
       "<g id=\"node10\" class=\"node\"><title>9</title>\r\n",
       "<path fill=\"#e78c49\" stroke=\"black\" d=\"M1460,-53C1460,-53 1191,-53 1191,-53 1185,-53 1179,-47 1179,-41 1179,-41 1179,-12 1179,-12 1179,-6 1185,-0 1191,-0 1191,-0 1460,-0 1460,-0 1466,-0 1472,-6 1472,-12 1472,-12 1472,-41 1472,-41 1472,-47 1466,-53 1460,-53\"/>\r\n",
       "<text text-anchor=\"middle\" x=\"1325.5\" y=\"-37.8\" font-family=\"Helvetica,sans-Serif\" font-size=\"14.00\">samples = 0.0%</text>\r\n",
       "<text text-anchor=\"middle\" x=\"1325.5\" y=\"-22.8\" font-family=\"Helvetica,sans-Serif\" font-size=\"14.00\">value = [0.923, 0.0, 0.0, 0.0, 0.0, 0.077, 0.0]</text>\r\n",
       "<text text-anchor=\"middle\" x=\"1325.5\" y=\"-7.8\" font-family=\"Helvetica,sans-Serif\" font-size=\"14.00\">class = high</text>\r\n",
       "</g>\r\n",
       "<!-- 7&#45;&gt;9 -->\r\n",
       "<g id=\"edge9\" class=\"edge\"><title>7&#45;&gt;9</title>\r\n",
       "<path fill=\"none\" stroke=\"black\" d=\"M1211.06,-88.9485C1229.88,-78.8399 1250.49,-67.7756 1268.96,-57.8555\"/>\r\n",
       "<polygon fill=\"black\" stroke=\"black\" points=\"1270.69,-60.9009 1277.85,-53.0867 1267.38,-54.7337 1270.69,-60.9009\"/>\r\n",
       "</g>\r\n",
       "<!-- 11 -->\r\n",
       "<g id=\"node12\" class=\"node\"><title>11</title>\r\n",
       "<path fill=\"#fef9fb\" stroke=\"black\" d=\"M2210,-157C2210,-157 1859,-157 1859,-157 1853,-157 1847,-151 1847,-145 1847,-145 1847,-101 1847,-101 1847,-95 1853,-89 1859,-89 1859,-89 2210,-89 2210,-89 2216,-89 2222,-95 2222,-101 2222,-101 2222,-145 2222,-145 2222,-151 2216,-157 2210,-157\"/>\r\n",
       "<text text-anchor=\"middle\" x=\"2034.5\" y=\"-141.8\" font-family=\"Helvetica,sans-Serif\" font-size=\"14.00\">dvd &lt;= 0.015</text>\r\n",
       "<text text-anchor=\"middle\" x=\"2034.5\" y=\"-126.8\" font-family=\"Helvetica,sans-Serif\" font-size=\"14.00\">samples = 6.5%</text>\r\n",
       "<text text-anchor=\"middle\" x=\"2034.5\" y=\"-111.8\" font-family=\"Helvetica,sans-Serif\" font-size=\"14.00\">value = [0.074, 0.226, 0.132, 0.089, 0.163, 0.066, 0.251]</text>\r\n",
       "<text text-anchor=\"middle\" x=\"2034.5\" y=\"-96.8\" font-family=\"Helvetica,sans-Serif\" font-size=\"14.00\">class = very&#45;low</text>\r\n",
       "</g>\r\n",
       "<!-- 10&#45;&gt;11 -->\r\n",
       "<g id=\"edge11\" class=\"edge\"><title>10&#45;&gt;11</title>\r\n",
       "<path fill=\"none\" stroke=\"black\" d=\"M2166.19,-192.884C2147.28,-182.991 2126.4,-172.07 2106.95,-161.895\"/>\r\n",
       "<polygon fill=\"black\" stroke=\"black\" points=\"2108.31,-158.658 2097.83,-157.125 2105.07,-164.861 2108.31,-158.658\"/>\r\n",
       "</g>\r\n",
       "<!-- 14 -->\r\n",
       "<g id=\"node15\" class=\"node\"><title>14</title>\r\n",
       "<path fill=\"#ed78ac\" stroke=\"black\" d=\"M2595,-157C2595,-157 2252,-157 2252,-157 2246,-157 2240,-151 2240,-145 2240,-145 2240,-101 2240,-101 2240,-95 2246,-89 2252,-89 2252,-89 2595,-89 2595,-89 2601,-89 2607,-95 2607,-101 2607,-101 2607,-145 2607,-145 2607,-151 2601,-157 2595,-157\"/>\r\n",
       "<text text-anchor=\"middle\" x=\"2423.5\" y=\"-141.8\" font-family=\"Helvetica,sans-Serif\" font-size=\"14.00\">avex &lt;= 0.089</text>\r\n",
       "<text text-anchor=\"middle\" x=\"2423.5\" y=\"-126.8\" font-family=\"Helvetica,sans-Serif\" font-size=\"14.00\">samples = 0.5%</text>\r\n",
       "<text text-anchor=\"middle\" x=\"2423.5\" y=\"-111.8\" font-family=\"Helvetica,sans-Serif\" font-size=\"14.00\">value = [0.017, 0.124, 0.017, 0.023, 0.09, 0.006, 0.723]</text>\r\n",
       "<text text-anchor=\"middle\" x=\"2423.5\" y=\"-96.8\" font-family=\"Helvetica,sans-Serif\" font-size=\"14.00\">class = very&#45;low</text>\r\n",
       "</g>\r\n",
       "<!-- 10&#45;&gt;14 -->\r\n",
       "<g id=\"edge14\" class=\"edge\"><title>10&#45;&gt;14</title>\r\n",
       "<path fill=\"none\" stroke=\"black\" d=\"M2292.49,-192.884C2311.3,-182.991 2332.07,-172.07 2351.42,-161.895\"/>\r\n",
       "<polygon fill=\"black\" stroke=\"black\" points=\"2353.28,-164.876 2360.5,-157.125 2350.02,-158.681 2353.28,-164.876\"/>\r\n",
       "</g>\r\n",
       "<!-- 12 -->\r\n",
       "<g id=\"node13\" class=\"node\"><title>12</title>\r\n",
       "<path fill=\"#fffcfd\" stroke=\"black\" d=\"M1845,-53C1845,-53 1502,-53 1502,-53 1496,-53 1490,-47 1490,-41 1490,-41 1490,-12 1490,-12 1490,-6 1496,-0 1502,-0 1502,-0 1845,-0 1845,-0 1851,-0 1857,-6 1857,-12 1857,-12 1857,-41 1857,-41 1857,-47 1851,-53 1845,-53\"/>\r\n",
       "<text text-anchor=\"middle\" x=\"1673.5\" y=\"-37.8\" font-family=\"Helvetica,sans-Serif\" font-size=\"14.00\">samples = 6.3%</text>\r\n",
       "<text text-anchor=\"middle\" x=\"1673.5\" y=\"-22.8\" font-family=\"Helvetica,sans-Serif\" font-size=\"14.00\">value = [0.074, 0.228, 0.135, 0.091, 0.165, 0.067, 0.24]</text>\r\n",
       "<text text-anchor=\"middle\" x=\"1673.5\" y=\"-7.8\" font-family=\"Helvetica,sans-Serif\" font-size=\"14.00\">class = very&#45;low</text>\r\n",
       "</g>\r\n",
       "<!-- 11&#45;&gt;12 -->\r\n",
       "<g id=\"edge12\" class=\"edge\"><title>11&#45;&gt;12</title>\r\n",
       "<path fill=\"none\" stroke=\"black\" d=\"M1908.24,-88.9485C1866.63,-78.0572 1820.79,-66.0564 1780.74,-55.5726\"/>\r\n",
       "<polygon fill=\"black\" stroke=\"black\" points=\"1781.52,-52.1583 1770.96,-53.0118 1779.75,-58.9302 1781.52,-52.1583\"/>\r\n",
       "</g>\r\n",
       "<!-- 13 -->\r\n",
       "<g id=\"node14\" class=\"node\"><title>13</title>\r\n",
       "<path fill=\"#ec6fa7\" stroke=\"black\" d=\"M2197.5,-53C2197.5,-53 1887.5,-53 1887.5,-53 1881.5,-53 1875.5,-47 1875.5,-41 1875.5,-41 1875.5,-12 1875.5,-12 1875.5,-6 1881.5,-0 1887.5,-0 1887.5,-0 2197.5,-0 2197.5,-0 2203.5,-0 2209.5,-6 2209.5,-12 2209.5,-12 2209.5,-41 2209.5,-41 2209.5,-47 2203.5,-53 2197.5,-53\"/>\r\n",
       "<text text-anchor=\"middle\" x=\"2042.5\" y=\"-37.8\" font-family=\"Helvetica,sans-Serif\" font-size=\"14.00\">samples = 0.1%</text>\r\n",
       "<text text-anchor=\"middle\" x=\"2042.5\" y=\"-22.8\" font-family=\"Helvetica,sans-Serif\" font-size=\"14.00\">value = [0.041, 0.102, 0.0, 0.02, 0.082, 0.0, 0.755]</text>\r\n",
       "<text text-anchor=\"middle\" x=\"2042.5\" y=\"-7.8\" font-family=\"Helvetica,sans-Serif\" font-size=\"14.00\">class = very&#45;low</text>\r\n",
       "</g>\r\n",
       "<!-- 11&#45;&gt;13 -->\r\n",
       "<g id=\"edge13\" class=\"edge\"><title>11&#45;&gt;13</title>\r\n",
       "<path fill=\"none\" stroke=\"black\" d=\"M2037.3,-88.9485C2038,-80.6238 2038.76,-71.6509 2039.48,-63.2027\"/>\r\n",
       "<polygon fill=\"black\" stroke=\"black\" points=\"2042.97,-63.4963 2040.32,-53.2367 2035.99,-62.9058 2042.97,-63.4963\"/>\r\n",
       "</g>\r\n",
       "<!-- 15 -->\r\n",
       "<g id=\"node16\" class=\"node\"><title>15</title>\r\n",
       "<path fill=\"#eb68a3\" stroke=\"black\" d=\"M2591,-53C2591,-53 2240,-53 2240,-53 2234,-53 2228,-47 2228,-41 2228,-41 2228,-12 2228,-12 2228,-6 2234,-0 2240,-0 2240,-0 2591,-0 2591,-0 2597,-0 2603,-6 2603,-12 2603,-12 2603,-41 2603,-41 2603,-47 2597,-53 2591,-53\"/>\r\n",
       "<text text-anchor=\"middle\" x=\"2415.5\" y=\"-37.8\" font-family=\"Helvetica,sans-Serif\" font-size=\"14.00\">samples = 0.4%</text>\r\n",
       "<text text-anchor=\"middle\" x=\"2415.5\" y=\"-22.8\" font-family=\"Helvetica,sans-Serif\" font-size=\"14.00\">value = [0.018, 0.104, 0.018, 0.006, 0.061, 0.006, 0.785]</text>\r\n",
       "<text text-anchor=\"middle\" x=\"2415.5\" y=\"-7.8\" font-family=\"Helvetica,sans-Serif\" font-size=\"14.00\">class = very&#45;low</text>\r\n",
       "</g>\r\n",
       "<!-- 14&#45;&gt;15 -->\r\n",
       "<g id=\"edge15\" class=\"edge\"><title>14&#45;&gt;15</title>\r\n",
       "<path fill=\"none\" stroke=\"black\" d=\"M2420.7,-88.9485C2420,-80.6238 2419.24,-71.6509 2418.52,-63.2027\"/>\r\n",
       "<polygon fill=\"black\" stroke=\"black\" points=\"2422.01,-62.9058 2417.68,-53.2367 2415.03,-63.4963 2422.01,-62.9058\"/>\r\n",
       "</g>\r\n",
       "<!-- 16 -->\r\n",
       "<g id=\"node17\" class=\"node\"><title>16</title>\r\n",
       "<path fill=\"#e9ecfc\" stroke=\"black\" d=\"M2918,-53C2918,-53 2633,-53 2633,-53 2627,-53 2621,-47 2621,-41 2621,-41 2621,-12 2621,-12 2621,-6 2627,-0 2633,-0 2633,-0 2918,-0 2918,-0 2924,-0 2930,-6 2930,-12 2930,-12 2930,-41 2930,-41 2930,-47 2924,-53 2918,-53\"/>\r\n",
       "<text text-anchor=\"middle\" x=\"2775.5\" y=\"-37.8\" font-family=\"Helvetica,sans-Serif\" font-size=\"14.00\">samples = 0.0%</text>\r\n",
       "<text text-anchor=\"middle\" x=\"2775.5\" y=\"-22.8\" font-family=\"Helvetica,sans-Serif\" font-size=\"14.00\">value = [0.0, 0.357, 0.0, 0.214, 0.429, 0.0, 0.0]</text>\r\n",
       "<text text-anchor=\"middle\" x=\"2775.5\" y=\"-7.8\" font-family=\"Helvetica,sans-Serif\" font-size=\"14.00\">class = mid&#45;low</text>\r\n",
       "</g>\r\n",
       "<!-- 14&#45;&gt;16 -->\r\n",
       "<g id=\"edge16\" class=\"edge\"><title>14&#45;&gt;16</title>\r\n",
       "<path fill=\"none\" stroke=\"black\" d=\"M2546.61,-88.9485C2587.1,-78.0802 2631.69,-66.1071 2670.69,-55.6391\"/>\r\n",
       "<polygon fill=\"black\" stroke=\"black\" points=\"2671.72,-58.985 2680.47,-53.0118 2669.91,-52.2244 2671.72,-58.985\"/>\r\n",
       "</g>\r\n",
       "<!-- 18 -->\r\n",
       "<g id=\"node19\" class=\"node\"><title>18</title>\r\n",
       "<path fill=\"#fdfef9\" stroke=\"black\" d=\"M4245,-261C4245,-261 3902,-261 3902,-261 3896,-261 3890,-255 3890,-249 3890,-249 3890,-205 3890,-205 3890,-199 3896,-193 3902,-193 3902,-193 4245,-193 4245,-193 4251,-193 4257,-199 4257,-205 4257,-205 4257,-249 4257,-249 4257,-255 4251,-261 4245,-261\"/>\r\n",
       "<text text-anchor=\"middle\" x=\"4073.5\" y=\"-245.8\" font-family=\"Helvetica,sans-Serif\" font-size=\"14.00\">game &lt;= 0.071</text>\r\n",
       "<text text-anchor=\"middle\" x=\"4073.5\" y=\"-230.8\" font-family=\"Helvetica,sans-Serif\" font-size=\"14.00\">samples = 7.1%</text>\r\n",
       "<text text-anchor=\"middle\" x=\"4073.5\" y=\"-215.8\" font-family=\"Helvetica,sans-Serif\" font-size=\"14.00\">value = [0.062, 0.243, 0.126, 0.091, 0.205, 0.053, 0.22]</text>\r\n",
       "<text text-anchor=\"middle\" x=\"4073.5\" y=\"-200.8\" font-family=\"Helvetica,sans-Serif\" font-size=\"14.00\">class = low</text>\r\n",
       "</g>\r\n",
       "<!-- 17&#45;&gt;18 -->\r\n",
       "<g id=\"edge18\" class=\"edge\"><title>17&#45;&gt;18</title>\r\n",
       "<path fill=\"none\" stroke=\"black\" d=\"M4389.2,-296.954C4339.87,-286.18 4284.94,-274.181 4234.9,-263.252\"/>\r\n",
       "<polygon fill=\"black\" stroke=\"black\" points=\"4235.47,-259.795 4224.96,-261.081 4233.98,-266.634 4235.47,-259.795\"/>\r\n",
       "</g>\r\n",
       "<!-- 25 -->\r\n",
       "<g id=\"node26\" class=\"node\"><title>25</title>\r\n",
       "<path fill=\"#f9d0e2\" stroke=\"black\" d=\"M4996,-261C4996,-261 4653,-261 4653,-261 4647,-261 4641,-255 4641,-249 4641,-249 4641,-205 4641,-205 4641,-199 4647,-193 4653,-193 4653,-193 4996,-193 4996,-193 5002,-193 5008,-199 5008,-205 5008,-205 5008,-249 5008,-249 5008,-255 5002,-261 4996,-261\"/>\r\n",
       "<text text-anchor=\"middle\" x=\"4824.5\" y=\"-245.8\" font-family=\"Helvetica,sans-Serif\" font-size=\"14.00\">international &lt;= 0.021</text>\r\n",
       "<text text-anchor=\"middle\" x=\"4824.5\" y=\"-230.8\" font-family=\"Helvetica,sans-Serif\" font-size=\"14.00\">samples = 2.5%</text>\r\n",
       "<text text-anchor=\"middle\" x=\"4824.5\" y=\"-215.8\" font-family=\"Helvetica,sans-Serif\" font-size=\"14.00\">value = [0.015, 0.295, 0.055, 0.042, 0.12, 0.011, 0.462]</text>\r\n",
       "<text text-anchor=\"middle\" x=\"4824.5\" y=\"-200.8\" font-family=\"Helvetica,sans-Serif\" font-size=\"14.00\">class = very&#45;low</text>\r\n",
       "</g>\r\n",
       "<!-- 17&#45;&gt;25 -->\r\n",
       "<g id=\"edge25\" class=\"edge\"><title>17&#45;&gt;25</title>\r\n",
       "<path fill=\"none\" stroke=\"black\" d=\"M4632.71,-296.884C4661.5,-286.543 4693.42,-275.079 4722.82,-264.519\"/>\r\n",
       "<polygon fill=\"black\" stroke=\"black\" points=\"4724.04,-267.799 4732.27,-261.125 4721.68,-261.211 4724.04,-267.799\"/>\r\n",
       "</g>\r\n",
       "<!-- 19 -->\r\n",
       "<g id=\"node20\" class=\"node\"><title>19</title>\r\n",
       "<path fill=\"#fef5f9\" stroke=\"black\" d=\"M3680,-157C3680,-157 3329,-157 3329,-157 3323,-157 3317,-151 3317,-145 3317,-145 3317,-101 3317,-101 3317,-95 3323,-89 3329,-89 3329,-89 3680,-89 3680,-89 3686,-89 3692,-95 3692,-101 3692,-101 3692,-145 3692,-145 3692,-151 3686,-157 3680,-157\"/>\r\n",
       "<text text-anchor=\"middle\" x=\"3504.5\" y=\"-141.8\" font-family=\"Helvetica,sans-Serif\" font-size=\"14.00\">tour &lt;= 0.006</text>\r\n",
       "<text text-anchor=\"middle\" x=\"3504.5\" y=\"-126.8\" font-family=\"Helvetica,sans-Serif\" font-size=\"14.00\">samples = 5.4%</text>\r\n",
       "<text text-anchor=\"middle\" x=\"3504.5\" y=\"-111.8\" font-family=\"Helvetica,sans-Serif\" font-size=\"14.00\">value = [0.075, 0.203, 0.134, 0.103, 0.176, 0.065, 0.244]</text>\r\n",
       "<text text-anchor=\"middle\" x=\"3504.5\" y=\"-96.8\" font-family=\"Helvetica,sans-Serif\" font-size=\"14.00\">class = very&#45;low</text>\r\n",
       "</g>\r\n",
       "<!-- 18&#45;&gt;19 -->\r\n",
       "<g id=\"edge19\" class=\"edge\"><title>18&#45;&gt;19</title>\r\n",
       "<path fill=\"none\" stroke=\"black\" d=\"M3889.94,-193.095C3828.9,-182.152 3760.73,-169.933 3698.9,-158.849\"/>\r\n",
       "<polygon fill=\"black\" stroke=\"black\" points=\"3699.49,-155.399 3689.03,-157.08 3698.26,-162.29 3699.49,-155.399\"/>\r\n",
       "</g>\r\n",
       "<!-- 22 -->\r\n",
       "<g id=\"node23\" class=\"node\"><title>22</title>\r\n",
       "<path fill=\"#f7fcea\" stroke=\"black\" d=\"M4241,-157C4241,-157 3906,-157 3906,-157 3900,-157 3894,-151 3894,-145 3894,-145 3894,-101 3894,-101 3894,-95 3900,-89 3906,-89 3906,-89 4241,-89 4241,-89 4247,-89 4253,-95 4253,-101 4253,-101 4253,-145 4253,-145 4253,-151 4247,-157 4241,-157\"/>\r\n",
       "<text text-anchor=\"middle\" x=\"4073.5\" y=\"-141.8\" font-family=\"Helvetica,sans-Serif\" font-size=\"14.00\">lakers &lt;= 0.217</text>\r\n",
       "<text text-anchor=\"middle\" x=\"4073.5\" y=\"-126.8\" font-family=\"Helvetica,sans-Serif\" font-size=\"14.00\">samples = 1.7%</text>\r\n",
       "<text text-anchor=\"middle\" x=\"4073.5\" y=\"-111.8\" font-family=\"Helvetica,sans-Serif\" font-size=\"14.00\">value = [0.019, 0.375, 0.101, 0.049, 0.3, 0.013, 0.143]</text>\r\n",
       "<text text-anchor=\"middle\" x=\"4073.5\" y=\"-96.8\" font-family=\"Helvetica,sans-Serif\" font-size=\"14.00\">class = low</text>\r\n",
       "</g>\r\n",
       "<!-- 18&#45;&gt;22 -->\r\n",
       "<g id=\"edge22\" class=\"edge\"><title>18&#45;&gt;22</title>\r\n",
       "<path fill=\"none\" stroke=\"black\" d=\"M4073.5,-192.884C4073.5,-184.778 4073.5,-175.982 4073.5,-167.472\"/>\r\n",
       "<polygon fill=\"black\" stroke=\"black\" points=\"4077,-167.299 4073.5,-157.299 4070,-167.299 4077,-167.299\"/>\r\n",
       "</g>\r\n",
       "<!-- 20 -->\r\n",
       "<g id=\"node21\" class=\"node\"><title>20</title>\r\n",
       "<path fill=\"#fffbfd\" stroke=\"black\" d=\"M3295,-53C3295,-53 2960,-53 2960,-53 2954,-53 2948,-47 2948,-41 2948,-41 2948,-12 2948,-12 2948,-6 2954,-0 2960,-0 2960,-0 3295,-0 3295,-0 3301,-0 3307,-6 3307,-12 3307,-12 3307,-41 3307,-41 3307,-47 3301,-53 3295,-53\"/>\r\n",
       "<text text-anchor=\"middle\" x=\"3127.5\" y=\"-37.8\" font-family=\"Helvetica,sans-Serif\" font-size=\"14.00\">samples = 5.0%</text>\r\n",
       "<text text-anchor=\"middle\" x=\"3127.5\" y=\"-22.8\" font-family=\"Helvetica,sans-Serif\" font-size=\"14.00\">value = [0.08, 0.203, 0.14, 0.107, 0.185, 0.067, 0.217]</text>\r\n",
       "<text text-anchor=\"middle\" x=\"3127.5\" y=\"-7.8\" font-family=\"Helvetica,sans-Serif\" font-size=\"14.00\">class = very&#45;low</text>\r\n",
       "</g>\r\n",
       "<!-- 19&#45;&gt;20 -->\r\n",
       "<g id=\"edge20\" class=\"edge\"><title>19&#45;&gt;20</title>\r\n",
       "<path fill=\"none\" stroke=\"black\" d=\"M3372.64,-88.9485C3329.1,-78.0342 3281.12,-66.0057 3239.23,-55.5061\"/>\r\n",
       "<polygon fill=\"black\" stroke=\"black\" points=\"3239.83,-52.0483 3229.28,-53.0118 3238.13,-58.8382 3239.83,-52.0483\"/>\r\n",
       "</g>\r\n",
       "<!-- 21 -->\r\n",
       "<g id=\"node22\" class=\"node\"><title>21</title>\r\n",
       "<path fill=\"#f3a2c6\" stroke=\"black\" d=\"M3672,-53C3672,-53 3337,-53 3337,-53 3331,-53 3325,-47 3325,-41 3325,-41 3325,-12 3325,-12 3325,-6 3331,-0 3337,-0 3337,-0 3672,-0 3672,-0 3678,-0 3684,-6 3684,-12 3684,-12 3684,-41 3684,-41 3684,-47 3678,-53 3672,-53\"/>\r\n",
       "<text text-anchor=\"middle\" x=\"3504.5\" y=\"-37.8\" font-family=\"Helvetica,sans-Serif\" font-size=\"14.00\">samples = 0.4%</text>\r\n",
       "<text text-anchor=\"middle\" x=\"3504.5\" y=\"-22.8\" font-family=\"Helvetica,sans-Serif\" font-size=\"14.00\">value = [0.013, 0.207, 0.053, 0.053, 0.053, 0.04, 0.58]</text>\r\n",
       "<text text-anchor=\"middle\" x=\"3504.5\" y=\"-7.8\" font-family=\"Helvetica,sans-Serif\" font-size=\"14.00\">class = very&#45;low</text>\r\n",
       "</g>\r\n",
       "<!-- 19&#45;&gt;21 -->\r\n",
       "<g id=\"edge21\" class=\"edge\"><title>19&#45;&gt;21</title>\r\n",
       "<path fill=\"none\" stroke=\"black\" d=\"M3504.5,-88.9485C3504.5,-80.7153 3504.5,-71.848 3504.5,-63.4814\"/>\r\n",
       "<polygon fill=\"black\" stroke=\"black\" points=\"3508,-63.2367 3504.5,-53.2367 3501,-63.2367 3508,-63.2367\"/>\r\n",
       "</g>\r\n",
       "<!-- 23 -->\r\n",
       "<g id=\"node24\" class=\"node\"><title>23</title>\r\n",
       "<path fill=\"#f3fbdd\" stroke=\"black\" d=\"M4057,-53C4057,-53 3714,-53 3714,-53 3708,-53 3702,-47 3702,-41 3702,-41 3702,-12 3702,-12 3702,-6 3708,-0 3714,-0 3714,-0 4057,-0 4057,-0 4063,-0 4069,-6 4069,-12 4069,-12 4069,-41 4069,-41 4069,-47 4063,-53 4057,-53\"/>\r\n",
       "<text text-anchor=\"middle\" x=\"3885.5\" y=\"-37.8\" font-family=\"Helvetica,sans-Serif\" font-size=\"14.00\">samples = 1.5%</text>\r\n",
       "<text text-anchor=\"middle\" x=\"3885.5\" y=\"-22.8\" font-family=\"Helvetica,sans-Serif\" font-size=\"14.00\">value = [0.022, 0.399, 0.086, 0.05, 0.273, 0.013, 0.158]</text>\r\n",
       "<text text-anchor=\"middle\" x=\"3885.5\" y=\"-7.8\" font-family=\"Helvetica,sans-Serif\" font-size=\"14.00\">class = low</text>\r\n",
       "</g>\r\n",
       "<!-- 22&#45;&gt;23 -->\r\n",
       "<g id=\"edge23\" class=\"edge\"><title>22&#45;&gt;23</title>\r\n",
       "<path fill=\"none\" stroke=\"black\" d=\"M4007.75,-88.9485C3987.45,-78.748 3965.22,-67.5744 3945.35,-57.5852\"/>\r\n",
       "<polygon fill=\"black\" stroke=\"black\" points=\"3946.91,-54.4507 3936.4,-53.0867 3943.77,-60.705 3946.91,-54.4507\"/>\r\n",
       "</g>\r\n",
       "<!-- 24 -->\r\n",
       "<g id=\"node25\" class=\"node\"><title>24</title>\r\n",
       "<path fill=\"#abb8f4\" stroke=\"black\" d=\"M4417.5,-53C4417.5,-53 4099.5,-53 4099.5,-53 4093.5,-53 4087.5,-47 4087.5,-41 4087.5,-41 4087.5,-12 4087.5,-12 4087.5,-6 4093.5,-0 4099.5,-0 4099.5,-0 4417.5,-0 4417.5,-0 4423.5,-0 4429.5,-6 4429.5,-12 4429.5,-12 4429.5,-41 4429.5,-41 4429.5,-47 4423.5,-53 4417.5,-53\"/>\r\n",
       "<text text-anchor=\"middle\" x=\"4258.5\" y=\"-37.8\" font-family=\"Helvetica,sans-Serif\" font-size=\"14.00\">samples = 0.2%</text>\r\n",
       "<text text-anchor=\"middle\" x=\"4258.5\" y=\"-22.8\" font-family=\"Helvetica,sans-Serif\" font-size=\"14.00\">value = [0.0, 0.153, 0.237, 0.034, 0.559, 0.017, 0.0]</text>\r\n",
       "<text text-anchor=\"middle\" x=\"4258.5\" y=\"-7.8\" font-family=\"Helvetica,sans-Serif\" font-size=\"14.00\">class = mid&#45;low</text>\r\n",
       "</g>\r\n",
       "<!-- 22&#45;&gt;24 -->\r\n",
       "<g id=\"edge24\" class=\"edge\"><title>22&#45;&gt;24</title>\r\n",
       "<path fill=\"none\" stroke=\"black\" d=\"M4138.2,-88.9485C4158.08,-78.794 4179.85,-67.675 4199.34,-57.7203\"/>\r\n",
       "<polygon fill=\"black\" stroke=\"black\" points=\"4201.1,-60.7526 4208.41,-53.0867 4197.91,-54.5188 4201.1,-60.7526\"/>\r\n",
       "</g>\r\n",
       "<!-- 26 -->\r\n",
       "<g id=\"node27\" class=\"node\"><title>26</title>\r\n",
       "<path fill=\"#fbe2ed\" stroke=\"black\" d=\"M4996,-157C4996,-157 4653,-157 4653,-157 4647,-157 4641,-151 4641,-145 4641,-145 4641,-101 4641,-101 4641,-95 4647,-89 4653,-89 4653,-89 4996,-89 4996,-89 5002,-89 5008,-95 5008,-101 5008,-101 5008,-145 5008,-145 5008,-151 5002,-157 4996,-157\"/>\r\n",
       "<text text-anchor=\"middle\" x=\"4824.5\" y=\"-141.8\" font-family=\"Helvetica,sans-Serif\" font-size=\"14.00\">skysportsfootball &lt;= 0.035</text>\r\n",
       "<text text-anchor=\"middle\" x=\"4824.5\" y=\"-126.8\" font-family=\"Helvetica,sans-Serif\" font-size=\"14.00\">samples = 2.2%</text>\r\n",
       "<text text-anchor=\"middle\" x=\"4824.5\" y=\"-111.8\" font-family=\"Helvetica,sans-Serif\" font-size=\"14.00\">value = [0.016, 0.321, 0.057, 0.046, 0.132, 0.01, 0.419]</text>\r\n",
       "<text text-anchor=\"middle\" x=\"4824.5\" y=\"-96.8\" font-family=\"Helvetica,sans-Serif\" font-size=\"14.00\">class = very&#45;low</text>\r\n",
       "</g>\r\n",
       "<!-- 25&#45;&gt;26 -->\r\n",
       "<g id=\"edge26\" class=\"edge\"><title>25&#45;&gt;26</title>\r\n",
       "<path fill=\"none\" stroke=\"black\" d=\"M4824.5,-192.884C4824.5,-184.778 4824.5,-175.982 4824.5,-167.472\"/>\r\n",
       "<polygon fill=\"black\" stroke=\"black\" points=\"4828,-167.299 4824.5,-157.299 4821,-167.299 4828,-167.299\"/>\r\n",
       "</g>\r\n",
       "<!-- 29 -->\r\n",
       "<g id=\"node30\" class=\"node\"><title>29</title>\r\n",
       "<path fill=\"#eb64a0\" stroke=\"black\" d=\"M5552.5,-157C5552.5,-157 5226.5,-157 5226.5,-157 5220.5,-157 5214.5,-151 5214.5,-145 5214.5,-145 5214.5,-101 5214.5,-101 5214.5,-95 5220.5,-89 5226.5,-89 5226.5,-89 5552.5,-89 5552.5,-89 5558.5,-89 5564.5,-95 5564.5,-101 5564.5,-101 5564.5,-145 5564.5,-145 5564.5,-151 5558.5,-157 5552.5,-157\"/>\r\n",
       "<text text-anchor=\"middle\" x=\"5389.5\" y=\"-141.8\" font-family=\"Helvetica,sans-Serif\" font-size=\"14.00\">highlightssubscribe &lt;= 0.013</text>\r\n",
       "<text text-anchor=\"middle\" x=\"5389.5\" y=\"-126.8\" font-family=\"Helvetica,sans-Serif\" font-size=\"14.00\">samples = 0.3%</text>\r\n",
       "<text text-anchor=\"middle\" x=\"5389.5\" y=\"-111.8\" font-family=\"Helvetica,sans-Serif\" font-size=\"14.00\">value = [0.01, 0.088, 0.039, 0.01, 0.029, 0.02, 0.804]</text>\r\n",
       "<text text-anchor=\"middle\" x=\"5389.5\" y=\"-96.8\" font-family=\"Helvetica,sans-Serif\" font-size=\"14.00\">class = very&#45;low</text>\r\n",
       "</g>\r\n",
       "<!-- 25&#45;&gt;29 -->\r\n",
       "<g id=\"edge29\" class=\"edge\"><title>25&#45;&gt;29</title>\r\n",
       "<path fill=\"none\" stroke=\"black\" d=\"M5007.55,-192.954C5070.57,-181.576 5141.17,-168.831 5204.36,-157.424\"/>\r\n",
       "<polygon fill=\"black\" stroke=\"black\" points=\"5205.22,-160.826 5214.44,-155.605 5203.97,-153.937 5205.22,-160.826\"/>\r\n",
       "</g>\r\n",
       "<!-- 27 -->\r\n",
       "<g id=\"node28\" class=\"node\"><title>27</title>\r\n",
       "<path fill=\"#fad7e6\" stroke=\"black\" d=\"M4811,-53C4811,-53 4460,-53 4460,-53 4454,-53 4448,-47 4448,-41 4448,-41 4448,-12 4448,-12 4448,-6 4454,-0 4460,-0 4460,-0 4811,-0 4811,-0 4817,-0 4823,-6 4823,-12 4823,-12 4823,-41 4823,-41 4823,-47 4817,-53 4811,-53\"/>\r\n",
       "<text text-anchor=\"middle\" x=\"4635.5\" y=\"-37.8\" font-family=\"Helvetica,sans-Serif\" font-size=\"14.00\">samples = 2.0%</text>\r\n",
       "<text text-anchor=\"middle\" x=\"4635.5\" y=\"-22.8\" font-family=\"Helvetica,sans-Serif\" font-size=\"14.00\">value = [0.016, 0.311, 0.049, 0.045, 0.115, 0.011, 0.452]</text>\r\n",
       "<text text-anchor=\"middle\" x=\"4635.5\" y=\"-7.8\" font-family=\"Helvetica,sans-Serif\" font-size=\"14.00\">class = very&#45;low</text>\r\n",
       "</g>\r\n",
       "<!-- 26&#45;&gt;27 -->\r\n",
       "<g id=\"edge27\" class=\"edge\"><title>26&#45;&gt;27</title>\r\n",
       "<path fill=\"none\" stroke=\"black\" d=\"M4758.4,-88.9485C4738,-78.748 4715.65,-67.5744 4695.67,-57.5852\"/>\r\n",
       "<polygon fill=\"black\" stroke=\"black\" points=\"4697.18,-54.4284 4686.67,-53.0867 4694.05,-60.6894 4697.18,-54.4284\"/>\r\n",
       "</g>\r\n",
       "<!-- 28 -->\r\n",
       "<g id=\"node29\" class=\"node\"><title>28</title>\r\n",
       "<path fill=\"#f3fbdd\" stroke=\"black\" d=\"M5188,-53C5188,-53 4853,-53 4853,-53 4847,-53 4841,-47 4841,-41 4841,-41 4841,-12 4841,-12 4841,-6 4847,-0 4853,-0 4853,-0 5188,-0 5188,-0 5194,-0 5200,-6 5200,-12 5200,-12 5200,-41 5200,-41 5200,-47 5194,-53 5188,-53\"/>\r\n",
       "<text text-anchor=\"middle\" x=\"5020.5\" y=\"-37.8\" font-family=\"Helvetica,sans-Serif\" font-size=\"14.00\">samples = 0.2%</text>\r\n",
       "<text text-anchor=\"middle\" x=\"5020.5\" y=\"-22.8\" font-family=\"Helvetica,sans-Serif\" font-size=\"14.00\">value = [0.012, 0.407, 0.123, 0.049, 0.284, 0.0, 0.123]</text>\r\n",
       "<text text-anchor=\"middle\" x=\"5020.5\" y=\"-7.8\" font-family=\"Helvetica,sans-Serif\" font-size=\"14.00\">class = low</text>\r\n",
       "</g>\r\n",
       "<!-- 26&#45;&gt;28 -->\r\n",
       "<g id=\"edge28\" class=\"edge\"><title>26&#45;&gt;28</title>\r\n",
       "<path fill=\"none\" stroke=\"black\" d=\"M4893.05,-88.9485C4914.3,-78.7021 4937.59,-67.4737 4958.38,-57.4503\"/>\r\n",
       "<polygon fill=\"black\" stroke=\"black\" points=\"4959.94,-60.5824 4967.43,-53.0867 4956.9,-54.277 4959.94,-60.5824\"/>\r\n",
       "</g>\r\n",
       "<!-- 30 -->\r\n",
       "<g id=\"node31\" class=\"node\"><title>30</title>\r\n",
       "<path fill=\"#fbdeeb\" stroke=\"black\" d=\"M5548.5,-53C5548.5,-53 5230.5,-53 5230.5,-53 5224.5,-53 5218.5,-47 5218.5,-41 5218.5,-41 5218.5,-12 5218.5,-12 5218.5,-6 5224.5,-0 5230.5,-0 5230.5,-0 5548.5,-0 5548.5,-0 5554.5,-0 5560.5,-6 5560.5,-12 5560.5,-12 5560.5,-41 5560.5,-41 5560.5,-47 5554.5,-53 5548.5,-53\"/>\r\n",
       "<text text-anchor=\"middle\" x=\"5389.5\" y=\"-37.8\" font-family=\"Helvetica,sans-Serif\" font-size=\"14.00\">samples = 0.0%</text>\r\n",
       "<text text-anchor=\"middle\" x=\"5389.5\" y=\"-22.8\" font-family=\"Helvetica,sans-Serif\" font-size=\"14.00\">value = [0.0, 0.133, 0.2, 0.067, 0.133, 0.133, 0.333]</text>\r\n",
       "<text text-anchor=\"middle\" x=\"5389.5\" y=\"-7.8\" font-family=\"Helvetica,sans-Serif\" font-size=\"14.00\">class = very&#45;low</text>\r\n",
       "</g>\r\n",
       "<!-- 29&#45;&gt;30 -->\r\n",
       "<g id=\"edge30\" class=\"edge\"><title>29&#45;&gt;30</title>\r\n",
       "<path fill=\"none\" stroke=\"black\" d=\"M5389.5,-88.9485C5389.5,-80.7153 5389.5,-71.848 5389.5,-63.4814\"/>\r\n",
       "<polygon fill=\"black\" stroke=\"black\" points=\"5393,-63.2367 5389.5,-53.2367 5386,-63.2367 5393,-63.2367\"/>\r\n",
       "</g>\r\n",
       "<!-- 31 -->\r\n",
       "<g id=\"node32\" class=\"node\"><title>31</title>\r\n",
       "<path fill=\"#e85295\" stroke=\"black\" d=\"M5900.5,-53C5900.5,-53 5590.5,-53 5590.5,-53 5584.5,-53 5578.5,-47 5578.5,-41 5578.5,-41 5578.5,-12 5578.5,-12 5578.5,-6 5584.5,-0 5590.5,-0 5590.5,-0 5900.5,-0 5900.5,-0 5906.5,-0 5912.5,-6 5912.5,-12 5912.5,-12 5912.5,-41 5912.5,-41 5912.5,-47 5906.5,-53 5900.5,-53\"/>\r\n",
       "<text text-anchor=\"middle\" x=\"5745.5\" y=\"-37.8\" font-family=\"Helvetica,sans-Serif\" font-size=\"14.00\">samples = 0.2%</text>\r\n",
       "<text text-anchor=\"middle\" x=\"5745.5\" y=\"-22.8\" font-family=\"Helvetica,sans-Serif\" font-size=\"14.00\">value = [0.011, 0.08, 0.011, 0.0, 0.011, 0.0, 0.885]</text>\r\n",
       "<text text-anchor=\"middle\" x=\"5745.5\" y=\"-7.8\" font-family=\"Helvetica,sans-Serif\" font-size=\"14.00\">class = very&#45;low</text>\r\n",
       "</g>\r\n",
       "<!-- 29&#45;&gt;31 -->\r\n",
       "<g id=\"edge31\" class=\"edge\"><title>29&#45;&gt;31</title>\r\n",
       "<path fill=\"none\" stroke=\"black\" d=\"M5514.01,-88.9485C5554.95,-78.0802 5600.06,-66.1071 5639.49,-55.6391\"/>\r\n",
       "<polygon fill=\"black\" stroke=\"black\" points=\"5640.62,-58.9603 5649.39,-53.0118 5638.83,-52.1946 5640.62,-58.9603\"/>\r\n",
       "</g>\r\n",
       "<!-- 33 -->\r\n",
       "<g id=\"node34\" class=\"node\"><title>33</title>\r\n",
       "<path fill=\"#f1dbfa\" stroke=\"black\" d=\"M7454,-365C7454,-365 7103,-365 7103,-365 7097,-365 7091,-359 7091,-353 7091,-353 7091,-309 7091,-309 7091,-303 7097,-297 7103,-297 7103,-297 7454,-297 7454,-297 7460,-297 7466,-303 7466,-309 7466,-309 7466,-353 7466,-353 7466,-359 7460,-365 7454,-365\"/>\r\n",
       "<text text-anchor=\"middle\" x=\"7278.5\" y=\"-349.8\" font-family=\"Helvetica,sans-Serif\" font-size=\"14.00\">just &lt;= 0.002</text>\r\n",
       "<text text-anchor=\"middle\" x=\"7278.5\" y=\"-334.8\" font-family=\"Helvetica,sans-Serif\" font-size=\"14.00\">samples = 3.9%</text>\r\n",
       "<text text-anchor=\"middle\" x=\"7278.5\" y=\"-319.8\" font-family=\"Helvetica,sans-Serif\" font-size=\"14.00\">value = [0.325, 0.015, 0.045, 0.125, 0.019, 0.448, 0.022]</text>\r\n",
       "<text text-anchor=\"middle\" x=\"7278.5\" y=\"-304.8\" font-family=\"Helvetica,sans-Serif\" font-size=\"14.00\">class = very&#45;high</text>\r\n",
       "</g>\r\n",
       "<!-- 32&#45;&gt;33 -->\r\n",
       "<g id=\"edge33\" class=\"edge\"><title>32&#45;&gt;33</title>\r\n",
       "<path fill=\"none\" stroke=\"black\" d=\"M7278.5,-400.884C7278.5,-392.778 7278.5,-383.982 7278.5,-375.472\"/>\r\n",
       "<polygon fill=\"black\" stroke=\"black\" points=\"7282,-375.299 7278.5,-365.299 7275,-375.299 7282,-375.299\"/>\r\n",
       "</g>\r\n",
       "<!-- 48 -->\r\n",
       "<g id=\"node49\" class=\"node\"><title>48</title>\r\n",
       "<path fill=\"#fefdff\" stroke=\"black\" d=\"M9458,-365C9458,-365 9115,-365 9115,-365 9109,-365 9103,-359 9103,-353 9103,-353 9103,-309 9103,-309 9103,-303 9109,-297 9115,-297 9115,-297 9458,-297 9458,-297 9464,-297 9470,-303 9470,-309 9470,-309 9470,-353 9470,-353 9470,-359 9464,-365 9458,-365\"/>\r\n",
       "<text text-anchor=\"middle\" x=\"9286.5\" y=\"-349.8\" font-family=\"Helvetica,sans-Serif\" font-size=\"14.00\">sidemen &lt;= 0.024</text>\r\n",
       "<text text-anchor=\"middle\" x=\"9286.5\" y=\"-334.8\" font-family=\"Helvetica,sans-Serif\" font-size=\"14.00\">samples = 1.4%</text>\r\n",
       "<text text-anchor=\"middle\" x=\"9286.5\" y=\"-319.8\" font-family=\"Helvetica,sans-Serif\" font-size=\"14.00\">value = [0.231, 0.095, 0.127, 0.142, 0.091, 0.24, 0.074]</text>\r\n",
       "<text text-anchor=\"middle\" x=\"9286.5\" y=\"-304.8\" font-family=\"Helvetica,sans-Serif\" font-size=\"14.00\">class = very&#45;high</text>\r\n",
       "</g>\r\n",
       "<!-- 32&#45;&gt;48 -->\r\n",
       "<g id=\"edge48\" class=\"edge\"><title>32&#45;&gt;48</title>\r\n",
       "<path fill=\"none\" stroke=\"black\" d=\"M7462.02,-424.678C7840.6,-405.447 8705.12,-361.532 9092.49,-341.855\"/>\r\n",
       "<polygon fill=\"black\" stroke=\"black\" points=\"9092.87,-345.34 9102.68,-341.337 9092.52,-338.349 9092.87,-345.34\"/>\r\n",
       "</g>\r\n",
       "<!-- 34 -->\r\n",
       "<g id=\"node35\" class=\"node\"><title>34</title>\r\n",
       "<path fill=\"#d89cf2\" stroke=\"black\" d=\"M7119,-261C7119,-261 6776,-261 6776,-261 6770,-261 6764,-255 6764,-249 6764,-249 6764,-205 6764,-205 6764,-199 6770,-193 6776,-193 6776,-193 7119,-193 7119,-193 7125,-193 7131,-199 7131,-205 7131,-205 7131,-249 7131,-249 7131,-255 7125,-261 7119,-261\"/>\r\n",
       "<text text-anchor=\"middle\" x=\"6947.5\" y=\"-245.8\" font-family=\"Helvetica,sans-Serif\" font-size=\"14.00\">stuff &lt;= 0.007</text>\r\n",
       "<text text-anchor=\"middle\" x=\"6947.5\" y=\"-230.8\" font-family=\"Helvetica,sans-Serif\" font-size=\"14.00\">samples = 1.0%</text>\r\n",
       "<text text-anchor=\"middle\" x=\"6947.5\" y=\"-215.8\" font-family=\"Helvetica,sans-Serif\" font-size=\"14.00\">value = [0.234, 0.008, 0.033, 0.08, 0.014, 0.615, 0.016]</text>\r\n",
       "<text text-anchor=\"middle\" x=\"6947.5\" y=\"-200.8\" font-family=\"Helvetica,sans-Serif\" font-size=\"14.00\">class = very&#45;high</text>\r\n",
       "</g>\r\n",
       "<!-- 33&#45;&gt;34 -->\r\n",
       "<g id=\"edge34\" class=\"edge\"><title>33&#45;&gt;34</title>\r\n",
       "<path fill=\"none\" stroke=\"black\" d=\"M7171.03,-296.884C7136.96,-286.382 7099.12,-274.722 7064.41,-264.027\"/>\r\n",
       "<polygon fill=\"black\" stroke=\"black\" points=\"7065.3,-260.638 7054.71,-261.038 7063.24,-267.327 7065.3,-260.638\"/>\r\n",
       "</g>\r\n",
       "<!-- 41 -->\r\n",
       "<g id=\"node42\" class=\"node\"><title>41</title>\r\n",
       "<path fill=\"#fbf4fe\" stroke=\"black\" d=\"M7731,-261C7731,-261 7388,-261 7388,-261 7382,-261 7376,-255 7376,-249 7376,-249 7376,-205 7376,-205 7376,-199 7382,-193 7388,-193 7388,-193 7731,-193 7731,-193 7737,-193 7743,-199 7743,-205 7743,-205 7743,-249 7743,-249 7743,-255 7737,-261 7731,-261\"/>\r\n",
       "<text text-anchor=\"middle\" x=\"7559.5\" y=\"-245.8\" font-family=\"Helvetica,sans-Serif\" font-size=\"14.00\">shorts &lt;= 0.201</text>\r\n",
       "<text text-anchor=\"middle\" x=\"7559.5\" y=\"-230.8\" font-family=\"Helvetica,sans-Serif\" font-size=\"14.00\">samples = 2.9%</text>\r\n",
       "<text text-anchor=\"middle\" x=\"7559.5\" y=\"-215.8\" font-family=\"Helvetica,sans-Serif\" font-size=\"14.00\">value = [0.356, 0.018, 0.049, 0.141, 0.02, 0.392, 0.024]</text>\r\n",
       "<text text-anchor=\"middle\" x=\"7559.5\" y=\"-200.8\" font-family=\"Helvetica,sans-Serif\" font-size=\"14.00\">class = very&#45;high</text>\r\n",
       "</g>\r\n",
       "<!-- 33&#45;&gt;41 -->\r\n",
       "<g id=\"edge41\" class=\"edge\"><title>33&#45;&gt;41</title>\r\n",
       "<path fill=\"none\" stroke=\"black\" d=\"M7369.73,-296.884C7398.1,-286.588 7429.53,-275.179 7458.52,-264.656\"/>\r\n",
       "<polygon fill=\"black\" stroke=\"black\" points=\"7460.04,-267.827 7468.24,-261.125 7457.65,-261.247 7460.04,-267.827\"/>\r\n",
       "</g>\r\n",
       "<!-- 35 -->\r\n",
       "<g id=\"node36\" class=\"node\"><title>35</title>\r\n",
       "<path fill=\"#d491f1\" stroke=\"black\" d=\"M6625,-157C6625,-157 6274,-157 6274,-157 6268,-157 6262,-151 6262,-145 6262,-145 6262,-101 6262,-101 6262,-95 6268,-89 6274,-89 6274,-89 6625,-89 6625,-89 6631,-89 6637,-95 6637,-101 6637,-101 6637,-145 6637,-145 6637,-151 6631,-157 6625,-157\"/>\r\n",
       "<text text-anchor=\"middle\" x=\"6449.5\" y=\"-141.8\" font-family=\"Helvetica,sans-Serif\" font-size=\"14.00\">going &lt;= 0.018</text>\r\n",
       "<text text-anchor=\"middle\" x=\"6449.5\" y=\"-126.8\" font-family=\"Helvetica,sans-Serif\" font-size=\"14.00\">samples = 0.9%</text>\r\n",
       "<text text-anchor=\"middle\" x=\"6449.5\" y=\"-111.8\" font-family=\"Helvetica,sans-Serif\" font-size=\"14.00\">value = [0.221, 0.006, 0.026, 0.065, 0.012, 0.653, 0.018]</text>\r\n",
       "<text text-anchor=\"middle\" x=\"6449.5\" y=\"-96.8\" font-family=\"Helvetica,sans-Serif\" font-size=\"14.00\">class = very&#45;high</text>\r\n",
       "</g>\r\n",
       "<!-- 34&#45;&gt;35 -->\r\n",
       "<g id=\"edge35\" class=\"edge\"><title>34&#45;&gt;35</title>\r\n",
       "<path fill=\"none\" stroke=\"black\" d=\"M6786.16,-192.954C6733.34,-182.135 6674.48,-170.081 6620.94,-159.115\"/>\r\n",
       "<polygon fill=\"black\" stroke=\"black\" points=\"6621.51,-155.659 6611.01,-157.081 6620.11,-162.516 6621.51,-155.659\"/>\r\n",
       "</g>\r\n",
       "<!-- 38 -->\r\n",
       "<g id=\"node39\" class=\"node\"><title>38</title>\r\n",
       "<path fill=\"#fae9dc\" stroke=\"black\" d=\"M7115,-157C7115,-157 6780,-157 6780,-157 6774,-157 6768,-151 6768,-145 6768,-145 6768,-101 6768,-101 6768,-95 6774,-89 6780,-89 6780,-89 7115,-89 7115,-89 7121,-89 7127,-95 7127,-101 7127,-101 7127,-145 7127,-145 7127,-151 7121,-157 7115,-157\"/>\r\n",
       "<text text-anchor=\"middle\" x=\"6947.5\" y=\"-141.8\" font-family=\"Helvetica,sans-Serif\" font-size=\"14.00\">feel &lt;= 0.011</text>\r\n",
       "<text text-anchor=\"middle\" x=\"6947.5\" y=\"-126.8\" font-family=\"Helvetica,sans-Serif\" font-size=\"14.00\">samples = 0.1%</text>\r\n",
       "<text text-anchor=\"middle\" x=\"6947.5\" y=\"-111.8\" font-family=\"Helvetica,sans-Serif\" font-size=\"14.00\">value = [0.417, 0.042, 0.125, 0.292, 0.042, 0.083, 0.0]</text>\r\n",
       "<text text-anchor=\"middle\" x=\"6947.5\" y=\"-96.8\" font-family=\"Helvetica,sans-Serif\" font-size=\"14.00\">class = high</text>\r\n",
       "</g>\r\n",
       "<!-- 34&#45;&gt;38 -->\r\n",
       "<g id=\"edge38\" class=\"edge\"><title>34&#45;&gt;38</title>\r\n",
       "<path fill=\"none\" stroke=\"black\" d=\"M6947.5,-192.884C6947.5,-184.778 6947.5,-175.982 6947.5,-167.472\"/>\r\n",
       "<polygon fill=\"black\" stroke=\"black\" points=\"6951,-167.299 6947.5,-157.299 6944,-167.299 6951,-167.299\"/>\r\n",
       "</g>\r\n",
       "<!-- 36 -->\r\n",
       "<g id=\"node37\" class=\"node\"><title>36</title>\r\n",
       "<path fill=\"#ce83ef\" stroke=\"black\" d=\"M6268.5,-53C6268.5,-53 5942.5,-53 5942.5,-53 5936.5,-53 5930.5,-47 5930.5,-41 5930.5,-41 5930.5,-12 5930.5,-12 5930.5,-6 5936.5,-0 5942.5,-0 5942.5,-0 6268.5,-0 6268.5,-0 6274.5,-0 6280.5,-6 6280.5,-12 6280.5,-12 6280.5,-41 6280.5,-41 6280.5,-47 6274.5,-53 6268.5,-53\"/>\r\n",
       "<text text-anchor=\"middle\" x=\"6105.5\" y=\"-37.8\" font-family=\"Helvetica,sans-Serif\" font-size=\"14.00\">samples = 0.8%</text>\r\n",
       "<text text-anchor=\"middle\" x=\"6105.5\" y=\"-22.8\" font-family=\"Helvetica,sans-Serif\" font-size=\"14.00\">value = [0.173, 0.007, 0.03, 0.067, 0.013, 0.69, 0.02]</text>\r\n",
       "<text text-anchor=\"middle\" x=\"6105.5\" y=\"-7.8\" font-family=\"Helvetica,sans-Serif\" font-size=\"14.00\">class = very&#45;high</text>\r\n",
       "</g>\r\n",
       "<!-- 35&#45;&gt;36 -->\r\n",
       "<g id=\"edge36\" class=\"edge\"><title>35&#45;&gt;36</title>\r\n",
       "<path fill=\"none\" stroke=\"black\" d=\"M6329.19,-88.9485C6289.79,-78.1263 6246.41,-66.2086 6208.42,-55.7723\"/>\r\n",
       "<polygon fill=\"black\" stroke=\"black\" points=\"6208.94,-52.2858 6198.37,-53.0118 6207.08,-59.0358 6208.94,-52.2858\"/>\r\n",
       "</g>\r\n",
       "<!-- 37 -->\r\n",
       "<g id=\"node38\" class=\"node\"><title>37</title>\r\n",
       "<path fill=\"#f7d7c0\" stroke=\"black\" d=\"M6588,-53C6588,-53 6311,-53 6311,-53 6305,-53 6299,-47 6299,-41 6299,-41 6299,-12 6299,-12 6299,-6 6305,-0 6311,-0 6311,-0 6588,-0 6588,-0 6594,-0 6600,-6 6600,-12 6600,-12 6600,-41 6600,-41 6600,-47 6594,-53 6588,-53\"/>\r\n",
       "<text text-anchor=\"middle\" x=\"6449.5\" y=\"-37.8\" font-family=\"Helvetica,sans-Serif\" font-size=\"14.00\">samples = 0.1%</text>\r\n",
       "<text text-anchor=\"middle\" x=\"6449.5\" y=\"-22.8\" font-family=\"Helvetica,sans-Serif\" font-size=\"14.00\">value = [0.575, 0.0, 0.0, 0.05, 0.0, 0.375, 0.0]</text>\r\n",
       "<text text-anchor=\"middle\" x=\"6449.5\" y=\"-7.8\" font-family=\"Helvetica,sans-Serif\" font-size=\"14.00\">class = high</text>\r\n",
       "</g>\r\n",
       "<!-- 35&#45;&gt;37 -->\r\n",
       "<g id=\"edge37\" class=\"edge\"><title>35&#45;&gt;37</title>\r\n",
       "<path fill=\"none\" stroke=\"black\" d=\"M6449.5,-88.9485C6449.5,-80.7153 6449.5,-71.848 6449.5,-63.4814\"/>\r\n",
       "<polygon fill=\"black\" stroke=\"black\" points=\"6453,-63.2367 6449.5,-53.2367 6446,-63.2367 6453,-63.2367\"/>\r\n",
       "</g>\r\n",
       "<!-- 39 -->\r\n",
       "<g id=\"node40\" class=\"node\"><title>39</title>\r\n",
       "<path fill=\"#f4cbad\" stroke=\"black\" d=\"M6899,-53C6899,-53 6630,-53 6630,-53 6624,-53 6618,-47 6618,-41 6618,-41 6618,-12 6618,-12 6618,-6 6624,-0 6630,-0 6630,-0 6899,-0 6899,-0 6905,-0 6911,-6 6911,-12 6911,-12 6911,-41 6911,-41 6911,-47 6905,-53 6899,-53\"/>\r\n",
       "<text text-anchor=\"middle\" x=\"6764.5\" y=\"-37.8\" font-family=\"Helvetica,sans-Serif\" font-size=\"14.00\">samples = 0.1%</text>\r\n",
       "<text text-anchor=\"middle\" x=\"6764.5\" y=\"-22.8\" font-family=\"Helvetica,sans-Serif\" font-size=\"14.00\">value = [0.5, 0.05, 0.15, 0.15, 0.05, 0.1, 0.0]</text>\r\n",
       "<text text-anchor=\"middle\" x=\"6764.5\" y=\"-7.8\" font-family=\"Helvetica,sans-Serif\" font-size=\"14.00\">class = high</text>\r\n",
       "</g>\r\n",
       "<!-- 38&#45;&gt;39 -->\r\n",
       "<g id=\"edge39\" class=\"edge\"><title>38&#45;&gt;39</title>\r\n",
       "<path fill=\"none\" stroke=\"black\" d=\"M6883.5,-88.9485C6863.83,-78.794 6842.3,-67.675 6823.02,-57.7203\"/>\r\n",
       "<polygon fill=\"black\" stroke=\"black\" points=\"6824.54,-54.5652 6814.05,-53.0867 6821.33,-60.7849 6824.54,-54.5652\"/>\r\n",
       "</g>\r\n",
       "<!-- 40 -->\r\n",
       "<g id=\"node41\" class=\"node\"><title>40</title>\r\n",
       "<path fill=\"#39e5e2\" stroke=\"black\" d=\"M7177.5,-53C7177.5,-53 6941.5,-53 6941.5,-53 6935.5,-53 6929.5,-47 6929.5,-41 6929.5,-41 6929.5,-12 6929.5,-12 6929.5,-6 6935.5,-0 6941.5,-0 6941.5,-0 7177.5,-0 7177.5,-0 7183.5,-0 7189.5,-6 7189.5,-12 7189.5,-12 7189.5,-41 7189.5,-41 7189.5,-47 7183.5,-53 7177.5,-53\"/>\r\n",
       "<text text-anchor=\"middle\" x=\"7059.5\" y=\"-37.8\" font-family=\"Helvetica,sans-Serif\" font-size=\"14.00\">samples = 0.0%</text>\r\n",
       "<text text-anchor=\"middle\" x=\"7059.5\" y=\"-22.8\" font-family=\"Helvetica,sans-Serif\" font-size=\"14.00\">value = [0.0, 0.0, 0.0, 1.0, 0.0, 0.0, 0.0]</text>\r\n",
       "<text text-anchor=\"middle\" x=\"7059.5\" y=\"-7.8\" font-family=\"Helvetica,sans-Serif\" font-size=\"14.00\">class = mid&#45;high</text>\r\n",
       "</g>\r\n",
       "<!-- 38&#45;&gt;40 -->\r\n",
       "<g id=\"edge40\" class=\"edge\"><title>38&#45;&gt;40</title>\r\n",
       "<path fill=\"none\" stroke=\"black\" d=\"M6986.67,-88.9485C6997.84,-79.526 7009.99,-69.2731 7021.11,-59.8906\"/>\r\n",
       "<polygon fill=\"black\" stroke=\"black\" points=\"7023.61,-62.3605 7029,-53.2367 7019.1,-57.0104 7023.61,-62.3605\"/>\r\n",
       "</g>\r\n",
       "<!-- 42 -->\r\n",
       "<g id=\"node43\" class=\"node\"><title>42</title>\r\n",
       "<path fill=\"#ffffff\" stroke=\"black\" d=\"M7727,-157C7727,-157 7392,-157 7392,-157 7386,-157 7380,-151 7380,-145 7380,-145 7380,-101 7380,-101 7380,-95 7386,-89 7392,-89 7392,-89 7727,-89 7727,-89 7733,-89 7739,-95 7739,-101 7739,-101 7739,-145 7739,-145 7739,-151 7733,-157 7727,-157\"/>\r\n",
       "<text text-anchor=\"middle\" x=\"7559.5\" y=\"-141.8\" font-family=\"Helvetica,sans-Serif\" font-size=\"14.00\">season &lt;= 0.049</text>\r\n",
       "<text text-anchor=\"middle\" x=\"7559.5\" y=\"-126.8\" font-family=\"Helvetica,sans-Serif\" font-size=\"14.00\">samples = 2.7%</text>\r\n",
       "<text text-anchor=\"middle\" x=\"7559.5\" y=\"-111.8\" font-family=\"Helvetica,sans-Serif\" font-size=\"14.00\">value = [0.37, 0.019, 0.05, 0.146, 0.022, 0.369, 0.024]</text>\r\n",
       "<text text-anchor=\"middle\" x=\"7559.5\" y=\"-96.8\" font-family=\"Helvetica,sans-Serif\" font-size=\"14.00\">class = high</text>\r\n",
       "</g>\r\n",
       "<!-- 41&#45;&gt;42 -->\r\n",
       "<g id=\"edge42\" class=\"edge\"><title>41&#45;&gt;42</title>\r\n",
       "<path fill=\"none\" stroke=\"black\" d=\"M7559.5,-192.884C7559.5,-184.778 7559.5,-175.982 7559.5,-167.472\"/>\r\n",
       "<polygon fill=\"black\" stroke=\"black\" points=\"7563,-167.299 7559.5,-157.299 7556,-167.299 7563,-167.299\"/>\r\n",
       "</g>\r\n",
       "<!-- 45 -->\r\n",
       "<g id=\"node46\" class=\"node\"><title>45</title>\r\n",
       "<path fill=\"#c874ed\" stroke=\"black\" d=\"M8234.5,-157C8234.5,-157 7932.5,-157 7932.5,-157 7926.5,-157 7920.5,-151 7920.5,-145 7920.5,-145 7920.5,-101 7920.5,-101 7920.5,-95 7926.5,-89 7932.5,-89 7932.5,-89 8234.5,-89 8234.5,-89 8240.5,-89 8246.5,-95 8246.5,-101 8246.5,-101 8246.5,-145 8246.5,-145 8246.5,-151 8240.5,-157 8234.5,-157\"/>\r\n",
       "<text text-anchor=\"middle\" x=\"8083.5\" y=\"-141.8\" font-family=\"Helvetica,sans-Serif\" font-size=\"14.00\">lives &lt;= 0.012</text>\r\n",
       "<text text-anchor=\"middle\" x=\"8083.5\" y=\"-126.8\" font-family=\"Helvetica,sans-Serif\" font-size=\"14.00\">samples = 0.2%</text>\r\n",
       "<text text-anchor=\"middle\" x=\"8083.5\" y=\"-111.8\" font-family=\"Helvetica,sans-Serif\" font-size=\"14.00\">value = [0.136, 0.0, 0.03, 0.061, 0.0, 0.742, 0.03]</text>\r\n",
       "<text text-anchor=\"middle\" x=\"8083.5\" y=\"-96.8\" font-family=\"Helvetica,sans-Serif\" font-size=\"14.00\">class = very&#45;high</text>\r\n",
       "</g>\r\n",
       "<!-- 41&#45;&gt;45 -->\r\n",
       "<g id=\"edge45\" class=\"edge\"><title>41&#45;&gt;45</title>\r\n",
       "<path fill=\"none\" stroke=\"black\" d=\"M7729.27,-192.954C7787.19,-181.678 7852.02,-169.059 7910.22,-157.73\"/>\r\n",
       "<polygon fill=\"black\" stroke=\"black\" points=\"7911.1,-161.124 7920.25,-155.777 7909.77,-154.253 7911.1,-161.124\"/>\r\n",
       "</g>\r\n",
       "<!-- 43 -->\r\n",
       "<g id=\"node44\" class=\"node\"><title>43</title>\r\n",
       "<path fill=\"#ffffff\" stroke=\"black\" d=\"M7571,-53C7571,-53 7220,-53 7220,-53 7214,-53 7208,-47 7208,-41 7208,-41 7208,-12 7208,-12 7208,-6 7214,-0 7220,-0 7220,-0 7571,-0 7571,-0 7577,-0 7583,-6 7583,-12 7583,-12 7583,-41 7583,-41 7583,-47 7577,-53 7571,-53\"/>\r\n",
       "<text text-anchor=\"middle\" x=\"7395.5\" y=\"-37.8\" font-family=\"Helvetica,sans-Serif\" font-size=\"14.00\">samples = 2.7%</text>\r\n",
       "<text text-anchor=\"middle\" x=\"7395.5\" y=\"-22.8\" font-family=\"Helvetica,sans-Serif\" font-size=\"14.00\">value = [0.373, 0.019, 0.051, 0.148, 0.022, 0.374, 0.014]</text>\r\n",
       "<text text-anchor=\"middle\" x=\"7395.5\" y=\"-7.8\" font-family=\"Helvetica,sans-Serif\" font-size=\"14.00\">class = very&#45;high</text>\r\n",
       "</g>\r\n",
       "<!-- 42&#45;&gt;43 -->\r\n",
       "<g id=\"edge43\" class=\"edge\"><title>42&#45;&gt;43</title>\r\n",
       "<path fill=\"none\" stroke=\"black\" d=\"M7502.14,-88.9485C7484.76,-78.9318 7465.75,-67.9767 7448.65,-58.1263\"/>\r\n",
       "<polygon fill=\"black\" stroke=\"black\" points=\"7450.32,-55.0468 7439.9,-53.0867 7446.82,-61.112 7450.32,-55.0468\"/>\r\n",
       "</g>\r\n",
       "<!-- 44 -->\r\n",
       "<g id=\"node45\" class=\"node\"><title>44</title>\r\n",
       "<path fill=\"#ea619e\" stroke=\"black\" d=\"M7882,-53C7882,-53 7613,-53 7613,-53 7607,-53 7601,-47 7601,-41 7601,-41 7601,-12 7601,-12 7601,-6 7607,-0 7613,-0 7613,-0 7882,-0 7882,-0 7888,-0 7894,-6 7894,-12 7894,-12 7894,-41 7894,-41 7894,-47 7888,-53 7882,-53\"/>\r\n",
       "<text text-anchor=\"middle\" x=\"7747.5\" y=\"-37.8\" font-family=\"Helvetica,sans-Serif\" font-size=\"14.00\">samples = 0.0%</text>\r\n",
       "<text text-anchor=\"middle\" x=\"7747.5\" y=\"-22.8\" font-family=\"Helvetica,sans-Serif\" font-size=\"14.00\">value = [0.167, 0.0, 0.0, 0.0, 0.0, 0.0, 0.833]</text>\r\n",
       "<text text-anchor=\"middle\" x=\"7747.5\" y=\"-7.8\" font-family=\"Helvetica,sans-Serif\" font-size=\"14.00\">class = very&#45;low</text>\r\n",
       "</g>\r\n",
       "<!-- 42&#45;&gt;44 -->\r\n",
       "<g id=\"edge44\" class=\"edge\"><title>42&#45;&gt;44</title>\r\n",
       "<path fill=\"none\" stroke=\"black\" d=\"M7625.25,-88.9485C7645.55,-78.748 7667.78,-67.5744 7687.65,-57.5852\"/>\r\n",
       "<polygon fill=\"black\" stroke=\"black\" points=\"7689.23,-60.705 7696.6,-53.0867 7686.09,-54.4507 7689.23,-60.705\"/>\r\n",
       "</g>\r\n",
       "<!-- 46 -->\r\n",
       "<g id=\"node47\" class=\"node\"><title>46</title>\r\n",
       "<path fill=\"#c46aeb\" stroke=\"black\" d=\"M8242.5,-53C8242.5,-53 7924.5,-53 7924.5,-53 7918.5,-53 7912.5,-47 7912.5,-41 7912.5,-41 7912.5,-12 7912.5,-12 7912.5,-6 7918.5,-0 7924.5,-0 7924.5,-0 8242.5,-0 8242.5,-0 8248.5,-0 8254.5,-6 8254.5,-12 8254.5,-12 8254.5,-41 8254.5,-41 8254.5,-47 8248.5,-53 8242.5,-53\"/>\r\n",
       "<text text-anchor=\"middle\" x=\"8083.5\" y=\"-37.8\" font-family=\"Helvetica,sans-Serif\" font-size=\"14.00\">samples = 0.2%</text>\r\n",
       "<text text-anchor=\"middle\" x=\"8083.5\" y=\"-22.8\" font-family=\"Helvetica,sans-Serif\" font-size=\"14.00\">value = [0.095, 0.0, 0.032, 0.063, 0.0, 0.778, 0.032]</text>\r\n",
       "<text text-anchor=\"middle\" x=\"8083.5\" y=\"-7.8\" font-family=\"Helvetica,sans-Serif\" font-size=\"14.00\">class = very&#45;high</text>\r\n",
       "</g>\r\n",
       "<!-- 45&#45;&gt;46 -->\r\n",
       "<g id=\"edge46\" class=\"edge\"><title>45&#45;&gt;46</title>\r\n",
       "<path fill=\"none\" stroke=\"black\" d=\"M8083.5,-88.9485C8083.5,-80.7153 8083.5,-71.848 8083.5,-63.4814\"/>\r\n",
       "<polygon fill=\"black\" stroke=\"black\" points=\"8087,-63.2367 8083.5,-53.2367 8080,-63.2367 8087,-63.2367\"/>\r\n",
       "</g>\r\n",
       "<!-- 47 -->\r\n",
       "<g id=\"node48\" class=\"node\"><title>47</title>\r\n",
       "<path fill=\"#e58139\" stroke=\"black\" d=\"M8520.5,-53C8520.5,-53 8284.5,-53 8284.5,-53 8278.5,-53 8272.5,-47 8272.5,-41 8272.5,-41 8272.5,-12 8272.5,-12 8272.5,-6 8278.5,-0 8284.5,-0 8284.5,-0 8520.5,-0 8520.5,-0 8526.5,-0 8532.5,-6 8532.5,-12 8532.5,-12 8532.5,-41 8532.5,-41 8532.5,-47 8526.5,-53 8520.5,-53\"/>\r\n",
       "<text text-anchor=\"middle\" x=\"8402.5\" y=\"-37.8\" font-family=\"Helvetica,sans-Serif\" font-size=\"14.00\">samples = 0.0%</text>\r\n",
       "<text text-anchor=\"middle\" x=\"8402.5\" y=\"-22.8\" font-family=\"Helvetica,sans-Serif\" font-size=\"14.00\">value = [1.0, 0.0, 0.0, 0.0, 0.0, 0.0, 0.0]</text>\r\n",
       "<text text-anchor=\"middle\" x=\"8402.5\" y=\"-7.8\" font-family=\"Helvetica,sans-Serif\" font-size=\"14.00\">class = high</text>\r\n",
       "</g>\r\n",
       "<!-- 45&#45;&gt;47 -->\r\n",
       "<g id=\"edge47\" class=\"edge\"><title>45&#45;&gt;47</title>\r\n",
       "<path fill=\"none\" stroke=\"black\" d=\"M8195.07,-88.9485C8231.45,-78.1723 8271.49,-66.31 8306.61,-55.9056\"/>\r\n",
       "<polygon fill=\"black\" stroke=\"black\" points=\"8307.79,-59.2081 8316.38,-53.0118 8305.8,-52.4964 8307.79,-59.2081\"/>\r\n",
       "</g>\r\n",
       "<!-- 49 -->\r\n",
       "<g id=\"node50\" class=\"node\"><title>49</title>\r\n",
       "<path fill=\"#fdfbfe\" stroke=\"black\" d=\"M9462,-261C9462,-261 9111,-261 9111,-261 9105,-261 9099,-255 9099,-249 9099,-249 9099,-205 9099,-205 9099,-199 9105,-193 9111,-193 9111,-193 9462,-193 9462,-193 9468,-193 9474,-199 9474,-205 9474,-205 9474,-249 9474,-249 9474,-255 9468,-261 9462,-261\"/>\r\n",
       "<text text-anchor=\"middle\" x=\"9286.5\" y=\"-245.8\" font-family=\"Helvetica,sans-Serif\" font-size=\"14.00\">shorts &lt;= 0.062</text>\r\n",
       "<text text-anchor=\"middle\" x=\"9286.5\" y=\"-230.8\" font-family=\"Helvetica,sans-Serif\" font-size=\"14.00\">samples = 1.3%</text>\r\n",
       "<text text-anchor=\"middle\" x=\"9286.5\" y=\"-215.8\" font-family=\"Helvetica,sans-Serif\" font-size=\"14.00\">value = [0.246, 0.087, 0.126, 0.152, 0.089, 0.262, 0.037]</text>\r\n",
       "<text text-anchor=\"middle\" x=\"9286.5\" y=\"-200.8\" font-family=\"Helvetica,sans-Serif\" font-size=\"14.00\">class = very&#45;high</text>\r\n",
       "</g>\r\n",
       "<!-- 48&#45;&gt;49 -->\r\n",
       "<g id=\"edge49\" class=\"edge\"><title>48&#45;&gt;49</title>\r\n",
       "<path fill=\"none\" stroke=\"black\" d=\"M9286.5,-296.884C9286.5,-288.778 9286.5,-279.982 9286.5,-271.472\"/>\r\n",
       "<polygon fill=\"black\" stroke=\"black\" points=\"9290,-271.299 9286.5,-261.299 9283,-271.299 9290,-271.299\"/>\r\n",
       "</g>\r\n",
       "<!-- 56 -->\r\n",
       "<g id=\"node57\" class=\"node\"><title>56</title>\r\n",
       "<path fill=\"#f5b4d1\" stroke=\"black\" d=\"M10434,-261C10434,-261 10099,-261 10099,-261 10093,-261 10087,-255 10087,-249 10087,-249 10087,-205 10087,-205 10087,-199 10093,-193 10099,-193 10099,-193 10434,-193 10434,-193 10440,-193 10446,-199 10446,-205 10446,-205 10446,-249 10446,-249 10446,-255 10440,-261 10434,-261\"/>\r\n",
       "<text text-anchor=\"middle\" x=\"10266.5\" y=\"-245.8\" font-family=\"Helvetica,sans-Serif\" font-size=\"14.00\">great &lt;= 0.012</text>\r\n",
       "<text text-anchor=\"middle\" x=\"10266.5\" y=\"-230.8\" font-family=\"Helvetica,sans-Serif\" font-size=\"14.00\">samples = 0.1%</text>\r\n",
       "<text text-anchor=\"middle\" x=\"10266.5\" y=\"-215.8\" font-family=\"Helvetica,sans-Serif\" font-size=\"14.00\">value = [0.067, 0.178, 0.133, 0.022, 0.111, 0.0, 0.489]</text>\r\n",
       "<text text-anchor=\"middle\" x=\"10266.5\" y=\"-200.8\" font-family=\"Helvetica,sans-Serif\" font-size=\"14.00\">class = very&#45;low</text>\r\n",
       "</g>\r\n",
       "<!-- 48&#45;&gt;56 -->\r\n",
       "<g id=\"edge56\" class=\"edge\"><title>48&#45;&gt;56</title>\r\n",
       "<path fill=\"none\" stroke=\"black\" d=\"M9470.26,-310.874C9643.42,-292.852 9901.74,-265.964 10076.8,-247.743\"/>\r\n",
       "<polygon fill=\"black\" stroke=\"black\" points=\"10077.3,-251.208 10086.9,-246.691 10076.6,-244.246 10077.3,-251.208\"/>\r\n",
       "</g>\r\n",
       "<!-- 50 -->\r\n",
       "<g id=\"node51\" class=\"node\"><title>50</title>\r\n",
       "<path fill=\"#fefbf8\" stroke=\"black\" d=\"M9276,-157C9276,-157 8925,-157 8925,-157 8919,-157 8913,-151 8913,-145 8913,-145 8913,-101 8913,-101 8913,-95 8919,-89 8925,-89 8925,-89 9276,-89 9276,-89 9282,-89 9288,-95 9288,-101 9288,-101 9288,-145 9288,-145 9288,-151 9282,-157 9276,-157\"/>\r\n",
       "<text text-anchor=\"middle\" x=\"9100.5\" y=\"-141.8\" font-family=\"Helvetica,sans-Serif\" font-size=\"14.00\">headphones &lt;= 0.023</text>\r\n",
       "<text text-anchor=\"middle\" x=\"9100.5\" y=\"-126.8\" font-family=\"Helvetica,sans-Serif\" font-size=\"14.00\">samples = 1.0%</text>\r\n",
       "<text text-anchor=\"middle\" x=\"9100.5\" y=\"-111.8\" font-family=\"Helvetica,sans-Serif\" font-size=\"14.00\">value = [0.223, 0.115, 0.142, 0.174, 0.102, 0.196, 0.048]</text>\r\n",
       "<text text-anchor=\"middle\" x=\"9100.5\" y=\"-96.8\" font-family=\"Helvetica,sans-Serif\" font-size=\"14.00\">class = high</text>\r\n",
       "</g>\r\n",
       "<!-- 49&#45;&gt;50 -->\r\n",
       "<g id=\"edge50\" class=\"edge\"><title>49&#45;&gt;50</title>\r\n",
       "<path fill=\"none\" stroke=\"black\" d=\"M9226.11,-192.884C9208.15,-183.035 9188.34,-172.169 9169.86,-162.034\"/>\r\n",
       "<polygon fill=\"black\" stroke=\"black\" points=\"9171.35,-158.864 9160.9,-157.125 9167.99,-165.002 9171.35,-158.864\"/>\r\n",
       "</g>\r\n",
       "<!-- 53 -->\r\n",
       "<g id=\"node54\" class=\"node\"><title>53</title>\r\n",
       "<path fill=\"#eed3f9\" stroke=\"black\" d=\"M9628.5,-157C9628.5,-157 9318.5,-157 9318.5,-157 9312.5,-157 9306.5,-151 9306.5,-145 9306.5,-145 9306.5,-101 9306.5,-101 9306.5,-95 9312.5,-89 9318.5,-89 9318.5,-89 9628.5,-89 9628.5,-89 9634.5,-89 9640.5,-95 9640.5,-101 9640.5,-101 9640.5,-145 9640.5,-145 9640.5,-151 9634.5,-157 9628.5,-157\"/>\r\n",
       "<text text-anchor=\"middle\" x=\"9473.5\" y=\"-141.8\" font-family=\"Helvetica,sans-Serif\" font-size=\"14.00\">telegram &lt;= 0.014</text>\r\n",
       "<text text-anchor=\"middle\" x=\"9473.5\" y=\"-126.8\" font-family=\"Helvetica,sans-Serif\" font-size=\"14.00\">samples = 0.3%</text>\r\n",
       "<text text-anchor=\"middle\" x=\"9473.5\" y=\"-111.8\" font-family=\"Helvetica,sans-Serif\" font-size=\"14.00\">value = [0.319, 0.0, 0.076, 0.084, 0.05, 0.471, 0.0]</text>\r\n",
       "<text text-anchor=\"middle\" x=\"9473.5\" y=\"-96.8\" font-family=\"Helvetica,sans-Serif\" font-size=\"14.00\">class = very&#45;high</text>\r\n",
       "</g>\r\n",
       "<!-- 49&#45;&gt;53 -->\r\n",
       "<g id=\"edge53\" class=\"edge\"><title>49&#45;&gt;53</title>\r\n",
       "<path fill=\"none\" stroke=\"black\" d=\"M9347.21,-192.884C9365.27,-183.035 9385.19,-172.169 9403.77,-162.034\"/>\r\n",
       "<polygon fill=\"black\" stroke=\"black\" points=\"9405.67,-164.986 9412.77,-157.125 9402.32,-158.841 9405.67,-164.986\"/>\r\n",
       "</g>\r\n",
       "<!-- 51 -->\r\n",
       "<g id=\"node52\" class=\"node\"><title>51</title>\r\n",
       "<path fill=\"#fefbf8\" stroke=\"black\" d=\"M8906,-53C8906,-53 8563,-53 8563,-53 8557,-53 8551,-47 8551,-41 8551,-41 8551,-12 8551,-12 8551,-6 8557,-0 8563,-0 8563,-0 8906,-0 8906,-0 8912,-0 8918,-6 8918,-12 8918,-12 8918,-41 8918,-41 8918,-47 8912,-53 8906,-53\"/>\r\n",
       "<text text-anchor=\"middle\" x=\"8734.5\" y=\"-37.8\" font-family=\"Helvetica,sans-Serif\" font-size=\"14.00\">samples = 0.9%</text>\r\n",
       "<text text-anchor=\"middle\" x=\"8734.5\" y=\"-22.8\" font-family=\"Helvetica,sans-Serif\" font-size=\"14.00\">value = [0.243, 0.086, 0.133, 0.189, 0.083, 0.216, 0.05]</text>\r\n",
       "<text text-anchor=\"middle\" x=\"8734.5\" y=\"-7.8\" font-family=\"Helvetica,sans-Serif\" font-size=\"14.00\">class = high</text>\r\n",
       "</g>\r\n",
       "<!-- 50&#45;&gt;51 -->\r\n",
       "<g id=\"edge51\" class=\"edge\"><title>50&#45;&gt;51</title>\r\n",
       "<path fill=\"none\" stroke=\"black\" d=\"M8972.49,-88.9485C8930.31,-78.0572 8883.83,-66.0564 8843.23,-55.5726\"/>\r\n",
       "<polygon fill=\"black\" stroke=\"black\" points=\"8843.86,-52.123 8833.31,-53.0118 8842.11,-58.9007 8843.86,-52.123\"/>\r\n",
       "</g>\r\n",
       "<!-- 52 -->\r\n",
       "<g id=\"node53\" class=\"node\"><title>52</title>\r\n",
       "<path fill=\"#f3fbdf\" stroke=\"black\" d=\"M9266.5,-53C9266.5,-53 8948.5,-53 8948.5,-53 8942.5,-53 8936.5,-47 8936.5,-41 8936.5,-41 8936.5,-12 8936.5,-12 8936.5,-6 8942.5,-0 8948.5,-0 8948.5,-0 9266.5,-0 9266.5,-0 9272.5,-0 9278.5,-6 9278.5,-12 9278.5,-12 9278.5,-41 9278.5,-41 9278.5,-47 9272.5,-53 9266.5,-53\"/>\r\n",
       "<text text-anchor=\"middle\" x=\"9107.5\" y=\"-37.8\" font-family=\"Helvetica,sans-Serif\" font-size=\"14.00\">samples = 0.1%</text>\r\n",
       "<text text-anchor=\"middle\" x=\"9107.5\" y=\"-22.8\" font-family=\"Helvetica,sans-Serif\" font-size=\"14.00\">value = [0.029, 0.4, 0.229, 0.029, 0.286, 0.0, 0.029]</text>\r\n",
       "<text text-anchor=\"middle\" x=\"9107.5\" y=\"-7.8\" font-family=\"Helvetica,sans-Serif\" font-size=\"14.00\">class = low</text>\r\n",
       "</g>\r\n",
       "<!-- 50&#45;&gt;52 -->\r\n",
       "<g id=\"edge52\" class=\"edge\"><title>50&#45;&gt;52</title>\r\n",
       "<path fill=\"none\" stroke=\"black\" d=\"M9102.95,-88.9485C9103.56,-80.7153 9104.21,-71.848 9104.83,-63.4814\"/>\r\n",
       "<polygon fill=\"black\" stroke=\"black\" points=\"9108.35,-63.468 9105.59,-53.2367 9101.36,-62.9508 9108.35,-63.468\"/>\r\n",
       "</g>\r\n",
       "<!-- 54 -->\r\n",
       "<g id=\"node55\" class=\"node\"><title>54</title>\r\n",
       "<path fill=\"#e5bcf6\" stroke=\"black\" d=\"M9626.5,-53C9626.5,-53 9308.5,-53 9308.5,-53 9302.5,-53 9296.5,-47 9296.5,-41 9296.5,-41 9296.5,-12 9296.5,-12 9296.5,-6 9302.5,-0 9308.5,-0 9308.5,-0 9626.5,-0 9626.5,-0 9632.5,-0 9638.5,-6 9638.5,-12 9638.5,-12 9638.5,-41 9638.5,-41 9638.5,-47 9632.5,-53 9626.5,-53\"/>\r\n",
       "<text text-anchor=\"middle\" x=\"9467.5\" y=\"-37.8\" font-family=\"Helvetica,sans-Serif\" font-size=\"14.00\">samples = 0.3%</text>\r\n",
       "<text text-anchor=\"middle\" x=\"9467.5\" y=\"-22.8\" font-family=\"Helvetica,sans-Serif\" font-size=\"14.00\">value = [0.259, 0.0, 0.083, 0.093, 0.056, 0.509, 0.0]</text>\r\n",
       "<text text-anchor=\"middle\" x=\"9467.5\" y=\"-7.8\" font-family=\"Helvetica,sans-Serif\" font-size=\"14.00\">class = very&#45;high</text>\r\n",
       "</g>\r\n",
       "<!-- 53&#45;&gt;54 -->\r\n",
       "<g id=\"edge54\" class=\"edge\"><title>53&#45;&gt;54</title>\r\n",
       "<path fill=\"none\" stroke=\"black\" d=\"M9471.4,-88.9485C9470.88,-80.7153 9470.32,-71.848 9469.78,-63.4814\"/>\r\n",
       "<polygon fill=\"black\" stroke=\"black\" points=\"9473.26,-62.9948 9469.13,-53.2367 9466.27,-63.4384 9473.26,-62.9948\"/>\r\n",
       "</g>\r\n",
       "<!-- 55 -->\r\n",
       "<g id=\"node56\" class=\"node\"><title>55</title>\r\n",
       "<path fill=\"#e88e4d\" stroke=\"black\" d=\"M9938,-53C9938,-53 9669,-53 9669,-53 9663,-53 9657,-47 9657,-41 9657,-41 9657,-12 9657,-12 9657,-6 9663,-0 9669,-0 9669,-0 9938,-0 9938,-0 9944,-0 9950,-6 9950,-12 9950,-12 9950,-41 9950,-41 9950,-47 9944,-53 9938,-53\"/>\r\n",
       "<text text-anchor=\"middle\" x=\"9803.5\" y=\"-37.8\" font-family=\"Helvetica,sans-Serif\" font-size=\"14.00\">samples = 0.0%</text>\r\n",
       "<text text-anchor=\"middle\" x=\"9803.5\" y=\"-22.8\" font-family=\"Helvetica,sans-Serif\" font-size=\"14.00\">value = [0.909, 0.0, 0.0, 0.0, 0.0, 0.091, 0.0]</text>\r\n",
       "<text text-anchor=\"middle\" x=\"9803.5\" y=\"-7.8\" font-family=\"Helvetica,sans-Serif\" font-size=\"14.00\">class = high</text>\r\n",
       "</g>\r\n",
       "<!-- 53&#45;&gt;55 -->\r\n",
       "<g id=\"edge55\" class=\"edge\"><title>53&#45;&gt;55</title>\r\n",
       "<path fill=\"none\" stroke=\"black\" d=\"M9588.92,-88.9485C9626.71,-78.1263 9668.33,-66.2086 9704.77,-55.7723\"/>\r\n",
       "<polygon fill=\"black\" stroke=\"black\" points=\"9705.76,-59.1296 9714.41,-53.0118 9703.83,-52.4001 9705.76,-59.1296\"/>\r\n",
       "</g>\r\n",
       "<!-- 57 -->\r\n",
       "<g id=\"node58\" class=\"node\"><title>57</title>\r\n",
       "<path fill=\"#f3a0c5\" stroke=\"black\" d=\"M10417.5,-157C10417.5,-157 10115.5,-157 10115.5,-157 10109.5,-157 10103.5,-151 10103.5,-145 10103.5,-145 10103.5,-101 10103.5,-101 10103.5,-95 10109.5,-89 10115.5,-89 10115.5,-89 10417.5,-89 10417.5,-89 10423.5,-89 10429.5,-95 10429.5,-101 10429.5,-101 10429.5,-145 10429.5,-145 10429.5,-151 10423.5,-157 10417.5,-157\"/>\r\n",
       "<text text-anchor=\"middle\" x=\"10266.5\" y=\"-141.8\" font-family=\"Helvetica,sans-Serif\" font-size=\"14.00\">hell &lt;= 0.015</text>\r\n",
       "<text text-anchor=\"middle\" x=\"10266.5\" y=\"-126.8\" font-family=\"Helvetica,sans-Serif\" font-size=\"14.00\">samples = 0.1%</text>\r\n",
       "<text text-anchor=\"middle\" x=\"10266.5\" y=\"-111.8\" font-family=\"Helvetica,sans-Serif\" font-size=\"14.00\">value = [0.065, 0.258, 0.065, 0.0, 0.0, 0.0, 0.613]</text>\r\n",
       "<text text-anchor=\"middle\" x=\"10266.5\" y=\"-96.8\" font-family=\"Helvetica,sans-Serif\" font-size=\"14.00\">class = very&#45;low</text>\r\n",
       "</g>\r\n",
       "<!-- 56&#45;&gt;57 -->\r\n",
       "<g id=\"edge57\" class=\"edge\"><title>56&#45;&gt;57</title>\r\n",
       "<path fill=\"none\" stroke=\"black\" d=\"M10266.5,-192.884C10266.5,-184.778 10266.5,-175.982 10266.5,-167.472\"/>\r\n",
       "<polygon fill=\"black\" stroke=\"black\" points=\"10270,-167.299 10266.5,-157.299 10263,-167.299 10270,-167.299\"/>\r\n",
       "</g>\r\n",
       "<!-- 60 -->\r\n",
       "<g id=\"node61\" class=\"node\"><title>60</title>\r\n",
       "<path fill=\"#ebeefc\" stroke=\"black\" d=\"M10912.5,-157C10912.5,-157 10594.5,-157 10594.5,-157 10588.5,-157 10582.5,-151 10582.5,-145 10582.5,-145 10582.5,-101 10582.5,-101 10582.5,-95 10588.5,-89 10594.5,-89 10594.5,-89 10912.5,-89 10912.5,-89 10918.5,-89 10924.5,-95 10924.5,-101 10924.5,-101 10924.5,-145 10924.5,-145 10924.5,-151 10918.5,-157 10912.5,-157\"/>\r\n",
       "<text text-anchor=\"middle\" x=\"10753.5\" y=\"-141.8\" font-family=\"Helvetica,sans-Serif\" font-size=\"14.00\">w2sclips &lt;= 0.073</text>\r\n",
       "<text text-anchor=\"middle\" x=\"10753.5\" y=\"-126.8\" font-family=\"Helvetica,sans-Serif\" font-size=\"14.00\">samples = 0.0%</text>\r\n",
       "<text text-anchor=\"middle\" x=\"10753.5\" y=\"-111.8\" font-family=\"Helvetica,sans-Serif\" font-size=\"14.00\">value = [0.071, 0.0, 0.286, 0.071, 0.357, 0.0, 0.214]</text>\r\n",
       "<text text-anchor=\"middle\" x=\"10753.5\" y=\"-96.8\" font-family=\"Helvetica,sans-Serif\" font-size=\"14.00\">class = mid&#45;low</text>\r\n",
       "</g>\r\n",
       "<!-- 56&#45;&gt;60 -->\r\n",
       "<g id=\"edge60\" class=\"edge\"><title>56&#45;&gt;60</title>\r\n",
       "<path fill=\"none\" stroke=\"black\" d=\"M10424.3,-192.954C10475.8,-182.158 10533.2,-170.131 10585.5,-159.183\"/>\r\n",
       "<polygon fill=\"black\" stroke=\"black\" points=\"10586.5,-162.556 10595.6,-157.081 10585.1,-155.705 10586.5,-162.556\"/>\r\n",
       "</g>\r\n",
       "<!-- 58 -->\r\n",
       "<g id=\"node59\" class=\"node\"><title>58</title>\r\n",
       "<path fill=\"#ee7eb0\" stroke=\"black\" d=\"M10282.5,-53C10282.5,-53 9980.5,-53 9980.5,-53 9974.5,-53 9968.5,-47 9968.5,-41 9968.5,-41 9968.5,-12 9968.5,-12 9968.5,-6 9974.5,-0 9980.5,-0 9980.5,-0 10282.5,-0 10282.5,-0 10288.5,-0 10294.5,-6 10294.5,-12 10294.5,-12 10294.5,-41 10294.5,-41 10294.5,-47 10288.5,-53 10282.5,-53\"/>\r\n",
       "<text text-anchor=\"middle\" x=\"10131.5\" y=\"-37.8\" font-family=\"Helvetica,sans-Serif\" font-size=\"14.00\">samples = 0.1%</text>\r\n",
       "<text text-anchor=\"middle\" x=\"10131.5\" y=\"-22.8\" font-family=\"Helvetica,sans-Serif\" font-size=\"14.00\">value = [0.074, 0.148, 0.074, 0.0, 0.0, 0.0, 0.704]</text>\r\n",
       "<text text-anchor=\"middle\" x=\"10131.5\" y=\"-7.8\" font-family=\"Helvetica,sans-Serif\" font-size=\"14.00\">class = very&#45;low</text>\r\n",
       "</g>\r\n",
       "<!-- 57&#45;&gt;58 -->\r\n",
       "<g id=\"edge58\" class=\"edge\"><title>57&#45;&gt;58</title>\r\n",
       "<path fill=\"none\" stroke=\"black\" d=\"M10219.3,-88.9485C10205.4,-79.2516 10190.3,-68.6752 10176.6,-59.073\"/>\r\n",
       "<polygon fill=\"black\" stroke=\"black\" points=\"10178.5,-56.1041 10168.3,-53.2367 10174.5,-61.8387 10178.5,-56.1041\"/>\r\n",
       "</g>\r\n",
       "<!-- 59 -->\r\n",
       "<g id=\"node60\" class=\"node\"><title>59</title>\r\n",
       "<path fill=\"#b7e539\" stroke=\"black\" d=\"M10560.5,-53C10560.5,-53 10324.5,-53 10324.5,-53 10318.5,-53 10312.5,-47 10312.5,-41 10312.5,-41 10312.5,-12 10312.5,-12 10312.5,-6 10318.5,-0 10324.5,-0 10324.5,-0 10560.5,-0 10560.5,-0 10566.5,-0 10572.5,-6 10572.5,-12 10572.5,-12 10572.5,-41 10572.5,-41 10572.5,-47 10566.5,-53 10560.5,-53\"/>\r\n",
       "<text text-anchor=\"middle\" x=\"10442.5\" y=\"-37.8\" font-family=\"Helvetica,sans-Serif\" font-size=\"14.00\">samples = 0.0%</text>\r\n",
       "<text text-anchor=\"middle\" x=\"10442.5\" y=\"-22.8\" font-family=\"Helvetica,sans-Serif\" font-size=\"14.00\">value = [0.0, 1.0, 0.0, 0.0, 0.0, 0.0, 0.0]</text>\r\n",
       "<text text-anchor=\"middle\" x=\"10442.5\" y=\"-7.8\" font-family=\"Helvetica,sans-Serif\" font-size=\"14.00\">class = low</text>\r\n",
       "</g>\r\n",
       "<!-- 57&#45;&gt;59 -->\r\n",
       "<g id=\"edge59\" class=\"edge\"><title>57&#45;&gt;59</title>\r\n",
       "<path fill=\"none\" stroke=\"black\" d=\"M10328.1,-88.9485C10346.9,-78.8399 10367.5,-67.7756 10386,-57.8555\"/>\r\n",
       "<polygon fill=\"black\" stroke=\"black\" points=\"10387.7,-60.9009 10394.8,-53.0867 10384.4,-54.7337 10387.7,-60.9009\"/>\r\n",
       "</g>\r\n",
       "<!-- 61 -->\r\n",
       "<g id=\"node62\" class=\"node\"><title>61</title>\r\n",
       "<path fill=\"#e3e7fb\" stroke=\"black\" d=\"M10904.5,-53C10904.5,-53 10602.5,-53 10602.5,-53 10596.5,-53 10590.5,-47 10590.5,-41 10590.5,-41 10590.5,-12 10590.5,-12 10590.5,-6 10596.5,-0 10602.5,-0 10602.5,-0 10904.5,-0 10904.5,-0 10910.5,-0 10916.5,-6 10916.5,-12 10916.5,-12 10916.5,-41 10916.5,-41 10916.5,-47 10910.5,-53 10904.5,-53\"/>\r\n",
       "<text text-anchor=\"middle\" x=\"10753.5\" y=\"-37.8\" font-family=\"Helvetica,sans-Serif\" font-size=\"14.00\">samples = 0.0%</text>\r\n",
       "<text text-anchor=\"middle\" x=\"10753.5\" y=\"-22.8\" font-family=\"Helvetica,sans-Serif\" font-size=\"14.00\">value = [0.091, 0.0, 0.364, 0.091, 0.455, 0.0, 0.0]</text>\r\n",
       "<text text-anchor=\"middle\" x=\"10753.5\" y=\"-7.8\" font-family=\"Helvetica,sans-Serif\" font-size=\"14.00\">class = mid&#45;low</text>\r\n",
       "</g>\r\n",
       "<!-- 60&#45;&gt;61 -->\r\n",
       "<g id=\"edge61\" class=\"edge\"><title>60&#45;&gt;61</title>\r\n",
       "<path fill=\"none\" stroke=\"black\" d=\"M10753.5,-88.9485C10753.5,-80.7153 10753.5,-71.848 10753.5,-63.4814\"/>\r\n",
       "<polygon fill=\"black\" stroke=\"black\" points=\"10757,-63.2367 10753.5,-53.2367 10750,-63.2367 10757,-63.2367\"/>\r\n",
       "</g>\r\n",
       "<!-- 62 -->\r\n",
       "<g id=\"node63\" class=\"node\"><title>62</title>\r\n",
       "<path fill=\"#e53986\" stroke=\"black\" d=\"M11182.5,-53C11182.5,-53 10946.5,-53 10946.5,-53 10940.5,-53 10934.5,-47 10934.5,-41 10934.5,-41 10934.5,-12 10934.5,-12 10934.5,-6 10940.5,-0 10946.5,-0 10946.5,-0 11182.5,-0 11182.5,-0 11188.5,-0 11194.5,-6 11194.5,-12 11194.5,-12 11194.5,-41 11194.5,-41 11194.5,-47 11188.5,-53 11182.5,-53\"/>\r\n",
       "<text text-anchor=\"middle\" x=\"11064.5\" y=\"-37.8\" font-family=\"Helvetica,sans-Serif\" font-size=\"14.00\">samples = 0.0%</text>\r\n",
       "<text text-anchor=\"middle\" x=\"11064.5\" y=\"-22.8\" font-family=\"Helvetica,sans-Serif\" font-size=\"14.00\">value = [0.0, 0.0, 0.0, 0.0, 0.0, 0.0, 1.0]</text>\r\n",
       "<text text-anchor=\"middle\" x=\"11064.5\" y=\"-7.8\" font-family=\"Helvetica,sans-Serif\" font-size=\"14.00\">class = very&#45;low</text>\r\n",
       "</g>\r\n",
       "<!-- 60&#45;&gt;62 -->\r\n",
       "<g id=\"edge62\" class=\"edge\"><title>60&#45;&gt;62</title>\r\n",
       "<path fill=\"none\" stroke=\"black\" d=\"M10862.3,-88.9485C10897.5,-78.2426 10936.3,-66.4647 10970.3,-56.1093\"/>\r\n",
       "<polygon fill=\"black\" stroke=\"black\" points=\"10971.7,-59.3429 10980.3,-53.0867 10969.7,-52.6453 10971.7,-59.3429\"/>\r\n",
       "</g>\r\n",
       "</g>\r\n",
       "</svg>\r\n"
      ],
      "text/plain": [
       "<graphviz.files.Source at 0x242aa871910>"
      ]
     },
     "execution_count": 69,
     "metadata": {},
     "output_type": "execute_result"
    }
   ],
   "source": [
    "graph = graphviz.Source(dot_data)\n",
    "graph"
   ]
  },
  {
   "cell_type": "code",
   "execution_count": null,
   "id": "06e69525",
   "metadata": {},
   "outputs": [],
   "source": []
  }
 ],
 "metadata": {
  "kernelspec": {
   "display_name": "Python 3 (ipykernel)",
   "language": "python",
   "name": "python3"
  },
  "language_info": {
   "codemirror_mode": {
    "name": "ipython",
    "version": 3
   },
   "file_extension": ".py",
   "mimetype": "text/x-python",
   "name": "python",
   "nbconvert_exporter": "python",
   "pygments_lexer": "ipython3",
   "version": "3.9.7"
  }
 },
 "nbformat": 4,
 "nbformat_minor": 5
}
