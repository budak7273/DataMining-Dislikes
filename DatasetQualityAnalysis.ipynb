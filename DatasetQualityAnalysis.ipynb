{
 "cells": [
  {
   "cell_type": "code",
   "execution_count": 1,
   "metadata": {},
   "outputs": [],
   "source": [
    "import pandas as pd\n",
    "import matplotlib.pyplot as plt\n",
    "import numpy as np\n",
    "from numpy import logspace"
   ]
  },
  {
   "cell_type": "code",
   "execution_count": 2,
   "metadata": {},
   "outputs": [
    {
     "name": "stderr",
     "output_type": "stream",
     "text": [
      "C:\\ProgramData\\Anaconda3\\lib\\site-packages\\IPython\\core\\interactiveshell.py:3146: DtypeWarning: Columns (3,4,5,12,13,14,15,17,18,19,20) have mixed types.Specify dtype option on import or set low_memory=False.\n",
      "  has_raised = await self.run_ast_nodes(code_ast.body, cell_name,\n"
     ]
    }
   ],
   "source": [
    "df = pd.read_csv('master_data.csv')"
   ]
  },
  {
   "cell_type": "code",
   "execution_count": 3,
   "metadata": {},
   "outputs": [],
   "source": [
    "df = df.drop('Unnamed: 0', axis='columns')"
   ]
  },
  {
   "cell_type": "code",
   "execution_count": 4,
   "metadata": {},
   "outputs": [
    {
     "name": "stdout",
     "output_type": "stream",
     "text": [
      "<class 'pandas.core.frame.DataFrame'>\n",
      "RangeIndex: 1032705 entries, 0 to 1032704\n",
      "Data columns (total 20 columns):\n",
      " #   Column             Non-Null Count    Dtype  \n",
      "---  ------             --------------    -----  \n",
      " 0   video_id           1032705 non-null  object \n",
      " 1   title              1032705 non-null  object \n",
      " 2   channel_id         37422 non-null    object \n",
      " 3   channel_title      37422 non-null    object \n",
      " 4   published_at       37422 non-null    object \n",
      " 5   view_count         1032705 non-null  int64  \n",
      " 6   likes              1032705 non-null  int64  \n",
      " 7   dislikes           1032705 non-null  int64  \n",
      " 8   comment_count      1032705 non-null  int64  \n",
      " 9   tags               1032705 non-null  object \n",
      " 10  description        1005092 non-null  object \n",
      " 11  comments           37264 non-null    object \n",
      " 12  publishedAt        995283 non-null   object \n",
      " 13  channelId          995283 non-null   object \n",
      " 14  channelTitle       995282 non-null   object \n",
      " 15  categoryId         995283 non-null   float64\n",
      " 16  trending_date      995283 non-null   object \n",
      " 17  thumbnail_link     995283 non-null   object \n",
      " 18  comments_disabled  995283 non-null   object \n",
      " 19  ratings_disabled   995283 non-null   object \n",
      "dtypes: float64(1), int64(4), object(15)\n",
      "memory usage: 157.6+ MB\n"
     ]
    }
   ],
   "source": [
    "df.info()"
   ]
  },
  {
   "cell_type": "code",
   "execution_count": 5,
   "metadata": {},
   "outputs": [
    {
     "data": {
      "text/html": [
       "<div>\n",
       "<style scoped>\n",
       "    .dataframe tbody tr th:only-of-type {\n",
       "        vertical-align: middle;\n",
       "    }\n",
       "\n",
       "    .dataframe tbody tr th {\n",
       "        vertical-align: top;\n",
       "    }\n",
       "\n",
       "    .dataframe thead th {\n",
       "        text-align: right;\n",
       "    }\n",
       "</style>\n",
       "<table border=\"1\" class=\"dataframe\">\n",
       "  <thead>\n",
       "    <tr style=\"text-align: right;\">\n",
       "      <th></th>\n",
       "      <th>video_id</th>\n",
       "      <th>title</th>\n",
       "      <th>channel_id</th>\n",
       "      <th>channel_title</th>\n",
       "      <th>published_at</th>\n",
       "      <th>view_count</th>\n",
       "      <th>likes</th>\n",
       "      <th>dislikes</th>\n",
       "      <th>comment_count</th>\n",
       "      <th>tags</th>\n",
       "      <th>description</th>\n",
       "      <th>comments</th>\n",
       "      <th>publishedAt</th>\n",
       "      <th>channelId</th>\n",
       "      <th>channelTitle</th>\n",
       "      <th>categoryId</th>\n",
       "      <th>trending_date</th>\n",
       "      <th>thumbnail_link</th>\n",
       "      <th>comments_disabled</th>\n",
       "      <th>ratings_disabled</th>\n",
       "    </tr>\n",
       "  </thead>\n",
       "  <tbody>\n",
       "    <tr>\n",
       "      <th>0</th>\n",
       "      <td>--0bCF-iK2E</td>\n",
       "      <td>Jadon Sancho  Magical Skills &amp; Goals</td>\n",
       "      <td>UC6UL29enLNe4mqwTfAyeNuw</td>\n",
       "      <td>Bundesliga</td>\n",
       "      <td>2021-07-01 10:00:00</td>\n",
       "      <td>1048888</td>\n",
       "      <td>19515</td>\n",
       "      <td>226</td>\n",
       "      <td>1319</td>\n",
       "      <td>football soccer ftbol alemn Bundesliga season ...</td>\n",
       "      <td>Enjoy the best skills and goals from Jadon San...</td>\n",
       "      <td>Respect to Dortmund fans,must be sad losing hi...</td>\n",
       "      <td>NaN</td>\n",
       "      <td>NaN</td>\n",
       "      <td>NaN</td>\n",
       "      <td>NaN</td>\n",
       "      <td>NaN</td>\n",
       "      <td>NaN</td>\n",
       "      <td>NaN</td>\n",
       "      <td>NaN</td>\n",
       "    </tr>\n",
       "    <tr>\n",
       "      <th>1</th>\n",
       "      <td>--14w5SOEUs</td>\n",
       "      <td>Migos - Avalanche (Official Video)</td>\n",
       "      <td>UCGIelM2Dj3zza3xyV3pL3WQ</td>\n",
       "      <td>MigosVEVO</td>\n",
       "      <td>2021-06-10 16:00:00</td>\n",
       "      <td>15352638</td>\n",
       "      <td>359277</td>\n",
       "      <td>7479</td>\n",
       "      <td>18729</td>\n",
       "      <td>Migos Avalanche Quality Control Music/Motown R...</td>\n",
       "      <td>Watch the the official video for Migos - \"Aval...</td>\n",
       "      <td>Migos just makes me want to live my live to th...</td>\n",
       "      <td>NaN</td>\n",
       "      <td>NaN</td>\n",
       "      <td>NaN</td>\n",
       "      <td>NaN</td>\n",
       "      <td>NaN</td>\n",
       "      <td>NaN</td>\n",
       "      <td>NaN</td>\n",
       "      <td>NaN</td>\n",
       "    </tr>\n",
       "    <tr>\n",
       "      <th>2</th>\n",
       "      <td>--40TEbZ9Is</td>\n",
       "      <td>Supporting Actress in a Comedy: 73rd Emmys</td>\n",
       "      <td>UClBKH8yZRcM4AsRjDVEdjMg</td>\n",
       "      <td>Television Academy</td>\n",
       "      <td>2021-09-20 01:03:32</td>\n",
       "      <td>925281</td>\n",
       "      <td>11212</td>\n",
       "      <td>401</td>\n",
       "      <td>831</td>\n",
       "      <td></td>\n",
       "      <td>Hannah Waddingham wins the Emmy for Supporting...</td>\n",
       "      <td>Hannah's energy bursts through any screen. Wel...</td>\n",
       "      <td>NaN</td>\n",
       "      <td>NaN</td>\n",
       "      <td>NaN</td>\n",
       "      <td>NaN</td>\n",
       "      <td>NaN</td>\n",
       "      <td>NaN</td>\n",
       "      <td>NaN</td>\n",
       "      <td>NaN</td>\n",
       "    </tr>\n",
       "    <tr>\n",
       "      <th>3</th>\n",
       "      <td>--4tfbSyYDE</td>\n",
       "      <td>JO1'YOUNG (JO1 ver.)' PERFORMANCE VIDEO</td>\n",
       "      <td>UCsmXiDP8S40uBeJYxvyulmA</td>\n",
       "      <td>JO1</td>\n",
       "      <td>2021-03-03 10:00:17</td>\n",
       "      <td>2641597</td>\n",
       "      <td>39131</td>\n",
       "      <td>441</td>\n",
       "      <td>3745</td>\n",
       "      <td>PRODUCE101JAPAN              JO1   TheSTAR STA...</td>\n",
       "      <td>JO1'YOUNG (JO1 ver.)' PERFORMANCE VIDEO\\n\\n---...</td>\n",
       "      <td>youngVer&gt;&lt;  REN is really PERFECT. It's not ju...</td>\n",
       "      <td>NaN</td>\n",
       "      <td>NaN</td>\n",
       "      <td>NaN</td>\n",
       "      <td>NaN</td>\n",
       "      <td>NaN</td>\n",
       "      <td>NaN</td>\n",
       "      <td>NaN</td>\n",
       "      <td>NaN</td>\n",
       "    </tr>\n",
       "    <tr>\n",
       "      <th>4</th>\n",
       "      <td>--DKkzWVh-E</td>\n",
       "      <td>Why Retaining Walls Collapse</td>\n",
       "      <td>UCMOqf8ab-42UUQIdVoKwjlQ</td>\n",
       "      <td>Practical Engineering</td>\n",
       "      <td>2021-12-07 13:00:00</td>\n",
       "      <td>715724</td>\n",
       "      <td>32887</td>\n",
       "      <td>367</td>\n",
       "      <td>1067</td>\n",
       "      <td>retaining wall New Jersey highway Direct Conne...</td>\n",
       "      <td>One of the most important (and innocuous) part...</td>\n",
       "      <td>Keep up with all my projects here: https://pr...</td>\n",
       "      <td>NaN</td>\n",
       "      <td>NaN</td>\n",
       "      <td>NaN</td>\n",
       "      <td>NaN</td>\n",
       "      <td>NaN</td>\n",
       "      <td>NaN</td>\n",
       "      <td>NaN</td>\n",
       "      <td>NaN</td>\n",
       "    </tr>\n",
       "  </tbody>\n",
       "</table>\n",
       "</div>"
      ],
      "text/plain": [
       "      video_id                                       title  \\\n",
       "0  --0bCF-iK2E        Jadon Sancho  Magical Skills & Goals   \n",
       "1  --14w5SOEUs          Migos - Avalanche (Official Video)   \n",
       "2  --40TEbZ9Is  Supporting Actress in a Comedy: 73rd Emmys   \n",
       "3  --4tfbSyYDE     JO1'YOUNG (JO1 ver.)' PERFORMANCE VIDEO   \n",
       "4  --DKkzWVh-E                Why Retaining Walls Collapse   \n",
       "\n",
       "                 channel_id          channel_title         published_at  \\\n",
       "0  UC6UL29enLNe4mqwTfAyeNuw             Bundesliga  2021-07-01 10:00:00   \n",
       "1  UCGIelM2Dj3zza3xyV3pL3WQ              MigosVEVO  2021-06-10 16:00:00   \n",
       "2  UClBKH8yZRcM4AsRjDVEdjMg     Television Academy  2021-09-20 01:03:32   \n",
       "3  UCsmXiDP8S40uBeJYxvyulmA                    JO1  2021-03-03 10:00:17   \n",
       "4  UCMOqf8ab-42UUQIdVoKwjlQ  Practical Engineering  2021-12-07 13:00:00   \n",
       "\n",
       "   view_count   likes  dislikes  comment_count  \\\n",
       "0     1048888   19515       226           1319   \n",
       "1    15352638  359277      7479          18729   \n",
       "2      925281   11212       401            831   \n",
       "3     2641597   39131       441           3745   \n",
       "4      715724   32887       367           1067   \n",
       "\n",
       "                                                tags  \\\n",
       "0  football soccer ftbol alemn Bundesliga season ...   \n",
       "1  Migos Avalanche Quality Control Music/Motown R...   \n",
       "2                                                      \n",
       "3  PRODUCE101JAPAN              JO1   TheSTAR STA...   \n",
       "4  retaining wall New Jersey highway Direct Conne...   \n",
       "\n",
       "                                         description  \\\n",
       "0  Enjoy the best skills and goals from Jadon San...   \n",
       "1  Watch the the official video for Migos - \"Aval...   \n",
       "2  Hannah Waddingham wins the Emmy for Supporting...   \n",
       "3  JO1'YOUNG (JO1 ver.)' PERFORMANCE VIDEO\\n\\n---...   \n",
       "4  One of the most important (and innocuous) part...   \n",
       "\n",
       "                                            comments publishedAt channelId  \\\n",
       "0  Respect to Dortmund fans,must be sad losing hi...         NaN       NaN   \n",
       "1  Migos just makes me want to live my live to th...         NaN       NaN   \n",
       "2  Hannah's energy bursts through any screen. Wel...         NaN       NaN   \n",
       "3  youngVer><  REN is really PERFECT. It's not ju...         NaN       NaN   \n",
       "4   Keep up with all my projects here: https://pr...         NaN       NaN   \n",
       "\n",
       "  channelTitle  categoryId trending_date thumbnail_link comments_disabled  \\\n",
       "0          NaN         NaN           NaN            NaN               NaN   \n",
       "1          NaN         NaN           NaN            NaN               NaN   \n",
       "2          NaN         NaN           NaN            NaN               NaN   \n",
       "3          NaN         NaN           NaN            NaN               NaN   \n",
       "4          NaN         NaN           NaN            NaN               NaN   \n",
       "\n",
       "  ratings_disabled  \n",
       "0              NaN  \n",
       "1              NaN  \n",
       "2              NaN  \n",
       "3              NaN  \n",
       "4              NaN  "
      ]
     },
     "execution_count": 5,
     "metadata": {},
     "output_type": "execute_result"
    }
   ],
   "source": [
    "df.head(5)"
   ]
  },
  {
   "cell_type": "code",
   "execution_count": 6,
   "metadata": {},
   "outputs": [],
   "source": [
    "df['combined_rating'] = df['likes'] - df['dislikes']\n",
    "df['activity'] = df['likes'] + df['dislikes']\n",
    "df['favorability'] = df['combined_rating'] / df['activity']"
   ]
  },
  {
   "cell_type": "code",
   "execution_count": 7,
   "metadata": {},
   "outputs": [
    {
     "data": {
      "text/plain": [
       "117311             0\n",
       "469112             0\n",
       "141314             0\n",
       "206516             0\n",
       "415711             0\n",
       "             ...    \n",
       "34758      671712535\n",
       "16270      915874131\n",
       "18127      976281963\n",
       "7955      1269596718\n",
       "26143     1322796924\n",
       "Name: view_count, Length: 1032705, dtype: int64"
      ]
     },
     "execution_count": 7,
     "metadata": {},
     "output_type": "execute_result"
    }
   ],
   "source": [
    "views = df['view_count'].sort_values()\n",
    "views"
   ]
  },
  {
   "cell_type": "code",
   "execution_count": 8,
   "metadata": {},
   "outputs": [
    {
     "data": {
      "text/plain": [
       "0"
      ]
     },
     "execution_count": 8,
     "metadata": {},
     "output_type": "execute_result"
    }
   ],
   "source": [
    "views.isna().sum()"
   ]
  },
  {
   "cell_type": "code",
   "execution_count": 9,
   "metadata": {},
   "outputs": [],
   "source": [
    "df_nonzero_views = df[df['view_count'] != 0]"
   ]
  },
  {
   "cell_type": "code",
   "execution_count": 10,
   "metadata": {},
   "outputs": [
    {
     "data": {
      "text/plain": [
       "102"
      ]
     },
     "execution_count": 10,
     "metadata": {},
     "output_type": "execute_result"
    }
   ],
   "source": [
    "df.shape[0] - df_nonzero_views.shape[0]"
   ]
  },
  {
   "cell_type": "markdown",
   "metadata": {},
   "source": [
    "102 records have no views and should be ignored"
   ]
  },
  {
   "cell_type": "code",
   "execution_count": 11,
   "metadata": {},
   "outputs": [
    {
     "data": {
      "text/plain": [
       "(7225, 1322796924)"
      ]
     },
     "execution_count": 11,
     "metadata": {},
     "output_type": "execute_result"
    }
   ],
   "source": [
    "(df_nonzero_views['view_count'].min(), df_nonzero_views['view_count'].max())"
   ]
  },
  {
   "cell_type": "code",
   "execution_count": 12,
   "metadata": {},
   "outputs": [
    {
     "data": {
      "text/plain": [
       "count    1.032603e+06\n",
       "mean     1.867918e+06\n",
       "std      7.558826e+06\n",
       "min      7.225000e+03\n",
       "25%      2.160810e+05\n",
       "50%      5.224360e+05\n",
       "75%      1.349830e+06\n",
       "max      1.322797e+09\n",
       "Name: view_count, dtype: float64"
      ]
     },
     "execution_count": 12,
     "metadata": {},
     "output_type": "execute_result"
    }
   ],
   "source": [
    "df_nonzero_views['view_count'].describe()"
   ]
  },
  {
   "cell_type": "code",
   "execution_count": 13,
   "metadata": {},
   "outputs": [],
   "source": [
    "# df_nonzero_views['view_count'].plot.line(x='index', y='view_count', figsize=(15, 6))"
   ]
  },
  {
   "cell_type": "code",
   "execution_count": 14,
   "metadata": {},
   "outputs": [],
   "source": [
    "# buckets = pd.qcut(df_nonzero_views['view_count'], q=4, labels=['low', 'medium', 'high', 'extreme'])\n",
    "# buckets.value_counts()"
   ]
  },
  {
   "cell_type": "code",
   "execution_count": 15,
   "metadata": {},
   "outputs": [],
   "source": [
    "# df_nonzero_views.plot.scatter(x='view_count', y='view_count', figsize=(15, 15), logx=True, logy=True)"
   ]
  },
  {
   "cell_type": "code",
   "execution_count": 16,
   "metadata": {},
   "outputs": [],
   "source": [
    "# df_nonzero_views['view_count'].rolling(window=1000).mean().plot()"
   ]
  },
  {
   "cell_type": "code",
   "execution_count": 17,
   "metadata": {},
   "outputs": [
    {
     "data": {
      "text/plain": [
       "<AxesSubplot:>"
      ]
     },
     "execution_count": 17,
     "metadata": {},
     "output_type": "execute_result"
    },
    {
     "data": {
      "image/png": "[encoded data removed]",
      "text/plain": [
       "<Figure size 1080x432 with 1 Axes>"
      ]
     },
     "metadata": {
      "needs_background": "light"
     },
     "output_type": "display_data"
    }
   ],
   "source": [
    "df_nonzero_views['view_count'].plot.box(figsize=(15, 6), vert=False, logx=True)"
   ]
  },
  {
   "cell_type": "markdown",
   "metadata": {},
   "source": [
    "# View Count Distribution\n",
    "Most of the videos we have data on are between 10^5 and 10^8 views"
   ]
  },
  {
   "cell_type": "code",
   "execution_count": 18,
   "metadata": {},
   "outputs": [
    {
     "data": {
      "text/plain": [
       "[1, 2, 3, 4, 5, 6, 7, 8, 9]"
      ]
     },
     "execution_count": 18,
     "metadata": {},
     "output_type": "execute_result"
    }
   ],
   "source": [
    "labels = [*range(1,10)]\n",
    "labels"
   ]
  },
  {
   "cell_type": "code",
   "execution_count": 19,
   "metadata": {},
   "outputs": [
    {
     "data": {
      "text/plain": [
       "array([1.e+01, 1.e+02, 1.e+03, 1.e+04, 1.e+05, 1.e+06, 1.e+07, 1.e+08,\n",
       "       1.e+09, 1.e+10])"
      ]
     },
     "execution_count": 19,
     "metadata": {},
     "output_type": "execute_result"
    }
   ],
   "source": [
    "bins = logspace(1,10, num=10)\n",
    "bins"
   ]
  },
  {
   "cell_type": "code",
   "execution_count": 20,
   "metadata": {},
   "outputs": [
    {
     "data": {
      "text/plain": [
       "0          6\n",
       "1          7\n",
       "2          5\n",
       "3          6\n",
       "4          5\n",
       "          ..\n",
       "1032700    5\n",
       "1032701    5\n",
       "1032702    5\n",
       "1032703    5\n",
       "1032704    5\n",
       "Name: view_count, Length: 1032603, dtype: category\n",
       "Categories (9, int64): [1 < 2 < 3 < 4 ... 6 < 7 < 8 < 9]"
      ]
     },
     "execution_count": 20,
     "metadata": {},
     "output_type": "execute_result"
    }
   ],
   "source": [
    "view_bins = pd.cut(df_nonzero_views['view_count'], bins=bins, labels=labels)\n",
    "view_bins"
   ]
  },
  {
   "cell_type": "code",
   "execution_count": 21,
   "metadata": {},
   "outputs": [
    {
     "data": {
      "text/plain": [
       "5    596222\n",
       "6    299391\n",
       "4    105633\n",
       "7     30459\n",
       "8       888\n",
       "3         8\n",
       "9         2\n",
       "2         0\n",
       "1         0\n",
       "Name: view_count, dtype: int64"
      ]
     },
     "execution_count": 21,
     "metadata": {},
     "output_type": "execute_result"
    }
   ],
   "source": [
    "view_bins.value_counts()"
   ]
  },
  {
   "cell_type": "code",
   "execution_count": 151,
   "metadata": {},
   "outputs": [],
   "source": [
    "# view_bins.value_counts().sort_index().plot.line()"
   ]
  },
  {
   "cell_type": "code",
   "execution_count": 22,
   "metadata": {},
   "outputs": [
    {
     "data": {
      "text/plain": [
       "<AxesSubplot:ylabel='Frequency'>"
      ]
     },
     "execution_count": 22,
     "metadata": {},
     "output_type": "execute_result"
    },
    {
     "data": {
      "image/png": "[encoded data removed]",
      "text/plain": [
       "<Figure size 432x288 with 1 Axes>"
      ]
     },
     "metadata": {
      "needs_background": "light"
     },
     "output_type": "display_data"
    }
   ],
   "source": [
    "view_bins.astype(int).plot.hist()"
   ]
  },
  {
   "cell_type": "markdown",
   "metadata": {},
   "source": [
    "Another way of visualizing the view count distribution. X axis bins correspond to the below."
   ]
  },
  {
   "cell_type": "code",
   "execution_count": 23,
   "metadata": {},
   "outputs": [
    {
     "data": {
      "text/plain": [
       "array([1.e+01, 1.e+02, 1.e+03, 1.e+04, 1.e+05, 1.e+06, 1.e+07, 1.e+08,\n",
       "       1.e+09, 1.e+10])"
      ]
     },
     "execution_count": 23,
     "metadata": {},
     "output_type": "execute_result"
    }
   ],
   "source": [
    "bins"
   ]
  },
  {
   "cell_type": "markdown",
   "metadata": {},
   "source": [
    "This means most of our videos have between 100,000 (10^5) and 100,000,000 (10^8) views"
   ]
  },
  {
   "cell_type": "markdown",
   "metadata": {},
   "source": [
    "## Feature Exploration"
   ]
  },
  {
   "cell_type": "code",
   "execution_count": 24,
   "metadata": {},
   "outputs": [
    {
     "data": {
      "text/html": [
       "<div>\n",
       "<style scoped>\n",
       "    .dataframe tbody tr th:only-of-type {\n",
       "        vertical-align: middle;\n",
       "    }\n",
       "\n",
       "    .dataframe tbody tr th {\n",
       "        vertical-align: top;\n",
       "    }\n",
       "\n",
       "    .dataframe thead th {\n",
       "        text-align: right;\n",
       "    }\n",
       "</style>\n",
       "<table border=\"1\" class=\"dataframe\">\n",
       "  <thead>\n",
       "    <tr style=\"text-align: right;\">\n",
       "      <th></th>\n",
       "      <th>likes</th>\n",
       "      <th>dislikes</th>\n",
       "      <th>activity</th>\n",
       "      <th>combined_rating</th>\n",
       "      <th>favorability</th>\n",
       "    </tr>\n",
       "  </thead>\n",
       "  <tbody>\n",
       "    <tr>\n",
       "      <th>0</th>\n",
       "      <td>19515</td>\n",
       "      <td>226</td>\n",
       "      <td>19741</td>\n",
       "      <td>19289</td>\n",
       "      <td>0.977103</td>\n",
       "    </tr>\n",
       "    <tr>\n",
       "      <th>1</th>\n",
       "      <td>359277</td>\n",
       "      <td>7479</td>\n",
       "      <td>366756</td>\n",
       "      <td>351798</td>\n",
       "      <td>0.959215</td>\n",
       "    </tr>\n",
       "    <tr>\n",
       "      <th>2</th>\n",
       "      <td>11212</td>\n",
       "      <td>401</td>\n",
       "      <td>11613</td>\n",
       "      <td>10811</td>\n",
       "      <td>0.930939</td>\n",
       "    </tr>\n",
       "    <tr>\n",
       "      <th>3</th>\n",
       "      <td>39131</td>\n",
       "      <td>441</td>\n",
       "      <td>39572</td>\n",
       "      <td>38690</td>\n",
       "      <td>0.977712</td>\n",
       "    </tr>\n",
       "    <tr>\n",
       "      <th>4</th>\n",
       "      <td>32887</td>\n",
       "      <td>367</td>\n",
       "      <td>33254</td>\n",
       "      <td>32520</td>\n",
       "      <td>0.977927</td>\n",
       "    </tr>\n",
       "    <tr>\n",
       "      <th>...</th>\n",
       "      <td>...</td>\n",
       "      <td>...</td>\n",
       "      <td>...</td>\n",
       "      <td>...</td>\n",
       "      <td>...</td>\n",
       "    </tr>\n",
       "    <tr>\n",
       "      <th>1032700</th>\n",
       "      <td>12102</td>\n",
       "      <td>0</td>\n",
       "      <td>12102</td>\n",
       "      <td>12102</td>\n",
       "      <td>1.000000</td>\n",
       "    </tr>\n",
       "    <tr>\n",
       "      <th>1032701</th>\n",
       "      <td>47849</td>\n",
       "      <td>0</td>\n",
       "      <td>47849</td>\n",
       "      <td>47849</td>\n",
       "      <td>1.000000</td>\n",
       "    </tr>\n",
       "    <tr>\n",
       "      <th>1032702</th>\n",
       "      <td>7424</td>\n",
       "      <td>0</td>\n",
       "      <td>7424</td>\n",
       "      <td>7424</td>\n",
       "      <td>1.000000</td>\n",
       "    </tr>\n",
       "    <tr>\n",
       "      <th>1032703</th>\n",
       "      <td>25839</td>\n",
       "      <td>0</td>\n",
       "      <td>25839</td>\n",
       "      <td>25839</td>\n",
       "      <td>1.000000</td>\n",
       "    </tr>\n",
       "    <tr>\n",
       "      <th>1032704</th>\n",
       "      <td>24118</td>\n",
       "      <td>0</td>\n",
       "      <td>24118</td>\n",
       "      <td>24118</td>\n",
       "      <td>1.000000</td>\n",
       "    </tr>\n",
       "  </tbody>\n",
       "</table>\n",
       "<p>1032705 rows × 5 columns</p>\n",
       "</div>"
      ],
      "text/plain": [
       "          likes  dislikes  activity  combined_rating  favorability\n",
       "0         19515       226     19741            19289      0.977103\n",
       "1        359277      7479    366756           351798      0.959215\n",
       "2         11212       401     11613            10811      0.930939\n",
       "3         39131       441     39572            38690      0.977712\n",
       "4         32887       367     33254            32520      0.977927\n",
       "...         ...       ...       ...              ...           ...\n",
       "1032700   12102         0     12102            12102      1.000000\n",
       "1032701   47849         0     47849            47849      1.000000\n",
       "1032702    7424         0      7424             7424      1.000000\n",
       "1032703   25839         0     25839            25839      1.000000\n",
       "1032704   24118         0     24118            24118      1.000000\n",
       "\n",
       "[1032705 rows x 5 columns]"
      ]
     },
     "execution_count": 24,
     "metadata": {},
     "output_type": "execute_result"
    }
   ],
   "source": [
    "df[['likes', 'dislikes', 'activity', 'combined_rating', 'favorability']]"
   ]
  },
  {
   "cell_type": "markdown",
   "metadata": {},
   "source": [
    "## Feature Explanation\n",
    "\n",
    "### Likes/Dislikes\n",
    "The standard Youtube statistic\n",
    "### Activity\n",
    "Likes + Dislikes. The attention a video has drawn to get people to vote one way or the other.\n",
    "### Combined Rating\n",
    "Likes - Dislikes. Closer to 0 means more contentious, more negative => largely dislikes, more positive => largely likes\n",
    "### Favorability\n",
    "Combined Rating / Activity. Range of -1 to 1. Combined Rating normalized by how much total reaction a video drew from people. -1 means strong dislike, 1 means strong like, 0 means contentious or no data"
   ]
  },
  {
   "cell_type": "code",
   "execution_count": 25,
   "metadata": {},
   "outputs": [],
   "source": [
    "video_responses = df[['likes', 'dislikes', 'activity', 'combined_rating']].sort_values('activity')"
   ]
  },
  {
   "cell_type": "code",
   "execution_count": 26,
   "metadata": {},
   "outputs": [
    {
     "data": {
      "text/plain": [
       "<AxesSubplot:title={'center':'Video Combined Rating over Activity Level'}, xlabel='activity'>"
      ]
     },
     "execution_count": 26,
     "metadata": {},
     "output_type": "execute_result"
    },
    {
     "data": {
      "image/png": "[encoded data removed]",
      "text/plain": [
       "<Figure size 1080x432 with 1 Axes>"
      ]
     },
     "metadata": {
      "needs_background": "light"
     },
     "output_type": "display_data"
    }
   ],
   "source": [
    "video_responses.plot.line(x='activity',\n",
    "                          y=['combined_rating'],\n",
    "                          figsize=(15, 6),\n",
    "                          title='Video Combined Rating over Activity Level')"
   ]
  },
  {
   "cell_type": "code",
   "execution_count": 117,
   "metadata": {},
   "outputs": [
    {
     "data": {
      "text/plain": [
       "<AxesSubplot:title={'center':'Video Responses over Activity Level'}, xlabel='activity'>"
      ]
     },
     "execution_count": 117,
     "metadata": {},
     "output_type": "execute_result"
    },
    {
     "data": {
      "image/png": "[encoded data removed]",
      "text/plain": [
       "<Figure size 1080x432 with 1 Axes>"
      ]
     },
     "metadata": {
      "needs_background": "light"
     },
     "output_type": "display_data"
    }
   ],
   "source": [
    "video_responses.plot.line(x='activity',\n",
    "                          y=['dislikes', 'likes'],\n",
    "                          figsize=(15, 6),\n",
    "                          title='Video Responses over Activity Level',\n",
    "                          color=['red', 'green'])"
   ]
  },
  {
   "cell_type": "code",
   "execution_count": 118,
   "metadata": {},
   "outputs": [
    {
     "data": {
      "text/plain": [
       "<AxesSubplot:title={'center':'Video Responses over Activity Level'}, xlabel='activity'>"
      ]
     },
     "execution_count": 118,
     "metadata": {},
     "output_type": "execute_result"
    },
    {
     "data": {
      "image/png": "[encoded data removed]",
      "text/plain": [
       "<Figure size 1080x432 with 1 Axes>"
      ]
     },
     "metadata": {
      "needs_background": "light"
     },
     "output_type": "display_data"
    }
   ],
   "source": [
    "video_responses.plot.line(x='activity',\n",
    "                          y=['likes', 'combined_rating', 'dislikes'],\n",
    "                          figsize=(15, 6),\n",
    "                          title='Video Responses over Activity Level',\n",
    "                          color=['green', 'blue', 'red'])"
   ]
  },
  {
   "cell_type": "markdown",
   "metadata": {},
   "source": [
    "In the above plots, it's clear that the combined rating seems to follow the like count very closely at high activity levels, but will spike away when there's lots of dislikes."
   ]
  },
  {
   "cell_type": "code",
   "execution_count": 28,
   "metadata": {},
   "outputs": [
    {
     "data": {
      "text/plain": [
       "<AxesSubplot:title={'center':'Favorability over Logarithmic View Count'}, xlabel='view_count'>"
      ]
     },
     "execution_count": 28,
     "metadata": {},
     "output_type": "execute_result"
    },
    {
     "data": {
      "image/png": "[encoded data removed]",
      "text/plain": [
       "<Figure size 1080x432 with 1 Axes>"
      ]
     },
     "metadata": {
      "needs_background": "light"
     },
     "output_type": "display_data"
    }
   ],
   "source": [
    "df[['favorability', 'view_count']].sort_values('view_count').plot.line(x='view_count',\n",
    "                                                                       y='favorability',\n",
    "                                                                       figsize=(15, 6),\n",
    "                                                                       title='Favorability over Logarithmic View Count',\n",
    "                                                                       logx=True)"
   ]
  },
  {
   "cell_type": "code",
   "execution_count": 29,
   "metadata": {},
   "outputs": [
    {
     "data": {
      "text/plain": [
       "<AxesSubplot:title={'center':'View Count vs Favorability Distribution'}, xlabel='favorability', ylabel='view_count'>"
      ]
     },
     "execution_count": 29,
     "metadata": {},
     "output_type": "execute_result"
    },
    {
     "data": {
      "image/png": "[encoded data removed]",
      "text/plain": [
       "<Figure size 1080x432 with 1 Axes>"
      ]
     },
     "metadata": {
      "needs_background": "light"
     },
     "output_type": "display_data"
    }
   ],
   "source": [
    "df[['favorability', 'view_count']].plot.scatter(x='favorability',\n",
    "                                                y='view_count',\n",
    "                                                figsize=(15, 6),\n",
    "                                                title='View Count vs Favorability Distribution')"
   ]
  },
  {
   "cell_type": "markdown",
   "metadata": {},
   "source": [
    "These plots help to demonstrate a few things.\n",
    "\n",
    "- Most of the videos we have on record have **less than 200,000,000 views**. (0.2 on the graph). This lines up with what we found earlier by binning the view counts.\n",
    "- Videos with **lots of views** are **generally received very highly**. On the flip side, most of the **disliked videos** have **low view counts.** This makes sense for a few reasons:\n",
    "  - Most of our data is drawn from popular youtube videos.\n",
    "  - Youtube probably doesn't promote videos that are not rated well, since they will generally not keep viewers on the platform. This means that videos with lots of dislikes will probably get less views and traffic total.\n",
    "  - Our **favorability rating is more volatile with lower total like/dislike counts,** so it is easier for videos with few likes (and views) to become strongly liked or strongly disliked.\n",
    "- Overall, videos are **largely positively received**. Negative reactions to videos are not very common. There are spikes near the highly disliked (near -0.9), contentious (near 0), and a highly liked (near 0.9)\n",
    "\n",
    "Both of these plots demonstrate that videos that are percieved strongly (high interaction with the like/dislike buttons), are overwhelmingly percieved in a **positive light**, at least in the data we have collected. This could be due to bias in our data, since most of our data is drawn from popular youtube videos."
   ]
  },
  {
   "cell_type": "code",
   "execution_count": 30,
   "metadata": {},
   "outputs": [
    {
     "data": {
      "text/plain": [
       "100000000.0"
      ]
     },
     "execution_count": 30,
     "metadata": {},
     "output_type": "execute_result"
    }
   ],
   "source": [
    "cap = 1.0*10**8\n",
    "cap"
   ]
  },
  {
   "cell_type": "markdown",
   "metadata": {},
   "source": [
    "Zooming in on the same data, for videos with less than 100,000,000 views (our \"most videos\" range high end from before):"
   ]
  },
  {
   "cell_type": "code",
   "execution_count": 51,
   "metadata": {},
   "outputs": [],
   "source": [
    "focused_df = df[['favorability', 'view_count']][df['view_count'] < cap]"
   ]
  },
  {
   "cell_type": "code",
   "execution_count": 52,
   "metadata": {},
   "outputs": [
    {
     "data": {
      "text/plain": [
       "<AxesSubplot:xlabel='favorability', ylabel='view_count'>"
      ]
     },
     "execution_count": 52,
     "metadata": {},
     "output_type": "execute_result"
    },
    {
     "data": {
      "image/png": "[encoded data removed]",
      "text/plain": [
       "<Figure size 1080x432 with 1 Axes>"
      ]
     },
     "metadata": {
      "needs_background": "light"
     },
     "output_type": "display_data"
    }
   ],
   "source": [
    "focused_df.plot.scatter(x='favorability', y='view_count', figsize=(15, 6))"
   ]
  },
  {
   "cell_type": "markdown",
   "metadata": {},
   "source": [
    "Let's take a look at how many views less favorable videos tend to get:"
   ]
  },
  {
   "cell_type": "code",
   "execution_count": 32,
   "metadata": {},
   "outputs": [],
   "source": [
    "unfavorable_videos = df[df['favorability'] < 0.0].copy()"
   ]
  },
  {
   "cell_type": "code",
   "execution_count": 33,
   "metadata": {},
   "outputs": [
    {
     "data": {
      "text/plain": [
       "<AxesSubplot:title={'center':'View count on Unfavorable Videos'}, xlabel='favorability'>"
      ]
     },
     "execution_count": 33,
     "metadata": {},
     "output_type": "execute_result"
    },
    {
     "data": {
      "image/png": "[encoded data removed]",
      "text/plain": [
       "<Figure size 1080x432 with 1 Axes>"
      ]
     },
     "metadata": {
      "needs_background": "light"
     },
     "output_type": "display_data"
    }
   ],
   "source": [
    "unfavorable_videos.sort_values('favorability').plot.line(x='favorability',\n",
    "                                                                   logy=False,\n",
    "                                                                   y=['view_count'],\n",
    "                                                                   figsize=(15, 6),\n",
    "                                                                   title='View count on Unfavorable Videos',\n",
    "                                                                   color='red')"
   ]
  },
  {
   "cell_type": "code",
   "execution_count": 34,
   "metadata": {},
   "outputs": [
    {
     "data": {
      "text/plain": [
       "count    3.148000e+03\n",
       "mean     1.088720e+06\n",
       "std      5.616240e+06\n",
       "min      1.833800e+04\n",
       "25%      1.467355e+05\n",
       "50%      3.073730e+05\n",
       "75%      7.141050e+05\n",
       "max      1.294724e+08\n",
       "Name: view_count, dtype: float64"
      ]
     },
     "execution_count": 34,
     "metadata": {},
     "output_type": "execute_result"
    }
   ],
   "source": [
    "unfavorable_videos['view_count'].describe()"
   ]
  },
  {
   "cell_type": "code",
   "execution_count": 35,
   "metadata": {},
   "outputs": [
    {
     "data": {
      "text/plain": [
       "<AxesSubplot:>"
      ]
     },
     "execution_count": 35,
     "metadata": {},
     "output_type": "execute_result"
    },
    {
     "data": {
      "image/png": "[encoded data removed]",
      "text/plain": [
       "<Figure size 1080x432 with 1 Axes>"
      ]
     },
     "metadata": {
      "needs_background": "light"
     },
     "output_type": "display_data"
    }
   ],
   "source": [
    "unfavorable_videos['view_count'].plot.box(figsize=(15, 6), vert=False, logx=True)"
   ]
  },
  {
   "cell_type": "code",
   "execution_count": 36,
   "metadata": {},
   "outputs": [],
   "source": [
    "favorable_videos = df[df['favorability'] > 0.0].copy()"
   ]
  },
  {
   "cell_type": "code",
   "execution_count": 37,
   "metadata": {},
   "outputs": [
    {
     "data": {
      "text/plain": [
       "<AxesSubplot:title={'center':'View count on Favorable Videos'}, xlabel='favorability'>"
      ]
     },
     "execution_count": 37,
     "metadata": {},
     "output_type": "execute_result"
    },
    {
     "data": {
      "image/png": "[encoded data removed]",
      "text/plain": [
       "<Figure size 1080x432 with 1 Axes>"
      ]
     },
     "metadata": {
      "needs_background": "light"
     },
     "output_type": "display_data"
    }
   ],
   "source": [
    "favorable_videos.sort_values('favorability').plot.line(x='favorability',\n",
    "                                                                   logy=False,\n",
    "                                                                   y=['view_count'],\n",
    "                                                                   figsize=(15, 6),\n",
    "                                                                   title='View count on Favorable Videos',\n",
    "                                                                   color='green')"
   ]
  },
  {
   "cell_type": "code",
   "execution_count": 38,
   "metadata": {},
   "outputs": [
    {
     "data": {
      "text/plain": [
       "count    1.014753e+06\n",
       "mean     1.878618e+06\n",
       "std      7.602138e+06\n",
       "min      0.000000e+00\n",
       "25%      2.163580e+05\n",
       "50%      5.241770e+05\n",
       "75%      1.356269e+06\n",
       "max      1.322797e+09\n",
       "Name: view_count, dtype: float64"
      ]
     },
     "execution_count": 38,
     "metadata": {},
     "output_type": "execute_result"
    }
   ],
   "source": [
    "favorable_videos['view_count'].describe()"
   ]
  },
  {
   "cell_type": "code",
   "execution_count": 39,
   "metadata": {},
   "outputs": [
    {
     "data": {
      "text/plain": [
       "<AxesSubplot:>"
      ]
     },
     "execution_count": 39,
     "metadata": {},
     "output_type": "execute_result"
    },
    {
     "data": {
      "image/png": "[encoded data removed]",
      "text/plain": [
       "<Figure size 1080x432 with 1 Axes>"
      ]
     },
     "metadata": {
      "needs_background": "light"
     },
     "output_type": "display_data"
    }
   ],
   "source": [
    "favorable_videos['view_count'].plot.box(figsize=(15, 6), vert=False, logx=True)"
   ]
  },
  {
   "cell_type": "markdown",
   "metadata": {},
   "source": [
    "## Distribution\n",
    "\n",
    "Let's look at the distribution of view counts for favorable/unfavorable/all videos"
   ]
  },
  {
   "cell_type": "code",
   "execution_count": 40,
   "metadata": {},
   "outputs": [],
   "source": [
    "df3 = pd.DataFrame()"
   ]
  },
  {
   "cell_type": "code",
   "execution_count": 41,
   "metadata": {},
   "outputs": [
    {
     "data": {
      "text/plain": [
       "(1032705, 23)"
      ]
     },
     "execution_count": 41,
     "metadata": {},
     "output_type": "execute_result"
    }
   ],
   "source": [
    "df.shape"
   ]
  },
  {
   "cell_type": "code",
   "execution_count": 42,
   "metadata": {},
   "outputs": [
    {
     "data": {
      "text/plain": [
       "(1014753, 23)"
      ]
     },
     "execution_count": 42,
     "metadata": {},
     "output_type": "execute_result"
    }
   ],
   "source": [
    "favorable_videos.shape"
   ]
  },
  {
   "cell_type": "code",
   "execution_count": 43,
   "metadata": {},
   "outputs": [
    {
     "data": {
      "text/plain": [
       "(3148, 23)"
      ]
     },
     "execution_count": 43,
     "metadata": {},
     "output_type": "execute_result"
    }
   ],
   "source": [
    "unfavorable_videos.shape"
   ]
  },
  {
   "cell_type": "code",
   "execution_count": 44,
   "metadata": {},
   "outputs": [],
   "source": [
    "df3['unfavorable_views'] = unfavorable_videos['view_count']\n",
    "df3['all_views']         = df['view_count']\n",
    "df3['favorable_views']   = favorable_videos['view_count']"
   ]
  },
  {
   "cell_type": "code",
   "execution_count": 45,
   "metadata": {},
   "outputs": [
    {
     "data": {
      "text/plain": [
       "<AxesSubplot:>"
      ]
     },
     "execution_count": 45,
     "metadata": {},
     "output_type": "execute_result"
    },
    {
     "data": {
      "image/png": "[encoded data removed]",
      "text/plain": [
       "<Figure size 1080x432 with 1 Axes>"
      ]
     },
     "metadata": {
      "needs_background": "light"
     },
     "output_type": "display_data"
    }
   ],
   "source": [
    "df3.plot.box(vert=False, figsize=(15, 6), logx=True)"
   ]
  },
  {
   "cell_type": "markdown",
   "metadata": {},
   "source": [
    "Not sure why the Favorable isn't showing up?"
   ]
  },
  {
   "cell_type": "markdown",
   "metadata": {},
   "source": [
    "## Examining Specific Videos"
   ]
  },
  {
   "cell_type": "code",
   "execution_count": 46,
   "metadata": {},
   "outputs": [
    {
     "data": {
      "text/plain": [
       "-0.985285682770792"
      ]
     },
     "execution_count": 46,
     "metadata": {},
     "output_type": "execute_result"
    }
   ],
   "source": [
    "df['favorability'].min()"
   ]
  },
  {
   "cell_type": "code",
   "execution_count": 47,
   "metadata": {},
   "outputs": [
    {
     "data": {
      "text/html": [
       "<div>\n",
       "<style scoped>\n",
       "    .dataframe tbody tr th:only-of-type {\n",
       "        vertical-align: middle;\n",
       "    }\n",
       "\n",
       "    .dataframe tbody tr th {\n",
       "        vertical-align: top;\n",
       "    }\n",
       "\n",
       "    .dataframe thead th {\n",
       "        text-align: right;\n",
       "    }\n",
       "</style>\n",
       "<table border=\"1\" class=\"dataframe\">\n",
       "  <thead>\n",
       "    <tr style=\"text-align: right;\">\n",
       "      <th></th>\n",
       "      <th>video_id</th>\n",
       "      <th>title</th>\n",
       "      <th>channel_id</th>\n",
       "      <th>channel_title</th>\n",
       "      <th>published_at</th>\n",
       "      <th>view_count</th>\n",
       "      <th>likes</th>\n",
       "      <th>dislikes</th>\n",
       "      <th>comment_count</th>\n",
       "      <th>tags</th>\n",
       "      <th>...</th>\n",
       "      <th>channelId</th>\n",
       "      <th>channelTitle</th>\n",
       "      <th>categoryId</th>\n",
       "      <th>trending_date</th>\n",
       "      <th>thumbnail_link</th>\n",
       "      <th>comments_disabled</th>\n",
       "      <th>ratings_disabled</th>\n",
       "      <th>combined_rating</th>\n",
       "      <th>activity</th>\n",
       "      <th>favorability</th>\n",
       "    </tr>\n",
       "  </thead>\n",
       "  <tbody>\n",
       "    <tr>\n",
       "      <th>911877</th>\n",
       "      <td>uretrfMA-Io</td>\n",
       "      <td>Amber Heard's 2020 Takeaway: 'Adapt &amp; Survive'</td>\n",
       "      <td>NaN</td>\n",
       "      <td>NaN</td>\n",
       "      <td>NaN</td>\n",
       "      <td>507439</td>\n",
       "      <td>667</td>\n",
       "      <td>89993</td>\n",
       "      <td>27598</td>\n",
       "      <td>Access|amber heard|the stand|tv|celebrity|inte...</td>\n",
       "      <td>...</td>\n",
       "      <td>UCiKGMZZmZXK-RpbKJGXgH3Q</td>\n",
       "      <td>Access</td>\n",
       "      <td>24.0</td>\n",
       "      <td>2020-12-23T00:00:00Z</td>\n",
       "      <td>https://i.ytimg.com/vi/uretrfMA-Io/default.jpg</td>\n",
       "      <td>False</td>\n",
       "      <td>False</td>\n",
       "      <td>-89326</td>\n",
       "      <td>90660</td>\n",
       "      <td>-0.985286</td>\n",
       "    </tr>\n",
       "  </tbody>\n",
       "</table>\n",
       "<p>1 rows × 23 columns</p>\n",
       "</div>"
      ],
      "text/plain": [
       "           video_id                                           title  \\\n",
       "911877  uretrfMA-Io  Amber Heard's 2020 Takeaway: 'Adapt & Survive'   \n",
       "\n",
       "       channel_id channel_title published_at  view_count  likes  dislikes  \\\n",
       "911877        NaN           NaN          NaN      507439    667     89993   \n",
       "\n",
       "        comment_count                                               tags  ...  \\\n",
       "911877          27598  Access|amber heard|the stand|tv|celebrity|inte...  ...   \n",
       "\n",
       "                       channelId channelTitle categoryId  \\\n",
       "911877  UCiKGMZZmZXK-RpbKJGXgH3Q       Access       24.0   \n",
       "\n",
       "               trending_date                                  thumbnail_link  \\\n",
       "911877  2020-12-23T00:00:00Z  https://i.ytimg.com/vi/uretrfMA-Io/default.jpg   \n",
       "\n",
       "        comments_disabled ratings_disabled combined_rating activity  \\\n",
       "911877              False            False          -89326    90660   \n",
       "\n",
       "       favorability  \n",
       "911877    -0.985286  \n",
       "\n",
       "[1 rows x 23 columns]"
      ]
     },
     "execution_count": 47,
     "metadata": {},
     "output_type": "execute_result"
    }
   ],
   "source": [
    "df[df['favorability'] == -0.985285682770792]"
   ]
  },
  {
   "cell_type": "code",
   "execution_count": 48,
   "metadata": {},
   "outputs": [
    {
     "data": {
      "text/plain": [
       "27.282688653561944"
      ]
     },
     "execution_count": 48,
     "metadata": {},
     "output_type": "execute_result"
    }
   ],
   "source": [
    "2455251 / 89993"
   ]
  },
  {
   "cell_type": "markdown",
   "metadata": {},
   "source": [
    "The most unfavorable video we have on record is [Amber Heard's 2020 Takeaway: 'Adapt & Survive'](https://www.youtube.com/watch?v=uretrfMA-Io). It appears to be contentious because it is an actress talking about domestic abuse, and there is dispute over the circumstances. Not our place to comment on this.\n",
    "\n",
    "Since the dataset recorded data on this video, it now has 2,455,251 views (27 times more than when data was collected) and the Youtube Dislike API reports it has ~475,000 dislikes."
   ]
  },
  {
   "cell_type": "code",
   "execution_count": 49,
   "metadata": {},
   "outputs": [
    {
     "data": {
      "text/plain": [
       "12341474"
      ]
     },
     "execution_count": 49,
     "metadata": {},
     "output_type": "execute_result"
    }
   ],
   "source": [
    "df['dislikes'].max()"
   ]
  },
  {
   "cell_type": "code",
   "execution_count": 50,
   "metadata": {},
   "outputs": [
    {
     "data": {
      "text/html": [
       "<div>\n",
       "<style scoped>\n",
       "    .dataframe tbody tr th:only-of-type {\n",
       "        vertical-align: middle;\n",
       "    }\n",
       "\n",
       "    .dataframe tbody tr th {\n",
       "        vertical-align: top;\n",
       "    }\n",
       "\n",
       "    .dataframe thead th {\n",
       "        text-align: right;\n",
       "    }\n",
       "</style>\n",
       "<table border=\"1\" class=\"dataframe\">\n",
       "  <thead>\n",
       "    <tr style=\"text-align: right;\">\n",
       "      <th></th>\n",
       "      <th>video_id</th>\n",
       "      <th>title</th>\n",
       "      <th>channel_id</th>\n",
       "      <th>channel_title</th>\n",
       "      <th>published_at</th>\n",
       "      <th>view_count</th>\n",
       "      <th>likes</th>\n",
       "      <th>dislikes</th>\n",
       "      <th>comment_count</th>\n",
       "      <th>tags</th>\n",
       "      <th>...</th>\n",
       "      <th>channelId</th>\n",
       "      <th>channelTitle</th>\n",
       "      <th>categoryId</th>\n",
       "      <th>trending_date</th>\n",
       "      <th>thumbnail_link</th>\n",
       "      <th>comments_disabled</th>\n",
       "      <th>ratings_disabled</th>\n",
       "      <th>combined_rating</th>\n",
       "      <th>activity</th>\n",
       "      <th>favorability</th>\n",
       "    </tr>\n",
       "  </thead>\n",
       "  <tbody>\n",
       "    <tr>\n",
       "      <th>492064</th>\n",
       "      <td>Iot0eF6EoNA</td>\n",
       "      <td>Sadak 2 | Official Trailer | Sanjay | Pooja | ...</td>\n",
       "      <td>NaN</td>\n",
       "      <td>NaN</td>\n",
       "      <td>NaN</td>\n",
       "      <td>66344227</td>\n",
       "      <td>680408</td>\n",
       "      <td>12341474</td>\n",
       "      <td>1080479</td>\n",
       "      <td>sadak|sadak 2|mahesh bhatt|vishesh films|pooja...</td>\n",
       "      <td>...</td>\n",
       "      <td>UCGqvJPRcv7aVFun-eTsatcA</td>\n",
       "      <td>FoxStarHindi</td>\n",
       "      <td>24.0</td>\n",
       "      <td>2020-08-22T00:00:00Z</td>\n",
       "      <td>https://i.ytimg.com/vi/Iot0eF6EoNA/default.jpg</td>\n",
       "      <td>False</td>\n",
       "      <td>False</td>\n",
       "      <td>-11661066</td>\n",
       "      <td>13021882</td>\n",
       "      <td>-0.895498</td>\n",
       "    </tr>\n",
       "  </tbody>\n",
       "</table>\n",
       "<p>1 rows × 23 columns</p>\n",
       "</div>"
      ],
      "text/plain": [
       "           video_id                                              title  \\\n",
       "492064  Iot0eF6EoNA  Sadak 2 | Official Trailer | Sanjay | Pooja | ...   \n",
       "\n",
       "       channel_id channel_title published_at  view_count   likes  dislikes  \\\n",
       "492064        NaN           NaN          NaN    66344227  680408  12341474   \n",
       "\n",
       "        comment_count                                               tags  ...  \\\n",
       "492064        1080479  sadak|sadak 2|mahesh bhatt|vishesh films|pooja...  ...   \n",
       "\n",
       "                       channelId  channelTitle categoryId  \\\n",
       "492064  UCGqvJPRcv7aVFun-eTsatcA  FoxStarHindi       24.0   \n",
       "\n",
       "               trending_date                                  thumbnail_link  \\\n",
       "492064  2020-08-22T00:00:00Z  https://i.ytimg.com/vi/Iot0eF6EoNA/default.jpg   \n",
       "\n",
       "        comments_disabled ratings_disabled combined_rating  activity  \\\n",
       "492064              False            False       -11661066  13021882   \n",
       "\n",
       "       favorability  \n",
       "492064    -0.895498  \n",
       "\n",
       "[1 rows x 23 columns]"
      ]
     },
     "execution_count": 50,
     "metadata": {},
     "output_type": "execute_result"
    }
   ],
   "source": [
    "df[df['dislikes'] == 12341474]"
   ]
  },
  {
   "cell_type": "markdown",
   "metadata": {},
   "source": [
    "The most disliked video we have on record is the [trailer for the movie Sandak 2](https://www.youtube.com/watch?v=Iot0eF6EoNA), which according to [Wikipedia](https://en.wikipedia.org/wiki/List_of_most-disliked_YouTube_videos#:~:text=In%20August%202020%2C%20the%20Indian%20film%20Sadak%202%27s%20trailer%20became%20the%20most%20disliked%20movie%20trailer%20on%20YouTube.), 'became the most disliked movie trailer on YouTube.'"
   ]
  },
  {
   "cell_type": "markdown",
   "metadata": {},
   "source": [
    "## Exporting"
   ]
  },
  {
   "cell_type": "code",
   "execution_count": 55,
   "metadata": {},
   "outputs": [
    {
     "name": "stdout",
     "output_type": "stream",
     "text": [
      "<class 'pandas.core.frame.DataFrame'>\n",
      "RangeIndex: 1032705 entries, 0 to 1032704\n",
      "Data columns (total 23 columns):\n",
      " #   Column             Non-Null Count    Dtype  \n",
      "---  ------             --------------    -----  \n",
      " 0   video_id           1032705 non-null  object \n",
      " 1   title              1032705 non-null  object \n",
      " 2   channel_id         37422 non-null    object \n",
      " 3   channel_title      37422 non-null    object \n",
      " 4   published_at       37422 non-null    object \n",
      " 5   view_count         1032705 non-null  int64  \n",
      " 6   likes              1032705 non-null  int64  \n",
      " 7   dislikes           1032705 non-null  int64  \n",
      " 8   comment_count      1032705 non-null  int64  \n",
      " 9   tags               1032705 non-null  object \n",
      " 10  description        1005092 non-null  object \n",
      " 11  comments           37264 non-null    object \n",
      " 12  publishedAt        995283 non-null   object \n",
      " 13  channelId          995283 non-null   object \n",
      " 14  channelTitle       995282 non-null   object \n",
      " 15  categoryId         995283 non-null   float64\n",
      " 16  trending_date      995283 non-null   object \n",
      " 17  thumbnail_link     995283 non-null   object \n",
      " 18  comments_disabled  995283 non-null   object \n",
      " 19  ratings_disabled   995283 non-null   object \n",
      " 20  combined_rating    1032705 non-null  int64  \n",
      " 21  activity           1032705 non-null  int64  \n",
      " 22  favorability       1017903 non-null  float64\n",
      "dtypes: float64(2), int64(6), object(15)\n",
      "memory usage: 181.2+ MB\n"
     ]
    }
   ],
   "source": [
    "df.info()"
   ]
  },
  {
   "cell_type": "code",
   "execution_count": 91,
   "metadata": {},
   "outputs": [],
   "source": [
    "# export_df = df[['favorability', 'view_count', 'title', 'likes', 'dislikes', 'video_id']][df['view_count'] < cap]\n",
    "\n",
    "# df['combined_rating'] = df['likes'] - df['dislikes']\n",
    "# df['activity'] = df['likes'] + df['dislikes']\n",
    "# df['favorability'] = df['combined_rating'] / df['activity']\n",
    "\n",
    "export_df = df[['title', 'view_count', 'favorability', 'likes', 'dislikes', 'video_id']][df['view_count'] < cap].copy()"
   ]
  },
  {
   "cell_type": "code",
   "execution_count": 114,
   "metadata": {},
   "outputs": [
    {
     "data": {
      "text/html": [
       "<div>\n",
       "<style scoped>\n",
       "    .dataframe tbody tr th:only-of-type {\n",
       "        vertical-align: middle;\n",
       "    }\n",
       "\n",
       "    .dataframe tbody tr th {\n",
       "        vertical-align: top;\n",
       "    }\n",
       "\n",
       "    .dataframe thead th {\n",
       "        text-align: right;\n",
       "    }\n",
       "</style>\n",
       "<table border=\"1\" class=\"dataframe\">\n",
       "  <thead>\n",
       "    <tr style=\"text-align: right;\">\n",
       "      <th></th>\n",
       "      <th>title</th>\n",
       "      <th>view_count</th>\n",
       "      <th>favorability</th>\n",
       "      <th>likes</th>\n",
       "      <th>dislikes</th>\n",
       "      <th>video_id</th>\n",
       "    </tr>\n",
       "  </thead>\n",
       "  <tbody>\n",
       "    <tr>\n",
       "      <th>226792</th>\n",
       "      <td>Behind The Set Of Squid Game</td>\n",
       "      <td>3808457</td>\n",
       "      <td>0.963466</td>\n",
       "      <td>87388</td>\n",
       "      <td>1626</td>\n",
       "      <td>I1Rei-EpAB8</td>\n",
       "    </tr>\n",
       "    <tr>\n",
       "      <th>97235</th>\n",
       "      <td>Dilsinho, Bianca Andrade - Hollywood</td>\n",
       "      <td>850069</td>\n",
       "      <td>0.973986</td>\n",
       "      <td>43480</td>\n",
       "      <td>573</td>\n",
       "      <td>QpyVX56kQlY</td>\n",
       "    </tr>\n",
       "    <tr>\n",
       "      <th>587567</th>\n",
       "      <td>隠していたことがあります。やっと公表する覚悟ができました。</td>\n",
       "      <td>1731901</td>\n",
       "      <td>0.709865</td>\n",
       "      <td>34812</td>\n",
       "      <td>5907</td>\n",
       "      <td>stHhVJMIaxw</td>\n",
       "    </tr>\n",
       "    <tr>\n",
       "      <th>890195</th>\n",
       "      <td>Три недели протестам в Беларуси: уйдёт ли Лука...</td>\n",
       "      <td>547759</td>\n",
       "      <td>0.947989</td>\n",
       "      <td>35019</td>\n",
       "      <td>935</td>\n",
       "      <td>g4KUu2kNQQU</td>\n",
       "    </tr>\n",
       "    <tr>\n",
       "      <th>767093</th>\n",
       "      <td>재난지원금</td>\n",
       "      <td>1973490</td>\n",
       "      <td>0.861548</td>\n",
       "      <td>53943</td>\n",
       "      <td>4012</td>\n",
       "      <td>o31kKZbxDro</td>\n",
       "    </tr>\n",
       "    <tr>\n",
       "      <th>...</th>\n",
       "      <td>...</td>\n",
       "      <td>...</td>\n",
       "      <td>...</td>\n",
       "      <td>...</td>\n",
       "      <td>...</td>\n",
       "      <td>...</td>\n",
       "    </tr>\n",
       "    <tr>\n",
       "      <th>510295</th>\n",
       "      <td>Important Updates | उद्यापासून हे नियम बदलणार</td>\n",
       "      <td>1117861</td>\n",
       "      <td>0.843703</td>\n",
       "      <td>10357</td>\n",
       "      <td>878</td>\n",
       "      <td>3Yz-1FxWun8</td>\n",
       "    </tr>\n",
       "    <tr>\n",
       "      <th>651889</th>\n",
       "      <td>あれ…ただの開封動画になってしまった…【難聴うさぎ】【TikTok】</td>\n",
       "      <td>837844</td>\n",
       "      <td>0.902534</td>\n",
       "      <td>17158</td>\n",
       "      <td>879</td>\n",
       "      <td>Q7570wPOFto</td>\n",
       "    </tr>\n",
       "    <tr>\n",
       "      <th>302403</th>\n",
       "      <td>Minecraft als Geist durchspielen!</td>\n",
       "      <td>74535</td>\n",
       "      <td>0.976178</td>\n",
       "      <td>7549</td>\n",
       "      <td>91</td>\n",
       "      <td>9qtZQhHfI1w</td>\n",
       "    </tr>\n",
       "    <tr>\n",
       "      <th>410212</th>\n",
       "      <td>MON MEILLEUR AMI EST MORT 💀 ET SON FANTÔME 👻 M...</td>\n",
       "      <td>257871</td>\n",
       "      <td>0.950511</td>\n",
       "      <td>10208</td>\n",
       "      <td>259</td>\n",
       "      <td>BYuZJdM7OMU</td>\n",
       "    </tr>\n",
       "    <tr>\n",
       "      <th>299492</th>\n",
       "      <td>Lena – Strip (Official Music Video)</td>\n",
       "      <td>265681</td>\n",
       "      <td>0.885189</td>\n",
       "      <td>14154</td>\n",
       "      <td>862</td>\n",
       "      <td>wVGPBYhbsf4</td>\n",
       "    </tr>\n",
       "  </tbody>\n",
       "</table>\n",
       "<p>10318 rows × 6 columns</p>\n",
       "</div>"
      ],
      "text/plain": [
       "                                                    title  view_count  \\\n",
       "226792                       Behind The Set Of Squid Game     3808457   \n",
       "97235                Dilsinho, Bianca Andrade - Hollywood      850069   \n",
       "587567                      隠していたことがあります。やっと公表する覚悟ができました。     1731901   \n",
       "890195  Три недели протестам в Беларуси: уйдёт ли Лука...      547759   \n",
       "767093                                              재난지원금     1973490   \n",
       "...                                                   ...         ...   \n",
       "510295      Important Updates | उद्यापासून हे नियम बदलणार     1117861   \n",
       "651889                 あれ…ただの開封動画になってしまった…【難聴うさぎ】【TikTok】      837844   \n",
       "302403                  Minecraft als Geist durchspielen!       74535   \n",
       "410212  MON MEILLEUR AMI EST MORT 💀 ET SON FANTÔME 👻 M...      257871   \n",
       "299492                Lena – Strip (Official Music Video)      265681   \n",
       "\n",
       "        favorability  likes  dislikes     video_id  \n",
       "226792      0.963466  87388      1626  I1Rei-EpAB8  \n",
       "97235       0.973986  43480       573  QpyVX56kQlY  \n",
       "587567      0.709865  34812      5907  stHhVJMIaxw  \n",
       "890195      0.947989  35019       935  g4KUu2kNQQU  \n",
       "767093      0.861548  53943      4012  o31kKZbxDro  \n",
       "...              ...    ...       ...          ...  \n",
       "510295      0.843703  10357       878  3Yz-1FxWun8  \n",
       "651889      0.902534  17158       879  Q7570wPOFto  \n",
       "302403      0.976178   7549        91  9qtZQhHfI1w  \n",
       "410212      0.950511  10208       259  BYuZJdM7OMU  \n",
       "299492      0.885189  14154       862  wVGPBYhbsf4  \n",
       "\n",
       "[10318 rows x 6 columns]"
      ]
     },
     "execution_count": 114,
     "metadata": {},
     "output_type": "execute_result"
    }
   ],
   "source": [
    "to_export = export_df.sample(frac=0.01, random_state=1)\n",
    "to_export"
   ]
  },
  {
   "cell_type": "code",
   "execution_count": 108,
   "metadata": {},
   "outputs": [
    {
     "name": "stdout",
     "output_type": "stream",
     "text": [
      "<class 'pandas.core.frame.DataFrame'>\n",
      "Int64Index: 103 entries, 226792 to 45685\n",
      "Data columns (total 6 columns):\n",
      " #   Column        Non-Null Count  Dtype  \n",
      "---  ------        --------------  -----  \n",
      " 0   title         103 non-null    object \n",
      " 1   view_count    103 non-null    int64  \n",
      " 2   favorability  102 non-null    float64\n",
      " 3   likes         103 non-null    int64  \n",
      " 4   dislikes      103 non-null    int64  \n",
      " 5   video_id      103 non-null    object \n",
      "dtypes: float64(1), int64(3), object(2)\n",
      "memory usage: 5.6+ KB\n"
     ]
    }
   ],
   "source": [
    "to_export.info()"
   ]
  },
  {
   "cell_type": "code",
   "execution_count": 109,
   "metadata": {},
   "outputs": [],
   "source": [
    "to_export.to_csv(\"master_export_fragment.csv\")"
   ]
  },
  {
   "cell_type": "code",
   "execution_count": 110,
   "metadata": {},
   "outputs": [
    {
     "data": {
      "text/plain": [
       "0.13408892763731473"
      ]
     },
     "execution_count": 110,
     "metadata": {},
     "output_type": "execute_result"
    }
   ],
   "source": [
    "to_export['favorability'].min()"
   ]
  },
  {
   "cell_type": "code",
   "execution_count": 111,
   "metadata": {},
   "outputs": [
    {
     "data": {
      "text/plain": [
       "1.0"
      ]
     },
     "execution_count": 111,
     "metadata": {},
     "output_type": "execute_result"
    }
   ],
   "source": [
    "to_export['favorability'].max()"
   ]
  },
  {
   "cell_type": "code",
   "execution_count": 112,
   "metadata": {},
   "outputs": [
    {
     "data": {
      "text/plain": [
       "22800"
      ]
     },
     "execution_count": 112,
     "metadata": {},
     "output_type": "execute_result"
    }
   ],
   "source": [
    "to_export['view_count'].min()"
   ]
  },
  {
   "cell_type": "code",
   "execution_count": 113,
   "metadata": {},
   "outputs": [
    {
     "data": {
      "text/plain": [
       "8804827"
      ]
     },
     "execution_count": 113,
     "metadata": {},
     "output_type": "execute_result"
    }
   ],
   "source": [
    "to_export['view_count'].max()"
   ]
  },
  {
   "cell_type": "code",
   "execution_count": null,
   "metadata": {},
   "outputs": [],
   "source": []
  }
 ],
 "metadata": {
  "kernelspec": {
   "display_name": "Python 3",
   "language": "python",
   "name": "python3"
  },
  "language_info": {
   "codemirror_mode": {
    "name": "ipython",
    "version": 3
   },
   "file_extension": ".py",
   "mimetype": "text/x-python",
   "name": "python",
   "nbconvert_exporter": "python",
   "pygments_lexer": "ipython3",
   "version": "3.8.5"
  }
 },
 "nbformat": 4,
 "nbformat_minor": 4
}
