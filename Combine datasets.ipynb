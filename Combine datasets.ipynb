{
 "cells": [
  {
   "cell_type": "markdown",
   "id": "9a6b98b3",
   "metadata": {},
   "source": [
    "# This file contains the code used to combine the datasets into data_master.h5\n",
    "## Author: Jonathan Moyers\n",
    "All the data was gathered from these datasets:\n",
    "- https://www.kaggle.com/rsrishav/youtube-trending-video-dataset\n",
    "- https://www.kaggle.com/dmitrynikolaev/youtube-dislikes-dataset"
   ]
  },
  {
   "cell_type": "code",
   "execution_count": 1,
   "id": "026cce69",
   "metadata": {},
   "outputs": [],
   "source": [
    "import pandas as pd"
   ]
  },
  {
   "cell_type": "code",
   "execution_count": 13,
   "id": "2b7420fc",
   "metadata": {},
   "outputs": [
    {
     "data": {
      "text/plain": [
       "(37422, 12)"
      ]
     },
     "execution_count": 13,
     "metadata": {},
     "output_type": "execute_result"
    }
   ],
   "source": [
    "df = pd.read_csv('./data/youtube_dislike_dataset.csv')\n",
    "df.shape"
   ]
  },
  {
   "cell_type": "code",
   "execution_count": 3,
   "id": "62256c32",
   "metadata": {},
   "outputs": [
    {
     "data": {
      "text/plain": [
       "(316, 20)"
      ]
     },
     "execution_count": 3,
     "metadata": {},
     "output_type": "execute_result"
    }
   ],
   "source": [
    "# df2 = pd.read_csv('./data/kaggle_channel_meta.csv')\n",
    "# df2.shape"
   ]
  },
  {
   "cell_type": "code",
   "execution_count": 4,
   "id": "e2560073",
   "metadata": {},
   "outputs": [
    {
     "data": {
      "text/plain": [
       "Index(['video_id', 'title', 'channel_id', 'channel_title', 'published_at',\n",
       "       'view_count', 'likes', 'dislikes', 'comment_count', 'tags',\n",
       "       'description', 'comments'],\n",
       "      dtype='object')"
      ]
     },
     "execution_count": 4,
     "metadata": {},
     "output_type": "execute_result"
    }
   ],
   "source": [
    "# df.columns"
   ]
  },
  {
   "cell_type": "code",
   "execution_count": 5,
   "id": "881b63ba",
   "metadata": {},
   "outputs": [
    {
     "data": {
      "text/plain": [
       "Index(['position', 'channel_id', 'channel_title', 'video_id', 'published_at',\n",
       "       'video_title', 'video_description', 'video_category_id',\n",
       "       'video_category_label', 'duration', 'duration_sec', 'dimension',\n",
       "       'definition', 'caption', 'licensed_content', 'view_count', 'like_count',\n",
       "       'dislike_count', 'favorite_count', 'comment_count'],\n",
       "      dtype='object')"
      ]
     },
     "execution_count": 5,
     "metadata": {},
     "output_type": "execute_result"
    }
   ],
   "source": [
    "# df2.columns"
   ]
  },
  {
   "cell_type": "code",
   "execution_count": 7,
   "id": "39f71bf3",
   "metadata": {},
   "outputs": [
    {
     "data": {
      "text/plain": [
       "(37738, 26)"
      ]
     },
     "execution_count": 7,
     "metadata": {},
     "output_type": "execute_result"
    }
   ],
   "source": [
    "# df = pd.merge(df, df2,how='outer')\n",
    "# df.shape"
   ]
  },
  {
   "cell_type": "code",
   "execution_count": 14,
   "id": "e2bd2d67",
   "metadata": {},
   "outputs": [
    {
     "data": {
      "text/plain": [
       "(104793, 16)"
      ]
     },
     "execution_count": 14,
     "metadata": {},
     "output_type": "execute_result"
    }
   ],
   "source": [
    "df2 = pd.read_csv('./data/BR_youtube_trending_data.csv')\n",
    "df2.shape"
   ]
  },
  {
   "cell_type": "code",
   "execution_count": 15,
   "id": "8c92cae4",
   "metadata": {},
   "outputs": [],
   "source": [
    "df = pd.merge(df, df2, how='outer')"
   ]
  },
  {
   "cell_type": "code",
   "execution_count": 16,
   "id": "08ac626f",
   "metadata": {},
   "outputs": [
    {
     "data": {
      "text/plain": [
       "(142215, 20)"
      ]
     },
     "execution_count": 16,
     "metadata": {},
     "output_type": "execute_result"
    }
   ],
   "source": [
    "df.shape"
   ]
  },
  {
   "cell_type": "code",
   "execution_count": 17,
   "id": "bc6276e8",
   "metadata": {},
   "outputs": [
    {
     "data": {
      "text/html": [
       "<div>\n",
       "<style scoped>\n",
       "    .dataframe tbody tr th:only-of-type {\n",
       "        vertical-align: middle;\n",
       "    }\n",
       "\n",
       "    .dataframe tbody tr th {\n",
       "        vertical-align: top;\n",
       "    }\n",
       "\n",
       "    .dataframe thead th {\n",
       "        text-align: right;\n",
       "    }\n",
       "</style>\n",
       "<table border=\"1\" class=\"dataframe\">\n",
       "  <thead>\n",
       "    <tr style=\"text-align: right;\">\n",
       "      <th></th>\n",
       "      <th>video_id</th>\n",
       "      <th>title</th>\n",
       "      <th>publishedAt</th>\n",
       "      <th>channelId</th>\n",
       "      <th>channelTitle</th>\n",
       "      <th>categoryId</th>\n",
       "      <th>trending_date</th>\n",
       "      <th>tags</th>\n",
       "      <th>view_count</th>\n",
       "      <th>likes</th>\n",
       "      <th>dislikes</th>\n",
       "      <th>comment_count</th>\n",
       "      <th>thumbnail_link</th>\n",
       "      <th>comments_disabled</th>\n",
       "      <th>ratings_disabled</th>\n",
       "      <th>description</th>\n",
       "    </tr>\n",
       "  </thead>\n",
       "  <tbody>\n",
       "    <tr>\n",
       "      <th>0</th>\n",
       "      <td>s9FH4rDMvds</td>\n",
       "      <td>LEVEI UM FORA? FINGI ESTAR APAIXONADO POR ELA!</td>\n",
       "      <td>2020-08-11T22:21:49Z</td>\n",
       "      <td>UCGfBwrCoi9ZJjKiUK8MmJNw</td>\n",
       "      <td>Pietro Guedes</td>\n",
       "      <td>22</td>\n",
       "      <td>2020-08-12T00:00:00Z</td>\n",
       "      <td>pietro|guedes|ingrid|ohara|pingrid|vlog|amigos...</td>\n",
       "      <td>263835</td>\n",
       "      <td>85095</td>\n",
       "      <td>487</td>\n",
       "      <td>4500</td>\n",
       "      <td>https://i.ytimg.com/vi/s9FH4rDMvds/default.jpg</td>\n",
       "      <td>False</td>\n",
       "      <td>False</td>\n",
       "      <td>Salve rapaziada, neste vídeo me declarei pra e...</td>\n",
       "    </tr>\n",
       "    <tr>\n",
       "      <th>1</th>\n",
       "      <td>jbGRowa5tIk</td>\n",
       "      <td>ITZY “Not Shy” M/V TEASER</td>\n",
       "      <td>2020-08-11T15:00:13Z</td>\n",
       "      <td>UCaO6TYtlC8U5ttz62hTrZgg</td>\n",
       "      <td>JYP Entertainment</td>\n",
       "      <td>10</td>\n",
       "      <td>2020-08-12T00:00:00Z</td>\n",
       "      <td>JYP Entertainment|JYP|ITZY|있지|ITZY Video|ITZY ...</td>\n",
       "      <td>6000070</td>\n",
       "      <td>714310</td>\n",
       "      <td>15176</td>\n",
       "      <td>31040</td>\n",
       "      <td>https://i.ytimg.com/vi/jbGRowa5tIk/default.jpg</td>\n",
       "      <td>False</td>\n",
       "      <td>False</td>\n",
       "      <td>ITZY Not Shy M/V[ITZY Official] https://www.yo...</td>\n",
       "    </tr>\n",
       "    <tr>\n",
       "      <th>2</th>\n",
       "      <td>3EfkCrXKZNs</td>\n",
       "      <td>Oh Juliana PARÓDIA - MC Niack</td>\n",
       "      <td>2020-08-10T14:59:00Z</td>\n",
       "      <td>UCoXZmVma073v5G1cW82UKkA</td>\n",
       "      <td>As Irmãs Mota</td>\n",
       "      <td>22</td>\n",
       "      <td>2020-08-12T00:00:00Z</td>\n",
       "      <td>OH JULIANA PARÓDIA|MC Niack PARÓDIA|PARÓDIAS|A...</td>\n",
       "      <td>2296748</td>\n",
       "      <td>39761</td>\n",
       "      <td>5484</td>\n",
       "      <td>0</td>\n",
       "      <td>https://i.ytimg.com/vi/3EfkCrXKZNs/default.jpg</td>\n",
       "      <td>True</td>\n",
       "      <td>False</td>\n",
       "      <td>Se inscrevam meus amores! 📬 Quer nos mandar al...</td>\n",
       "    </tr>\n",
       "  </tbody>\n",
       "</table>\n",
       "</div>"
      ],
      "text/plain": [
       "      video_id                                           title  \\\n",
       "0  s9FH4rDMvds  LEVEI UM FORA? FINGI ESTAR APAIXONADO POR ELA!   \n",
       "1  jbGRowa5tIk                       ITZY “Not Shy” M/V TEASER   \n",
       "2  3EfkCrXKZNs                   Oh Juliana PARÓDIA - MC Niack   \n",
       "\n",
       "            publishedAt                 channelId       channelTitle  \\\n",
       "0  2020-08-11T22:21:49Z  UCGfBwrCoi9ZJjKiUK8MmJNw      Pietro Guedes   \n",
       "1  2020-08-11T15:00:13Z  UCaO6TYtlC8U5ttz62hTrZgg  JYP Entertainment   \n",
       "2  2020-08-10T14:59:00Z  UCoXZmVma073v5G1cW82UKkA      As Irmãs Mota   \n",
       "\n",
       "   categoryId         trending_date  \\\n",
       "0          22  2020-08-12T00:00:00Z   \n",
       "1          10  2020-08-12T00:00:00Z   \n",
       "2          22  2020-08-12T00:00:00Z   \n",
       "\n",
       "                                                tags  view_count   likes  \\\n",
       "0  pietro|guedes|ingrid|ohara|pingrid|vlog|amigos...      263835   85095   \n",
       "1  JYP Entertainment|JYP|ITZY|있지|ITZY Video|ITZY ...     6000070  714310   \n",
       "2  OH JULIANA PARÓDIA|MC Niack PARÓDIA|PARÓDIAS|A...     2296748   39761   \n",
       "\n",
       "   dislikes  comment_count                                  thumbnail_link  \\\n",
       "0       487           4500  https://i.ytimg.com/vi/s9FH4rDMvds/default.jpg   \n",
       "1     15176          31040  https://i.ytimg.com/vi/jbGRowa5tIk/default.jpg   \n",
       "2      5484              0  https://i.ytimg.com/vi/3EfkCrXKZNs/default.jpg   \n",
       "\n",
       "   comments_disabled  ratings_disabled  \\\n",
       "0              False             False   \n",
       "1              False             False   \n",
       "2               True             False   \n",
       "\n",
       "                                         description  \n",
       "0  Salve rapaziada, neste vídeo me declarei pra e...  \n",
       "1  ITZY Not Shy M/V[ITZY Official] https://www.yo...  \n",
       "2  Se inscrevam meus amores! 📬 Quer nos mandar al...  "
      ]
     },
     "execution_count": 17,
     "metadata": {},
     "output_type": "execute_result"
    }
   ],
   "source": [
    "df2.head(3)"
   ]
  },
  {
   "cell_type": "code",
   "execution_count": 18,
   "id": "c056d1b3",
   "metadata": {},
   "outputs": [
    {
     "data": {
      "text/plain": [
       "(244862, 20)"
      ]
     },
     "execution_count": 18,
     "metadata": {},
     "output_type": "execute_result"
    }
   ],
   "source": [
    "df2 = pd.read_csv('./data/CA_youtube_trending_data.csv')\n",
    "df = pd.merge(df,df2,how='outer')\n",
    "df.shape"
   ]
  },
  {
   "cell_type": "code",
   "execution_count": 19,
   "id": "3a8d2d92",
   "metadata": {},
   "outputs": [
    {
     "data": {
      "text/plain": [
       "(332933, 20)"
      ]
     },
     "execution_count": 19,
     "metadata": {},
     "output_type": "execute_result"
    }
   ],
   "source": [
    "df2 = pd.read_csv('./data/DE_youtube_trending_data.csv')\n",
    "df = pd.merge(df,df2,how='outer')\n",
    "df.shape"
   ]
  },
  {
   "cell_type": "code",
   "execution_count": 20,
   "id": "bc3c3b5d",
   "metadata": {},
   "outputs": [
    {
     "data": {
      "text/plain": [
       "(425372, 20)"
      ]
     },
     "execution_count": 20,
     "metadata": {},
     "output_type": "execute_result"
    }
   ],
   "source": [
    "df2 = pd.read_csv('./data/FR_youtube_trending_data.csv')\n",
    "df = pd.merge(df,df2,how='outer')\n",
    "df.shape"
   ]
  },
  {
   "cell_type": "code",
   "execution_count": 21,
   "id": "050d635e",
   "metadata": {},
   "outputs": [
    {
     "data": {
      "text/plain": [
       "(489737, 20)"
      ]
     },
     "execution_count": 21,
     "metadata": {},
     "output_type": "execute_result"
    }
   ],
   "source": [
    "df2 = pd.read_csv('./data/GB_youtube_trending_data.csv')\n",
    "df = pd.merge(df,df2,how='outer')\n",
    "df.shape"
   ]
  },
  {
   "cell_type": "code",
   "execution_count": 22,
   "id": "558e4820",
   "metadata": {},
   "outputs": [
    {
     "data": {
      "text/plain": [
       "(586218, 20)"
      ]
     },
     "execution_count": 22,
     "metadata": {},
     "output_type": "execute_result"
    }
   ],
   "source": [
    "df2 = pd.read_csv('./data/IN_youtube_trending_data.csv')\n",
    "df = pd.merge(df,df2,how='outer')\n",
    "df.shape"
   ]
  },
  {
   "cell_type": "code",
   "execution_count": 23,
   "id": "075fb401",
   "metadata": {},
   "outputs": [
    {
     "data": {
      "text/plain": [
       "(689269, 20)"
      ]
     },
     "execution_count": 23,
     "metadata": {},
     "output_type": "execute_result"
    }
   ],
   "source": [
    "df2 = pd.read_csv('./data/JP_youtube_trending_data.csv')\n",
    "df = pd.merge(df,df2,how='outer')\n",
    "df.shape"
   ]
  },
  {
   "cell_type": "code",
   "execution_count": 24,
   "id": "8434c2b2",
   "metadata": {},
   "outputs": [
    {
     "data": {
      "text/plain": [
       "(788072, 20)"
      ]
     },
     "execution_count": 24,
     "metadata": {},
     "output_type": "execute_result"
    }
   ],
   "source": [
    "df2 = pd.read_csv('./data/KR_youtube_trending_data.csv')\n",
    "df = pd.merge(df,df2,how='outer')\n",
    "df.shape"
   ]
  },
  {
   "cell_type": "code",
   "execution_count": 25,
   "id": "8c1018fe",
   "metadata": {},
   "outputs": [
    {
     "data": {
      "text/plain": [
       "(885860, 20)"
      ]
     },
     "execution_count": 25,
     "metadata": {},
     "output_type": "execute_result"
    }
   ],
   "source": [
    "df2 = pd.read_csv('./data/MX_youtube_trending_data.csv')\n",
    "df = pd.merge(df,df2,how='outer')\n",
    "df.shape"
   ]
  },
  {
   "cell_type": "code",
   "execution_count": 26,
   "id": "0e35f247",
   "metadata": {},
   "outputs": [
    {
     "data": {
      "text/plain": [
       "(987603, 20)"
      ]
     },
     "execution_count": 26,
     "metadata": {},
     "output_type": "execute_result"
    }
   ],
   "source": [
    "df2 = pd.read_csv('./data/RU_youtube_trending_data.csv')\n",
    "df = pd.merge(df,df2,how='outer')\n",
    "df.shape"
   ]
  },
  {
   "cell_type": "code",
   "execution_count": 27,
   "id": "fb92411d",
   "metadata": {},
   "outputs": [
    {
     "data": {
      "text/plain": [
       "(1032705, 20)"
      ]
     },
     "execution_count": 27,
     "metadata": {},
     "output_type": "execute_result"
    }
   ],
   "source": [
    "df2 = pd.read_csv('./data/US_youtube_trending_data.csv')\n",
    "df = pd.merge(df,df2,how='outer')\n",
    "df.shape"
   ]
  },
  {
   "cell_type": "code",
   "execution_count": 31,
   "id": "b8a3a1ca",
   "metadata": {},
   "outputs": [],
   "source": [
    "df['comments_disabled'] = df['comments_disabled'].astype(\"category\")\n",
    "df['ratings_disabled'] = df['ratings_disabled'].astype(\"category\")"
   ]
  },
  {
   "cell_type": "code",
   "execution_count": 35,
   "id": "1ca86996",
   "metadata": {},
   "outputs": [],
   "source": [
    "df.to_csv('./master_data.csv')"
   ]
  },
  {
   "cell_type": "code",
   "execution_count": null,
   "id": "ce0ab798",
   "metadata": {},
   "outputs": [],
   "source": []
  }
 ],
 "metadata": {
  "kernelspec": {
   "display_name": "Python 3 (ipykernel)",
   "language": "python",
   "name": "python3"
  },
  "language_info": {
   "codemirror_mode": {
    "name": "ipython",
    "version": 3
   },
   "file_extension": ".py",
   "mimetype": "text/x-python",
   "name": "python",
   "nbconvert_exporter": "python",
   "pygments_lexer": "ipython3",
   "version": "3.9.7"
  }
 },
 "nbformat": 4,
 "nbformat_minor": 5
}
