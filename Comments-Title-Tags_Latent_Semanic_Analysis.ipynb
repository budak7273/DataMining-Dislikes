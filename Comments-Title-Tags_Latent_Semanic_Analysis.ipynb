{
 "cells": [
  {
   "cell_type": "code",
   "execution_count": 1,
   "id": "ed9d494a",
   "metadata": {},
   "outputs": [],
   "source": [
    "import pandas as pd\n",
    "from sklearn.feature_extraction.text import CountVectorizer, TfidfVectorizer\n",
    "from sklearn.decomposition import TruncatedSVD\n",
    "import graphviz"
   ]
  },
  {
   "cell_type": "code",
   "execution_count": 2,
   "id": "93db4113",
   "metadata": {},
   "outputs": [
    {
     "name": "stderr",
     "output_type": "stream",
     "text": [
      "C:\\Users\\moyersjm\\anaconda3\\lib\\site-packages\\IPython\\core\\interactiveshell.py:3444: DtypeWarning: Columns (3,4,5,12,13,14,15,17,18,19,20) have mixed types.Specify dtype option on import or set low_memory=False.\n",
      "  exec(code_obj, self.user_global_ns, self.user_ns)\n"
     ]
    },
    {
     "data": {
      "text/html": [
       "<div>\n",
       "<style scoped>\n",
       "    .dataframe tbody tr th:only-of-type {\n",
       "        vertical-align: middle;\n",
       "    }\n",
       "\n",
       "    .dataframe tbody tr th {\n",
       "        vertical-align: top;\n",
       "    }\n",
       "\n",
       "    .dataframe thead th {\n",
       "        text-align: right;\n",
       "    }\n",
       "</style>\n",
       "<table border=\"1\" class=\"dataframe\">\n",
       "  <thead>\n",
       "    <tr style=\"text-align: right;\">\n",
       "      <th></th>\n",
       "      <th>Unnamed: 0</th>\n",
       "      <th>video_id</th>\n",
       "      <th>title</th>\n",
       "      <th>channel_id</th>\n",
       "      <th>channel_title</th>\n",
       "      <th>published_at</th>\n",
       "      <th>view_count</th>\n",
       "      <th>likes</th>\n",
       "      <th>dislikes</th>\n",
       "      <th>comment_count</th>\n",
       "      <th>...</th>\n",
       "      <th>description</th>\n",
       "      <th>comments</th>\n",
       "      <th>publishedAt</th>\n",
       "      <th>channelId</th>\n",
       "      <th>channelTitle</th>\n",
       "      <th>categoryId</th>\n",
       "      <th>trending_date</th>\n",
       "      <th>thumbnail_link</th>\n",
       "      <th>comments_disabled</th>\n",
       "      <th>ratings_disabled</th>\n",
       "    </tr>\n",
       "  </thead>\n",
       "  <tbody>\n",
       "    <tr>\n",
       "      <th>0</th>\n",
       "      <td>0</td>\n",
       "      <td>--0bCF-iK2E</td>\n",
       "      <td>Jadon Sancho  Magical Skills &amp; Goals</td>\n",
       "      <td>UC6UL29enLNe4mqwTfAyeNuw</td>\n",
       "      <td>Bundesliga</td>\n",
       "      <td>2021-07-01 10:00:00</td>\n",
       "      <td>1048888</td>\n",
       "      <td>19515</td>\n",
       "      <td>226</td>\n",
       "      <td>1319</td>\n",
       "      <td>...</td>\n",
       "      <td>Enjoy the best skills and goals from Jadon San...</td>\n",
       "      <td>Respect to Dortmund fans,must be sad losing hi...</td>\n",
       "      <td>NaN</td>\n",
       "      <td>NaN</td>\n",
       "      <td>NaN</td>\n",
       "      <td>NaN</td>\n",
       "      <td>NaN</td>\n",
       "      <td>NaN</td>\n",
       "      <td>NaN</td>\n",
       "      <td>NaN</td>\n",
       "    </tr>\n",
       "    <tr>\n",
       "      <th>1</th>\n",
       "      <td>1</td>\n",
       "      <td>--14w5SOEUs</td>\n",
       "      <td>Migos - Avalanche (Official Video)</td>\n",
       "      <td>UCGIelM2Dj3zza3xyV3pL3WQ</td>\n",
       "      <td>MigosVEVO</td>\n",
       "      <td>2021-06-10 16:00:00</td>\n",
       "      <td>15352638</td>\n",
       "      <td>359277</td>\n",
       "      <td>7479</td>\n",
       "      <td>18729</td>\n",
       "      <td>...</td>\n",
       "      <td>Watch the the official video for Migos - \"Aval...</td>\n",
       "      <td>Migos just makes me want to live my live to th...</td>\n",
       "      <td>NaN</td>\n",
       "      <td>NaN</td>\n",
       "      <td>NaN</td>\n",
       "      <td>NaN</td>\n",
       "      <td>NaN</td>\n",
       "      <td>NaN</td>\n",
       "      <td>NaN</td>\n",
       "      <td>NaN</td>\n",
       "    </tr>\n",
       "    <tr>\n",
       "      <th>2</th>\n",
       "      <td>2</td>\n",
       "      <td>--40TEbZ9Is</td>\n",
       "      <td>Supporting Actress in a Comedy: 73rd Emmys</td>\n",
       "      <td>UClBKH8yZRcM4AsRjDVEdjMg</td>\n",
       "      <td>Television Academy</td>\n",
       "      <td>2021-09-20 01:03:32</td>\n",
       "      <td>925281</td>\n",
       "      <td>11212</td>\n",
       "      <td>401</td>\n",
       "      <td>831</td>\n",
       "      <td>...</td>\n",
       "      <td>Hannah Waddingham wins the Emmy for Supporting...</td>\n",
       "      <td>Hannah's energy bursts through any screen. Wel...</td>\n",
       "      <td>NaN</td>\n",
       "      <td>NaN</td>\n",
       "      <td>NaN</td>\n",
       "      <td>NaN</td>\n",
       "      <td>NaN</td>\n",
       "      <td>NaN</td>\n",
       "      <td>NaN</td>\n",
       "      <td>NaN</td>\n",
       "    </tr>\n",
       "  </tbody>\n",
       "</table>\n",
       "<p>3 rows × 21 columns</p>\n",
       "</div>"
      ],
      "text/plain": [
       "   Unnamed: 0     video_id                                       title  \\\n",
       "0           0  --0bCF-iK2E        Jadon Sancho  Magical Skills & Goals   \n",
       "1           1  --14w5SOEUs          Migos - Avalanche (Official Video)   \n",
       "2           2  --40TEbZ9Is  Supporting Actress in a Comedy: 73rd Emmys   \n",
       "\n",
       "                 channel_id       channel_title         published_at  \\\n",
       "0  UC6UL29enLNe4mqwTfAyeNuw          Bundesliga  2021-07-01 10:00:00   \n",
       "1  UCGIelM2Dj3zza3xyV3pL3WQ           MigosVEVO  2021-06-10 16:00:00   \n",
       "2  UClBKH8yZRcM4AsRjDVEdjMg  Television Academy  2021-09-20 01:03:32   \n",
       "\n",
       "   view_count   likes  dislikes  comment_count  ...  \\\n",
       "0     1048888   19515       226           1319  ...   \n",
       "1    15352638  359277      7479          18729  ...   \n",
       "2      925281   11212       401            831  ...   \n",
       "\n",
       "                                         description  \\\n",
       "0  Enjoy the best skills and goals from Jadon San...   \n",
       "1  Watch the the official video for Migos - \"Aval...   \n",
       "2  Hannah Waddingham wins the Emmy for Supporting...   \n",
       "\n",
       "                                            comments publishedAt channelId  \\\n",
       "0  Respect to Dortmund fans,must be sad losing hi...         NaN       NaN   \n",
       "1  Migos just makes me want to live my live to th...         NaN       NaN   \n",
       "2  Hannah's energy bursts through any screen. Wel...         NaN       NaN   \n",
       "\n",
       "  channelTitle categoryId  trending_date thumbnail_link comments_disabled  \\\n",
       "0          NaN        NaN            NaN            NaN               NaN   \n",
       "1          NaN        NaN            NaN            NaN               NaN   \n",
       "2          NaN        NaN            NaN            NaN               NaN   \n",
       "\n",
       "  ratings_disabled  \n",
       "0              NaN  \n",
       "1              NaN  \n",
       "2              NaN  \n",
       "\n",
       "[3 rows x 21 columns]"
      ]
     },
     "execution_count": 2,
     "metadata": {},
     "output_type": "execute_result"
    }
   ],
   "source": [
    "df = pd.read_csv('../master_data.csv')\n",
    "df.head(3)"
   ]
  },
  {
   "cell_type": "code",
   "execution_count": 3,
   "id": "34c3caac",
   "metadata": {},
   "outputs": [],
   "source": [
    "df.channel_id.fillna(df.channelId,inplace=True)\n",
    "df.channel_title.fillna(df.channelTitle,inplace=True)\n",
    "df.published_at.fillna(df.publishedAt,inplace=True)"
   ]
  },
  {
   "cell_type": "code",
   "execution_count": 4,
   "id": "0b0c628c",
   "metadata": {},
   "outputs": [
    {
     "data": {
      "text/plain": [
       "(1032705, 21)"
      ]
     },
     "execution_count": 4,
     "metadata": {},
     "output_type": "execute_result"
    }
   ],
   "source": [
    "df.shape"
   ]
  },
  {
   "cell_type": "code",
   "execution_count": 5,
   "id": "e261a84e",
   "metadata": {},
   "outputs": [
    {
     "data": {
      "text/plain": [
       "(37264, 10)"
      ]
     },
     "execution_count": 5,
     "metadata": {},
     "output_type": "execute_result"
    }
   ],
   "source": [
    "features = df.drop(['Unnamed: 0','video_id',\n",
    "                    #'title',\n",
    "                    'channel_id',\n",
    "                    #'tags',\n",
    "                    #'description',\n",
    "                    #'comments',\n",
    "                    'publishedAt',\n",
    "                    'channelId', 'channelTitle',\n",
    "                    'categoryId','trending_date',\n",
    "                   'thumbnail_link','comments_disabled',\n",
    "                   'ratings_disabled'], axis=1)\n",
    "features = features.dropna()\n",
    "#target = features.dislikes\n",
    "#features = features.drop('dislikes',axis=1)\n",
    "features.shape"
   ]
  },
  {
   "cell_type": "code",
   "execution_count": 6,
   "id": "4b54de74",
   "metadata": {},
   "outputs": [
    {
     "data": {
      "text/html": [
       "<div>\n",
       "<style scoped>\n",
       "    .dataframe tbody tr th:only-of-type {\n",
       "        vertical-align: middle;\n",
       "    }\n",
       "\n",
       "    .dataframe tbody tr th {\n",
       "        vertical-align: top;\n",
       "    }\n",
       "\n",
       "    .dataframe thead th {\n",
       "        text-align: right;\n",
       "    }\n",
       "</style>\n",
       "<table border=\"1\" class=\"dataframe\">\n",
       "  <thead>\n",
       "    <tr style=\"text-align: right;\">\n",
       "      <th></th>\n",
       "      <th>title</th>\n",
       "      <th>channel_title</th>\n",
       "      <th>published_at</th>\n",
       "      <th>view_count</th>\n",
       "      <th>likes</th>\n",
       "      <th>dislikes</th>\n",
       "      <th>comment_count</th>\n",
       "      <th>tags</th>\n",
       "      <th>description</th>\n",
       "      <th>comments</th>\n",
       "    </tr>\n",
       "  </thead>\n",
       "  <tbody>\n",
       "    <tr>\n",
       "      <th>0</th>\n",
       "      <td>Jadon Sancho  Magical Skills &amp; Goals</td>\n",
       "      <td>Bundesliga</td>\n",
       "      <td>2021-07-01 10:00:00</td>\n",
       "      <td>1048888</td>\n",
       "      <td>19515</td>\n",
       "      <td>226</td>\n",
       "      <td>1319</td>\n",
       "      <td>football soccer ftbol alemn Bundesliga season ...</td>\n",
       "      <td>Enjoy the best skills and goals from Jadon San...</td>\n",
       "      <td>Respect to Dortmund fans,must be sad losing hi...</td>\n",
       "    </tr>\n",
       "    <tr>\n",
       "      <th>1</th>\n",
       "      <td>Migos - Avalanche (Official Video)</td>\n",
       "      <td>MigosVEVO</td>\n",
       "      <td>2021-06-10 16:00:00</td>\n",
       "      <td>15352638</td>\n",
       "      <td>359277</td>\n",
       "      <td>7479</td>\n",
       "      <td>18729</td>\n",
       "      <td>Migos Avalanche Quality Control Music/Motown R...</td>\n",
       "      <td>Watch the the official video for Migos - \"Aval...</td>\n",
       "      <td>Migos just makes me want to live my live to th...</td>\n",
       "    </tr>\n",
       "    <tr>\n",
       "      <th>2</th>\n",
       "      <td>Supporting Actress in a Comedy: 73rd Emmys</td>\n",
       "      <td>Television Academy</td>\n",
       "      <td>2021-09-20 01:03:32</td>\n",
       "      <td>925281</td>\n",
       "      <td>11212</td>\n",
       "      <td>401</td>\n",
       "      <td>831</td>\n",
       "      <td></td>\n",
       "      <td>Hannah Waddingham wins the Emmy for Supporting...</td>\n",
       "      <td>Hannah's energy bursts through any screen. Wel...</td>\n",
       "    </tr>\n",
       "  </tbody>\n",
       "</table>\n",
       "</div>"
      ],
      "text/plain": [
       "                                        title       channel_title  \\\n",
       "0        Jadon Sancho  Magical Skills & Goals          Bundesliga   \n",
       "1          Migos - Avalanche (Official Video)           MigosVEVO   \n",
       "2  Supporting Actress in a Comedy: 73rd Emmys  Television Academy   \n",
       "\n",
       "          published_at  view_count   likes  dislikes  comment_count  \\\n",
       "0  2021-07-01 10:00:00     1048888   19515       226           1319   \n",
       "1  2021-06-10 16:00:00    15352638  359277      7479          18729   \n",
       "2  2021-09-20 01:03:32      925281   11212       401            831   \n",
       "\n",
       "                                                tags  \\\n",
       "0  football soccer ftbol alemn Bundesliga season ...   \n",
       "1  Migos Avalanche Quality Control Music/Motown R...   \n",
       "2                                                      \n",
       "\n",
       "                                         description  \\\n",
       "0  Enjoy the best skills and goals from Jadon San...   \n",
       "1  Watch the the official video for Migos - \"Aval...   \n",
       "2  Hannah Waddingham wins the Emmy for Supporting...   \n",
       "\n",
       "                                            comments  \n",
       "0  Respect to Dortmund fans,must be sad losing hi...  \n",
       "1  Migos just makes me want to live my live to th...  \n",
       "2  Hannah's energy bursts through any screen. Wel...  "
      ]
     },
     "execution_count": 6,
     "metadata": {},
     "output_type": "execute_result"
    }
   ],
   "source": [
    "features.head(3)"
   ]
  },
  {
   "cell_type": "code",
   "execution_count": 7,
   "id": "5b965d50",
   "metadata": {},
   "outputs": [
    {
     "data": {
      "text/plain": [
       "0          Jadon Sancho  Magical Skills & Goals\n",
       "1            Migos - Avalanche (Official Video)\n",
       "2    Supporting Actress in a Comedy: 73rd Emmys\n",
       "dtype: object"
      ]
     },
     "execution_count": 7,
     "metadata": {},
     "output_type": "execute_result"
    }
   ],
   "source": [
    "corpus = pd.concat([features.title, features.tags, features.description])\n",
    "corpus.head(3)"
   ]
  },
  {
   "cell_type": "code",
   "execution_count": 8,
   "id": "27d9b8f1",
   "metadata": {},
   "outputs": [],
   "source": [
    "vectorizer = TfidfVectorizer(analyzer='word',stop_words='english')\n",
    "corpus_features = vectorizer.fit_transform(corpus)"
   ]
  },
  {
   "cell_type": "code",
   "execution_count": 26,
   "id": "fb2a48dd",
   "metadata": {},
   "outputs": [
    {
     "name": "stdout",
     "output_type": "stream",
     "text": [
      "unexplained variance:  0.5169\n"
     ]
    }
   ],
   "source": [
    "svd = TruncatedSVD(n_components=2000)\n",
    "features_svd = svd.fit_transform(corpus_features)\n",
    "print('unexplained variance: ',(1-svd.explained_variance_ratio_.sum()).round(4))"
   ]
  },
  {
   "cell_type": "code",
   "execution_count": 27,
   "id": "51cfba7e",
   "metadata": {},
   "outputs": [
    {
     "data": {
      "text/plain": [
       "(111792, 2000)"
      ]
     },
     "execution_count": 27,
     "metadata": {},
     "output_type": "execute_result"
    }
   ],
   "source": [
    "features_svd.shape"
   ]
  },
  {
   "cell_type": "code",
   "execution_count": 28,
   "id": "60499d3f",
   "metadata": {},
   "outputs": [
    {
     "data": {
      "text/plain": [
       "(111792, 2)"
      ]
     },
     "execution_count": 28,
     "metadata": {},
     "output_type": "execute_result"
    }
   ],
   "source": [
    "corpus.shape"
   ]
  },
  {
   "cell_type": "code",
   "execution_count": 34,
   "id": "14df25a3",
   "metadata": {},
   "outputs": [
    {
     "data": {
      "text/html": [
       "<div>\n",
       "<style scoped>\n",
       "    .dataframe tbody tr th:only-of-type {\n",
       "        vertical-align: middle;\n",
       "    }\n",
       "\n",
       "    .dataframe tbody tr th {\n",
       "        vertical-align: top;\n",
       "    }\n",
       "\n",
       "    .dataframe thead th {\n",
       "        text-align: right;\n",
       "    }\n",
       "</style>\n",
       "<table border=\"1\" class=\"dataframe\">\n",
       "  <thead>\n",
       "    <tr style=\"text-align: right;\">\n",
       "      <th></th>\n",
       "      <th>video</th>\n",
       "      <th>0</th>\n",
       "      <th>1</th>\n",
       "      <th>2</th>\n",
       "      <th>3</th>\n",
       "      <th>4</th>\n",
       "      <th>5</th>\n",
       "      <th>6</th>\n",
       "      <th>7</th>\n",
       "      <th>8</th>\n",
       "      <th>...</th>\n",
       "      <th>1990</th>\n",
       "      <th>1991</th>\n",
       "      <th>1992</th>\n",
       "      <th>1993</th>\n",
       "      <th>1994</th>\n",
       "      <th>1995</th>\n",
       "      <th>1996</th>\n",
       "      <th>1997</th>\n",
       "      <th>1998</th>\n",
       "      <th>1999</th>\n",
       "    </tr>\n",
       "  </thead>\n",
       "  <tbody>\n",
       "    <tr>\n",
       "      <th>0</th>\n",
       "      <td>Jadon Sancho  Magical Skills &amp; Goals</td>\n",
       "      <td>0.003705</td>\n",
       "      <td>0.014242</td>\n",
       "      <td>0.037304</td>\n",
       "      <td>-0.010373</td>\n",
       "      <td>0.006422</td>\n",
       "      <td>0.000502</td>\n",
       "      <td>0.002867</td>\n",
       "      <td>0.011206</td>\n",
       "      <td>0.003821</td>\n",
       "      <td>...</td>\n",
       "      <td>-0.002681</td>\n",
       "      <td>0.006738</td>\n",
       "      <td>0.010829</td>\n",
       "      <td>0.006452</td>\n",
       "      <td>-0.011062</td>\n",
       "      <td>-0.001684</td>\n",
       "      <td>-0.002810</td>\n",
       "      <td>0.002730</td>\n",
       "      <td>0.004779</td>\n",
       "      <td>0.002892</td>\n",
       "    </tr>\n",
       "    <tr>\n",
       "      <th>1</th>\n",
       "      <td>Migos - Avalanche (Official Video)</td>\n",
       "      <td>0.021080</td>\n",
       "      <td>-0.005811</td>\n",
       "      <td>0.008128</td>\n",
       "      <td>0.014892</td>\n",
       "      <td>0.027148</td>\n",
       "      <td>0.199894</td>\n",
       "      <td>-0.111995</td>\n",
       "      <td>0.070640</td>\n",
       "      <td>-0.116385</td>\n",
       "      <td>...</td>\n",
       "      <td>0.015899</td>\n",
       "      <td>0.012841</td>\n",
       "      <td>-0.015499</td>\n",
       "      <td>0.019741</td>\n",
       "      <td>0.004399</td>\n",
       "      <td>-0.005332</td>\n",
       "      <td>-0.005028</td>\n",
       "      <td>-0.011408</td>\n",
       "      <td>0.012427</td>\n",
       "      <td>0.004038</td>\n",
       "    </tr>\n",
       "    <tr>\n",
       "      <th>2</th>\n",
       "      <td>Supporting Actress in a Comedy: 73rd Emmys</td>\n",
       "      <td>0.002277</td>\n",
       "      <td>0.000217</td>\n",
       "      <td>0.002391</td>\n",
       "      <td>0.003033</td>\n",
       "      <td>0.001708</td>\n",
       "      <td>0.012825</td>\n",
       "      <td>0.002186</td>\n",
       "      <td>-0.000814</td>\n",
       "      <td>-0.000389</td>\n",
       "      <td>...</td>\n",
       "      <td>-0.002947</td>\n",
       "      <td>-0.004532</td>\n",
       "      <td>-0.008685</td>\n",
       "      <td>-0.000315</td>\n",
       "      <td>-0.003074</td>\n",
       "      <td>0.001064</td>\n",
       "      <td>-0.000337</td>\n",
       "      <td>-0.003914</td>\n",
       "      <td>0.001284</td>\n",
       "      <td>0.000966</td>\n",
       "    </tr>\n",
       "  </tbody>\n",
       "</table>\n",
       "<p>3 rows × 2001 columns</p>\n",
       "</div>"
      ],
      "text/plain": [
       "                                        video         0         1         2  \\\n",
       "0        Jadon Sancho  Magical Skills & Goals  0.003705  0.014242  0.037304   \n",
       "1          Migos - Avalanche (Official Video)  0.021080 -0.005811  0.008128   \n",
       "2  Supporting Actress in a Comedy: 73rd Emmys  0.002277  0.000217  0.002391   \n",
       "\n",
       "          3         4         5         6         7         8  ...      1990  \\\n",
       "0 -0.010373  0.006422  0.000502  0.002867  0.011206  0.003821  ... -0.002681   \n",
       "1  0.014892  0.027148  0.199894 -0.111995  0.070640 -0.116385  ...  0.015899   \n",
       "2  0.003033  0.001708  0.012825  0.002186 -0.000814 -0.000389  ... -0.002947   \n",
       "\n",
       "       1991      1992      1993      1994      1995      1996      1997  \\\n",
       "0  0.006738  0.010829  0.006452 -0.011062 -0.001684 -0.002810  0.002730   \n",
       "1  0.012841 -0.015499  0.019741  0.004399 -0.005332 -0.005028 -0.011408   \n",
       "2 -0.004532 -0.008685 -0.000315 -0.003074  0.001064 -0.000337 -0.003914   \n",
       "\n",
       "       1998      1999  \n",
       "0  0.004779  0.002892  \n",
       "1  0.012427  0.004038  \n",
       "2  0.001284  0.000966  \n",
       "\n",
       "[3 rows x 2001 columns]"
      ]
     },
     "execution_count": 34,
     "metadata": {},
     "output_type": "execute_result"
    }
   ],
   "source": [
    "df_features_svd = pd.DataFrame(features_svd)\n",
    "corpus = pd.DataFrame(corpus)\n",
    "corpus = corpus.reset_index()\n",
    "corpus['video'] = corpus[0]\n",
    "corpus = corpus.drop([0,'index'],axis=1)\n",
    "df_svd = pd.concat([corpus,df_features_svd],axis=1)\n",
    "df_svd.head(3)"
   ]
  },
  {
   "cell_type": "code",
   "execution_count": 36,
   "id": "d73fdfc6",
   "metadata": {},
   "outputs": [
    {
     "data": {
      "text/html": [
       "<div>\n",
       "<style scoped>\n",
       "    .dataframe tbody tr th:only-of-type {\n",
       "        vertical-align: middle;\n",
       "    }\n",
       "\n",
       "    .dataframe tbody tr th {\n",
       "        vertical-align: top;\n",
       "    }\n",
       "\n",
       "    .dataframe thead th {\n",
       "        text-align: right;\n",
       "    }\n",
       "</style>\n",
       "<table border=\"1\" class=\"dataframe\">\n",
       "  <thead>\n",
       "    <tr style=\"text-align: right;\">\n",
       "      <th></th>\n",
       "      <th>video</th>\n",
       "      <th>1</th>\n",
       "    </tr>\n",
       "  </thead>\n",
       "  <tbody>\n",
       "    <tr>\n",
       "      <th>78979</th>\n",
       "      <td>SUBSCRIBE  http://bit.ly/SSFootballSub\\nPREMIE...</td>\n",
       "      <td>0.86</td>\n",
       "    </tr>\n",
       "    <tr>\n",
       "      <th>97681</th>\n",
       "      <td>SUBSCRIBE  http://bit.ly/SSFootballSub\\nPREMIE...</td>\n",
       "      <td>0.86</td>\n",
       "    </tr>\n",
       "    <tr>\n",
       "      <th>74575</th>\n",
       "      <td>SUBSCRIBE  http://bit.ly/SSFootballSub\\nPREMIE...</td>\n",
       "      <td>0.85</td>\n",
       "    </tr>\n",
       "    <tr>\n",
       "      <th>79611</th>\n",
       "      <td>SUBSCRIBE  http://bit.ly/SSFootballSub\\nPREMIE...</td>\n",
       "      <td>0.85</td>\n",
       "    </tr>\n",
       "    <tr>\n",
       "      <th>80418</th>\n",
       "      <td>SUBSCRIBE  http://bit.ly/SSFootballSub\\nPREMIE...</td>\n",
       "      <td>0.85</td>\n",
       "    </tr>\n",
       "    <tr>\n",
       "      <th>111392</th>\n",
       "      <td>SUBSCRIBE  http://bit.ly/SSFootballSub\\nPREMIE...</td>\n",
       "      <td>0.85</td>\n",
       "    </tr>\n",
       "    <tr>\n",
       "      <th>92589</th>\n",
       "      <td>!    2   /      ?! \\n\\n : https://www.adid...</td>\n",
       "      <td>-0.22</td>\n",
       "    </tr>\n",
       "    <tr>\n",
       "      <th>110542</th>\n",
       "      <td>\\nhttps://youtu.be/eFdnIf1s3ZI\\n\\n\\nhttps://ww...</td>\n",
       "      <td>-0.22</td>\n",
       "    </tr>\n",
       "    <tr>\n",
       "      <th>109509</th>\n",
       "      <td>\\nhttps://www.youtube.com/watch?v=Gqfg0WTRHK8\\...</td>\n",
       "      <td>-0.23</td>\n",
       "    </tr>\n",
       "    <tr>\n",
       "      <th>109918</th>\n",
       "      <td>When something breaks or needs fixing, we all ...</td>\n",
       "      <td>-0.23</td>\n",
       "    </tr>\n",
       "    <tr>\n",
       "      <th>81191</th>\n",
       "      <td>Thank you.\\n\\nSupport me: https://www.patreon....</td>\n",
       "      <td>-0.24</td>\n",
       "    </tr>\n",
       "  </tbody>\n",
       "</table>\n",
       "</div>"
      ],
      "text/plain": [
       "                                                    video     1\n",
       "78979   SUBSCRIBE  http://bit.ly/SSFootballSub\\nPREMIE...  0.86\n",
       "97681   SUBSCRIBE  http://bit.ly/SSFootballSub\\nPREMIE...  0.86\n",
       "74575   SUBSCRIBE  http://bit.ly/SSFootballSub\\nPREMIE...  0.85\n",
       "79611   SUBSCRIBE  http://bit.ly/SSFootballSub\\nPREMIE...  0.85\n",
       "80418   SUBSCRIBE  http://bit.ly/SSFootballSub\\nPREMIE...  0.85\n",
       "111392  SUBSCRIBE  http://bit.ly/SSFootballSub\\nPREMIE...  0.85\n",
       "92589       !    2   /      ?! \\n\\n : https://www.adid... -0.22\n",
       "110542  \\nhttps://youtu.be/eFdnIf1s3ZI\\n\\n\\nhttps://ww... -0.22\n",
       "109509  \\nhttps://www.youtube.com/watch?v=Gqfg0WTRHK8\\... -0.23\n",
       "109918  When something breaks or needs fixing, we all ... -0.23\n",
       "81191   Thank you.\\n\\nSupport me: https://www.patreon.... -0.24"
      ]
     },
     "execution_count": 36,
     "metadata": {},
     "output_type": "execute_result"
    }
   ],
   "source": [
    "k = 1\n",
    "ix = [0,1,2,3,4,5,-5,-4,-3,-2,-1]\n",
    "df_svd.sort_values([k],ascending=False).iloc[ix,:][['video',k]].round(2)"
   ]
  },
  {
   "cell_type": "code",
   "execution_count": 37,
   "id": "efab3fef",
   "metadata": {},
   "outputs": [
    {
     "data": {
      "text/plain": [
       "\"SUBSCRIBE  http://bit.ly/SSFootballSub\\nPREMIER LEAGUE HIGHLIGHTS  http://bit.ly/SkySportsPLHighlights2021\\nHighlights from the Premier League, as Manchester United delayed Manchester City's Premier League coronation with a 2-0 win over their rivals. \\n\\nWatch Premier League LIVE on Sky Sports here  http://bit.ly/WatchSkyPL\\nTWITTER: https://twitter.com/skysportsfootball\\nFACEBOOK: http://www.facebook.com/skysports\\nWEBSITE: http://www.skysports.com/football\\n\\nMORE FROM SKY SPORTS ON YOUTUBE:\\nSKY SPORTS FOOTBALL: http://bit.ly/SSFootballSub\\nSKY SPORTS BOXING: http://bit.ly/SSBoxingSub\\nSKY SPORTS CRICKET: http://bit.ly/SubscribeSkyCricket\\nSOCCER AM: http://bit.ly/SoccerAMSub\\nSKY SPORTS F1: http://bit.ly/SubscribeSkyF1\\nSKY SPORTS: http://bit.ly/SkySportsSub\\nSKY SPORTS GOLF: https://bit.ly/SubscribeSkySportsGolf\""
      ]
     },
     "execution_count": 37,
     "metadata": {},
     "output_type": "execute_result"
    }
   ],
   "source": [
    "df_svd.iloc[78979]['video']"
   ]
  },
  {
   "cell_type": "code",
   "execution_count": 38,
   "id": "85068641",
   "metadata": {},
   "outputs": [
    {
     "data": {
      "text/plain": [
       "'Thank you.\\n\\nSupport me: https://www.patreon.com/user?u=9866256\\nTwitch: https://www.twitch.tv/jocat\\nMerch: https://www.redbubble.com/people/JoCat105/explore?page=1&sortOrder=recent \\nHit Point Press: https://hitpointpress.com?aff=4\\nTwitter: https://twitter.com/JoCat105\\nStream VODs: https://www.youtube.com/channel/UCqfq3qAqk-VUaX5ZGm8Zbhw\\nWebsite: https://www.jocat.net/\\nDiscord: https://discord.gg/xFMsw2r\\n\\nSpecial Guests:\\n-  | https://twitter.com/Takahata101 | https://www.youtube.com/user/takahata101\\n-   | https://twitter.com/DistortionDevil | https://www.youtube.com/user/Sypher782\\n-   | https://twitter.com/GaijinGoombah | https://www.youtube.com/user/GaijinGoomba\\n-   | https://twitter.com/CzBacklash | https://www.youtube.com/user/CzBacklash\\n-  | https://twitter.com/Octopimp | https://www.youtube.com/user/MasterYorgi\\n-   | https://twitter.com/MontyGlu | https://www.youtube.com/user/MontyGlu\\n-  | https://twitter.com/YaroShienVA | https://www.youtube.com/user/DragonMasterAssociat\\n-  | https://twitter.com/BrachyZoid | https://www.youtube.com/channel/UCz6Rc3WEWjP7o4eBiK90EMg\\n-   | https://twitter.com/Boo_Rad13y | https://www.youtube.com/channel/UCbLqpxkQMcd-vDey5OgtJcg\\n-  | https://twitter.com/SirMalervik\\n-   | https://twitter.com/TerranceDryeVA | https://www.youtube.com/user/ZekeX79\\n-  | https://twitter.com/caitlinc37\\n-   | https://twitter.com/DingoDoodles | https://www.youtube.com/channel/UCfPUcG3oCmXEYgdFuwlFh8w\\n-   | https://twitter.com/FelixIrnich\\n-   | https://twitter.com/Zeebashew | https://www.youtube.com/user/zeebashew\\n-   | https://twitter.com/PuffinForest | https://www.youtube.com/channel/UCUpkp-6fXuG9dqfoJ99XTmw\\n-   &  | https://twitter.com/OSPyoutube | https://www.youtube.com/user/RedEyesTakeWarning\\n-   | https://twitter.com/DavvyChappy | https://www.youtube.com/channel/UC1r4Y0yjS1wjq6Yw1ybcJHA\\n-     | https://twitter.com/XPtoLevel3 | https://www.youtube.com/user/TheDrModnar\\n-    | https://twitter.com/tulokthe | https://www.youtube.com/channel/UC5EfKWar21WkaYUSOwPWakg\\n-  | https://twitter.com/the_runesmith | https://www.youtube.com/channel/UCweFJojRAFuxyYxe4KHL8vw\\n-   | https://twitter.com/JessJackdaw | https://www.youtube.com/channel/UC3HyvfrwscLKtE_NmOQfWGw\\n-  | https://twitter.com/BirdCyclops | https://www.youtube.com/channel/UCCDWmgX1kc_tEXOd0OJmF_Q\\n-  | https://twitter.com/KanekuoYT | https://www.youtube.com/channel/UCVPgmnfgdUZV85yrO8vbn8Q\\n-     | https://twitter.com/Wystle_Wys | https://www.youtube.com/channel/UCeuCErMOpklJ-zQb_eiMaQw\\n-   | https://twitter.com/SimpleBlaine | https://www.youtube.com/channel/UC7Je57UJURMIx6lrXr3zO4g\\n-   | https://twitter.com/DerpsReba | https://www.youtube.com/channel/UCU0zyYHAn2WkOho3QeceWvA\\n- - | https://twitter.com/camicattweets | https://www.youtube.com/user/Nek0ShiChan\\n-  | https://twitter.com/feltheleb | https://www.youtube.com/channel/UCRgerkcASDuOL0dU_hY3LEg\\n-    | https://twitter.com/coolboybeebles | https://www.youtube.com/channel/UCUTNGafHJVmonQtWXP3dESw\\n-  | https://twitter.com/CrabCrit | https://www.youtube.com/channel/UCSIvTcuNzmGlGBQ3owdMZ1Q\\n-  | https://twitter.com/LoadingCrew | https://www.youtube.com/user/TheLoadingCrew\\n-   | https://twitter.com/ThatArtJack | \\n-   | https://twitter.com/matthewmercer | https://www.youtube.com/channel/UCpXBGqwsBkpvcYjsJBQ7LEQ\\n\\nAnd music by TheMusicReborn https://twitter.com/TheMusicReborn'"
      ]
     },
     "execution_count": 38,
     "metadata": {},
     "output_type": "execute_result"
    }
   ],
   "source": [
    "df_svd.iloc[81191]['video']"
   ]
  },
  {
   "cell_type": "markdown",
   "id": "bf0afa31",
   "metadata": {},
   "source": [
    "So that's hilarious. The two polar opposite channels are Sky Sports Football and JoCat. Let's see what other insightes we can find"
   ]
  },
  {
   "cell_type": "code",
   "execution_count": 50,
   "id": "4b820b07",
   "metadata": {},
   "outputs": [
    {
     "data": {
      "text/html": [
       "<div>\n",
       "<style scoped>\n",
       "    .dataframe tbody tr th:only-of-type {\n",
       "        vertical-align: middle;\n",
       "    }\n",
       "\n",
       "    .dataframe tbody tr th {\n",
       "        vertical-align: top;\n",
       "    }\n",
       "\n",
       "    .dataframe thead th {\n",
       "        text-align: right;\n",
       "    }\n",
       "</style>\n",
       "<table border=\"1\" class=\"dataframe\">\n",
       "  <thead>\n",
       "    <tr style=\"text-align: right;\">\n",
       "      <th></th>\n",
       "      <th>video</th>\n",
       "      <th>70</th>\n",
       "    </tr>\n",
       "  </thead>\n",
       "  <tbody>\n",
       "    <tr>\n",
       "      <th>72636</th>\n",
       "      <td>jake paul</td>\n",
       "      <td>0.34</td>\n",
       "    </tr>\n",
       "    <tr>\n",
       "      <th>60961</th>\n",
       "      <td>jake paul</td>\n",
       "      <td>0.34</td>\n",
       "    </tr>\n",
       "    <tr>\n",
       "      <th>61639</th>\n",
       "      <td>jake paul</td>\n",
       "      <td>0.34</td>\n",
       "    </tr>\n",
       "    <tr>\n",
       "      <th>50600</th>\n",
       "      <td>jake paul</td>\n",
       "      <td>0.34</td>\n",
       "    </tr>\n",
       "    <tr>\n",
       "      <th>53321</th>\n",
       "      <td>jake paul</td>\n",
       "      <td>0.34</td>\n",
       "    </tr>\n",
       "    <tr>\n",
       "      <th>49078</th>\n",
       "      <td>jake paul</td>\n",
       "      <td>0.34</td>\n",
       "    </tr>\n",
       "    <tr>\n",
       "      <th>45719</th>\n",
       "      <td>KSI ksi number 2 ksi new music ksiolajidebthd ...</td>\n",
       "      <td>-0.27</td>\n",
       "    </tr>\n",
       "    <tr>\n",
       "      <th>36248</th>\n",
       "      <td>KSI - Holiday (The KSI Show)</td>\n",
       "      <td>-0.27</td>\n",
       "    </tr>\n",
       "    <tr>\n",
       "      <th>66248</th>\n",
       "      <td>MusicVideo Lyrics KSI new music KSI Patience Y...</td>\n",
       "      <td>-0.27</td>\n",
       "    </tr>\n",
       "    <tr>\n",
       "      <th>56583</th>\n",
       "      <td>ksi ksi farm animals ksi craig david ksi reall...</td>\n",
       "      <td>-0.27</td>\n",
       "    </tr>\n",
       "    <tr>\n",
       "      <th>69725</th>\n",
       "      <td>ksi ksi moment moment ksi ksi all over the pla...</td>\n",
       "      <td>-0.29</td>\n",
       "    </tr>\n",
       "  </tbody>\n",
       "</table>\n",
       "</div>"
      ],
      "text/plain": [
       "                                                   video    70\n",
       "72636                                          jake paul  0.34\n",
       "60961                                          jake paul  0.34\n",
       "61639                                          jake paul  0.34\n",
       "50600                                          jake paul  0.34\n",
       "53321                                          jake paul  0.34\n",
       "49078                                          jake paul  0.34\n",
       "45719  KSI ksi number 2 ksi new music ksiolajidebthd ... -0.27\n",
       "36248                       KSI - Holiday (The KSI Show) -0.27\n",
       "66248  MusicVideo Lyrics KSI new music KSI Patience Y... -0.27\n",
       "56583  ksi ksi farm animals ksi craig david ksi reall... -0.27\n",
       "69725  ksi ksi moment moment ksi ksi all over the pla... -0.29"
      ]
     },
     "execution_count": 50,
     "metadata": {},
     "output_type": "execute_result"
    }
   ],
   "source": [
    "k = 70\n",
    "ix = [0,1,2,3,4,5,-5,-4,-3,-2,-1]\n",
    "df_svd.sort_values([k],ascending=False).iloc[ix,:][['video',k]].round(2)"
   ]
  },
  {
   "cell_type": "markdown",
   "id": "1bfc9df2",
   "metadata": {},
   "source": [
    "So apparently there's a big difference between Jake Paul and KSI. Huh. Their main connection is a boxing match between Logan Paul and KSI."
   ]
  },
  {
   "cell_type": "code",
   "execution_count": 88,
   "id": "240fd295",
   "metadata": {},
   "outputs": [
    {
     "data": {
      "text/html": [
       "<div>\n",
       "<style scoped>\n",
       "    .dataframe tbody tr th:only-of-type {\n",
       "        vertical-align: middle;\n",
       "    }\n",
       "\n",
       "    .dataframe tbody tr th {\n",
       "        vertical-align: top;\n",
       "    }\n",
       "\n",
       "    .dataframe thead th {\n",
       "        text-align: right;\n",
       "    }\n",
       "</style>\n",
       "<table border=\"1\" class=\"dataframe\">\n",
       "  <thead>\n",
       "    <tr style=\"text-align: right;\">\n",
       "      <th></th>\n",
       "      <th>video</th>\n",
       "      <th>131</th>\n",
       "    </tr>\n",
       "  </thead>\n",
       "  <tbody>\n",
       "    <tr>\n",
       "      <th>2567</th>\n",
       "      <td>It's Time To Open Up</td>\n",
       "      <td>0.26</td>\n",
       "    </tr>\n",
       "    <tr>\n",
       "      <th>23708</th>\n",
       "      <td>OUR FIRST TIME...</td>\n",
       "      <td>0.21</td>\n",
       "    </tr>\n",
       "    <tr>\n",
       "      <th>10156</th>\n",
       "      <td>Time to move!</td>\n",
       "      <td>0.21</td>\n",
       "    </tr>\n",
       "    <tr>\n",
       "      <th>101029</th>\n",
       "      <td>Emma Raducanu takes on Leylah Fernandez in the...</td>\n",
       "      <td>0.18</td>\n",
       "    </tr>\n",
       "    <tr>\n",
       "      <th>76509</th>\n",
       "      <td>Emma Raducanu takes on Shelby Rogers in Round ...</td>\n",
       "      <td>0.18</td>\n",
       "    </tr>\n",
       "    <tr>\n",
       "      <th>101902</th>\n",
       "      <td>An almost speechless Emma Raducanu gives her p...</td>\n",
       "      <td>0.18</td>\n",
       "    </tr>\n",
       "    <tr>\n",
       "      <th>11978</th>\n",
       "      <td>Baby Name Reveal!</td>\n",
       "      <td>-0.18</td>\n",
       "    </tr>\n",
       "    <tr>\n",
       "      <th>17414</th>\n",
       "      <td>OUR BABY'S NAME REVEAL! HIS NAME IS...</td>\n",
       "      <td>-0.18</td>\n",
       "    </tr>\n",
       "    <tr>\n",
       "      <th>31961</th>\n",
       "      <td>BABY NAME REVEAL</td>\n",
       "      <td>-0.18</td>\n",
       "    </tr>\n",
       "    <tr>\n",
       "      <th>52168</th>\n",
       "      <td>Little mix little mix not a pop song little mi...</td>\n",
       "      <td>-0.18</td>\n",
       "    </tr>\n",
       "    <tr>\n",
       "      <th>14904</th>\n",
       "      <td>Little Mix - Not a Pop Song (Lyric Video)</td>\n",
       "      <td>-0.19</td>\n",
       "    </tr>\n",
       "  </tbody>\n",
       "</table>\n",
       "</div>"
      ],
      "text/plain": [
       "                                                    video   131\n",
       "2567                                 It's Time To Open Up  0.26\n",
       "23708                                   OUR FIRST TIME...  0.21\n",
       "10156                                       Time to move!  0.21\n",
       "101029  Emma Raducanu takes on Leylah Fernandez in the...  0.18\n",
       "76509   Emma Raducanu takes on Shelby Rogers in Round ...  0.18\n",
       "101902  An almost speechless Emma Raducanu gives her p...  0.18\n",
       "11978                                   Baby Name Reveal! -0.18\n",
       "17414              OUR BABY'S NAME REVEAL! HIS NAME IS... -0.18\n",
       "31961                                    BABY NAME REVEAL -0.18\n",
       "52168   Little mix little mix not a pop song little mi... -0.18\n",
       "14904           Little Mix - Not a Pop Song (Lyric Video) -0.19"
      ]
     },
     "execution_count": 88,
     "metadata": {},
     "output_type": "execute_result"
    }
   ],
   "source": [
    "k = 131\n",
    "df_svd.sort_values([k],ascending=False).iloc[ix,:][['video',k]].round(2)"
   ]
  },
  {
   "cell_type": "code",
   "execution_count": 89,
   "id": "9ecae101",
   "metadata": {},
   "outputs": [
    {
     "data": {
      "text/plain": [
       "'OUR FIRST TIME...'"
      ]
     },
     "execution_count": 89,
     "metadata": {},
     "output_type": "execute_result"
    }
   ],
   "source": [
    "df_svd.iloc[23708]['video']"
   ]
  },
  {
   "cell_type": "code",
   "execution_count": 72,
   "id": "4df0d147",
   "metadata": {},
   "outputs": [],
   "source": [
    "vocab = pd.Series(vectorizer.get_feature_names())"
   ]
  },
  {
   "cell_type": "code",
   "execution_count": 79,
   "id": "9875d265",
   "metadata": {},
   "outputs": [
    {
     "data": {
      "text/plain": [
       "roblox     0.37\n",
       "kids       0.16\n",
       "stray      0.15\n",
       "makeup     0.13\n",
       "world      0.13\n",
       "la         0.11\n",
       "mv        -0.10\n",
       "try       -0.12\n",
       "warzone   -0.13\n",
       "west      -0.14\n",
       "cup       -0.19\n",
       "dtype: float64"
      ]
     },
     "execution_count": 79,
     "metadata": {},
     "output_type": "execute_result"
    }
   ],
   "source": [
    "components = svd.components_\n",
    "k = 124\n",
    "components = pd.Series(components[k,:],index=vocab)\n",
    "components.sort_values(ascending=False)[ix].round(2)"
   ]
  },
  {
   "cell_type": "code",
   "execution_count": null,
   "id": "eb0a0684",
   "metadata": {},
   "outputs": [],
   "source": []
  }
 ],
 "metadata": {
  "kernelspec": {
   "display_name": "Python 3 (ipykernel)",
   "language": "python",
   "name": "python3"
  },
  "language_info": {
   "codemirror_mode": {
    "name": "ipython",
    "version": 3
   },
   "file_extension": ".py",
   "mimetype": "text/x-python",
   "name": "python",
   "nbconvert_exporter": "python",
   "pygments_lexer": "ipython3",
   "version": "3.9.7"
  }
 },
 "nbformat": 4,
 "nbformat_minor": 5
}
